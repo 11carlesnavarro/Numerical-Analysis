{
 "cells": [
  {
   "cell_type": "markdown",
   "id": "31d29f13-72c6-4c5d-a0b5-3047f71816ec",
   "metadata": {},
   "source": [
    "# PEC 5: Integración y derivación numéricas "
   ]
  },
  {
   "cell_type": "code",
   "execution_count": 52,
   "id": "22336d23-9bb9-4b12-b8e4-4169fb7eb28a",
   "metadata": {},
   "outputs": [],
   "source": [
    "import sys\n",
    "sys.path.append(\"..\")\n",
    "import sympy as sp\n",
    "from sympy.plotting import plot as symplot\n",
    "import pandas as pd\n",
    "import numpy as np\n",
    "import array_to_latex as a2l\n",
    "from numpy import linspace\n",
    "import matplotlib.pyplot as plt\n",
    "from IPython.display import Math, Latex, Markdown"
   ]
  },
  {
   "cell_type": "markdown",
   "id": "8bd3ace8-a360-4e8e-82e0-a7bb60f01d45",
   "metadata": {},
   "source": [
    "## a) Calcular las integrales de Fresnel usando las aproximaciones dadas por la regla compuesta del trapecio"
   ]
  },
  {
   "cell_type": "code",
   "execution_count": 53,
   "id": "686a2f1f-7170-482d-a388-fa6ad209d6b7",
   "metadata": {},
   "outputs": [],
   "source": [
    "from trapezium import trapezium"
   ]
  },
  {
   "cell_type": "code",
   "execution_count": 54,
   "id": "c37f87a8-f9fa-4529-87fb-06ba5ef98a58",
   "metadata": {},
   "outputs": [
    {
     "data": {
      "text/markdown": [
       "Primero calculamos el resultado para $C(w) = \\int_0^wcos(\\frac{\\pi}{2}x^2)dx$"
      ],
      "text/plain": [
       "<IPython.core.display.Markdown object>"
      ]
     },
     "metadata": {},
     "output_type": "display_data"
    },
    {
     "data": {
      "text/markdown": [
       "Como usamos $w=5$, la función nos quedará: $C = \\int_0^5cos(\\frac{\\pi}{2}x^2)dx$"
      ],
      "text/plain": [
       "<IPython.core.display.Markdown object>"
      ]
     },
     "metadata": {},
     "output_type": "display_data"
    }
   ],
   "source": [
    "display(Markdown('Primero calculamos el resultado para $C(w) = \\int_0^wcos(\\\\frac{\\pi}{2}x^2)dx$'))\n",
    "display(Markdown('Como usamos $w=5$, la función nos quedará: $C = \\int_0^5cos(\\\\frac{\\pi}{2}x^2)dx$'))"
   ]
  },
  {
   "cell_type": "code",
   "execution_count": 55,
   "id": "ef156d82-4824-4878-9881-3f198fc0cdd6",
   "metadata": {},
   "outputs": [
    {
     "data": {
      "text/markdown": [
       "Resultado para $C = \\int_0^5cos(\\frac{\\pi}{2}x^2)dx$:"
      ],
      "text/plain": [
       "<IPython.core.display.Markdown object>"
      ]
     },
     "metadata": {},
     "output_type": "display_data"
    },
    {
     "data": {
      "text/html": [
       "<div>\n",
       "<style scoped>\n",
       "    .dataframe tbody tr th:only-of-type {\n",
       "        vertical-align: middle;\n",
       "    }\n",
       "\n",
       "    .dataframe tbody tr th {\n",
       "        vertical-align: top;\n",
       "    }\n",
       "\n",
       "    .dataframe thead th {\n",
       "        text-align: right;\n",
       "    }\n",
       "</style>\n",
       "<table border=\"1\" class=\"dataframe\">\n",
       "  <thead>\n",
       "    <tr style=\"text-align: right;\">\n",
       "      <th></th>\n",
       "      <th>0</th>\n",
       "      <th>1</th>\n",
       "      <th>2</th>\n",
       "      <th>3</th>\n",
       "      <th>4</th>\n",
       "      <th>5</th>\n",
       "      <th>6</th>\n",
       "      <th>7</th>\n",
       "      <th>8</th>\n",
       "      <th>9</th>\n",
       "    </tr>\n",
       "  </thead>\n",
       "  <tbody>\n",
       "    <tr>\n",
       "      <th>resultado</th>\n",
       "      <td>2.5</td>\n",
       "      <td>-1.05969883</td>\n",
       "      <td>-2.74009339</td>\n",
       "      <td>-0.55650208</td>\n",
       "      <td>-0.85258398</td>\n",
       "      <td>0.32113548</td>\n",
       "      <td>0.5279261</td>\n",
       "      <td>0.55543372</td>\n",
       "      <td>0.56162117</td>\n",
       "      <td>0.56313106</td>\n",
       "    </tr>\n",
       "    <tr>\n",
       "      <th>evaluaciones</th>\n",
       "      <td>2.0</td>\n",
       "      <td>3.00000000</td>\n",
       "      <td>5.00000000</td>\n",
       "      <td>7.00000000</td>\n",
       "      <td>9.00000000</td>\n",
       "      <td>17.00000000</td>\n",
       "      <td>33.0000000</td>\n",
       "      <td>65.00000000</td>\n",
       "      <td>129.00000000</td>\n",
       "      <td>257.00000000</td>\n",
       "    </tr>\n",
       "  </tbody>\n",
       "</table>\n",
       "</div>"
      ],
      "text/plain": [
       "                0           1           2           3           4  \\\n",
       "resultado     2.5 -1.05969883 -2.74009339 -0.55650208 -0.85258398   \n",
       "evaluaciones  2.0  3.00000000  5.00000000  7.00000000  9.00000000   \n",
       "\n",
       "                        5           6            7             8             9  \n",
       "resultado      0.32113548   0.5279261   0.55543372    0.56162117    0.56313106  \n",
       "evaluaciones  17.00000000  33.0000000  65.00000000  129.00000000  257.00000000  "
      ]
     },
     "metadata": {},
     "output_type": "display_data"
    }
   ],
   "source": [
    "# Definimos la función\n",
    "f_c = lambda x: np.cos((np.pi/2)*x**2)\n",
    "n_values = [1, 2, 4, 6, 8, 16, 32, 64, 128, 256]\n",
    "\n",
    "# Calculamos su valor con diferentes valores de n\n",
    "soluciones_c = {'resultado': [], 'evaluaciones': []}\n",
    "for n in n_values:\n",
    "    r, e = trapezium(f_c, 0, 5, n)\n",
    "    soluciones_c['resultado'].append(r)\n",
    "    soluciones_c['evaluaciones'].append(int(e))\n",
    "resultados_C_trapecio = pd.DataFrame(soluciones_c).T\n",
    "\n",
    "display(Markdown('Resultado para $C = \\int_0^5cos(\\\\frac{\\pi}{2}x^2)dx$:'))\n",
    "display(resultados_C_trapecio)\n",
    "resultados_C_trapecio.to_latex(\"latex/trapezium/trapezium_C.tex\")"
   ]
  },
  {
   "cell_type": "code",
   "execution_count": 56,
   "id": "65feea6f-7519-44a0-9322-633bb21d19bf",
   "metadata": {},
   "outputs": [
    {
     "data": {
      "text/markdown": [
       "Ahora hacemos lo mismo para $S(w) = \\int_0^wsin(\\frac{\\pi}{2}x^2)dx$"
      ],
      "text/plain": [
       "<IPython.core.display.Markdown object>"
      ]
     },
     "metadata": {},
     "output_type": "display_data"
    },
    {
     "data": {
      "text/markdown": [
       "Como usamos $w=5$, la función nos quedará: $S = \\int_0^5sin(\\frac{\\pi}{2}x^2)dx$"
      ],
      "text/plain": [
       "<IPython.core.display.Markdown object>"
      ]
     },
     "metadata": {},
     "output_type": "display_data"
    }
   ],
   "source": [
    "display(Markdown('Ahora hacemos lo mismo para $S(w) = \\int_0^wsin(\\\\frac{\\pi}{2}x^2)dx$'))\n",
    "display(Markdown('Como usamos $w=5$, la función nos quedará: $S = \\int_0^5sin(\\\\frac{\\pi}{2}x^2)dx$'))"
   ]
  },
  {
   "cell_type": "code",
   "execution_count": 57,
   "id": "23eb1748-9b57-4546-8e4b-daf8556dfaed",
   "metadata": {},
   "outputs": [
    {
     "data": {
      "text/markdown": [
       "Resultado para $S = \\int_0^5sin(\\frac{\\pi}{2}x^2)dx$:"
      ],
      "text/plain": [
       "<IPython.core.display.Markdown object>"
      ]
     },
     "metadata": {},
     "output_type": "display_data"
    },
    {
     "data": {
      "text/html": [
       "<div>\n",
       "<style scoped>\n",
       "    .dataframe tbody tr th:only-of-type {\n",
       "        vertical-align: middle;\n",
       "    }\n",
       "\n",
       "    .dataframe tbody tr th {\n",
       "        vertical-align: top;\n",
       "    }\n",
       "\n",
       "    .dataframe thead th {\n",
       "        text-align: right;\n",
       "    }\n",
       "</style>\n",
       "<table border=\"1\" class=\"dataframe\">\n",
       "  <thead>\n",
       "    <tr style=\"text-align: right;\">\n",
       "      <th></th>\n",
       "      <th>0</th>\n",
       "      <th>1</th>\n",
       "      <th>2</th>\n",
       "      <th>3</th>\n",
       "      <th>4</th>\n",
       "      <th>5</th>\n",
       "      <th>6</th>\n",
       "      <th>7</th>\n",
       "      <th>8</th>\n",
       "      <th>9</th>\n",
       "    </tr>\n",
       "  </thead>\n",
       "  <tbody>\n",
       "    <tr>\n",
       "      <th>resultado</th>\n",
       "      <td>2.5</td>\n",
       "      <td>0.29329142</td>\n",
       "      <td>0.81711589</td>\n",
       "      <td>-0.06398461</td>\n",
       "      <td>-0.04740421</td>\n",
       "      <td>0.528965</td>\n",
       "      <td>0.49939724</td>\n",
       "      <td>0.49920003</td>\n",
       "      <td>0.49919188</td>\n",
       "      <td>0.49919141</td>\n",
       "    </tr>\n",
       "    <tr>\n",
       "      <th>evaluaciones</th>\n",
       "      <td>2.0</td>\n",
       "      <td>3.00000000</td>\n",
       "      <td>5.00000000</td>\n",
       "      <td>7.00000000</td>\n",
       "      <td>9.00000000</td>\n",
       "      <td>17.000000</td>\n",
       "      <td>33.00000000</td>\n",
       "      <td>65.00000000</td>\n",
       "      <td>129.00000000</td>\n",
       "      <td>257.00000000</td>\n",
       "    </tr>\n",
       "  </tbody>\n",
       "</table>\n",
       "</div>"
      ],
      "text/plain": [
       "                0           1           2           3           4          5  \\\n",
       "resultado     2.5  0.29329142  0.81711589 -0.06398461 -0.04740421   0.528965   \n",
       "evaluaciones  2.0  3.00000000  5.00000000  7.00000000  9.00000000  17.000000   \n",
       "\n",
       "                        6            7             8             9  \n",
       "resultado      0.49939724   0.49920003    0.49919188    0.49919141  \n",
       "evaluaciones  33.00000000  65.00000000  129.00000000  257.00000000  "
      ]
     },
     "metadata": {},
     "output_type": "display_data"
    }
   ],
   "source": [
    "# Definimos la función\n",
    "f_s = lambda x: np.sin((np.pi/2)*x**2)\n",
    "n_values = [1, 2, 4, 6, 8, 16, 32, 64, 128, 256]\n",
    "\n",
    "# Calculamos su valor con diferentes valores de n\n",
    "soluciones_s = {'resultado': [], 'evaluaciones': []}\n",
    "for n in n_values:\n",
    "    r, e = trapezium(f_s, 0, 5, n)\n",
    "    soluciones_s['resultado'].append(r)\n",
    "    soluciones_s['evaluaciones'].append(int(e))\n",
    "resultados_S_trapecio = pd.DataFrame(soluciones_s).T\n",
    "\n",
    "display(Markdown('Resultado para $S = \\int_0^5sin(\\\\frac{\\pi}{2}x^2)dx$:'))\n",
    "display(resultados_S_trapecio)\n",
    "resultados_S_trapecio.to_latex(\"latex/trapezium/trapezium_S.tex\")"
   ]
  },
  {
   "cell_type": "markdown",
   "id": "2fd6f8d1-1fef-4c48-9499-81a2b94aaae0",
   "metadata": {},
   "source": [
    "## b) Usando los valores del apartado anterior, realizar la integración de Romberg para obtener una mejor aproximación numérica de las dos integrales de Fresnel."
   ]
  },
  {
   "cell_type": "code",
   "execution_count": 58,
   "id": "b78fdadf-0405-40c6-9fcd-17c687d12e65",
   "metadata": {},
   "outputs": [],
   "source": [
    "from romberg import romberg"
   ]
  },
  {
   "cell_type": "code",
   "execution_count": 59,
   "id": "5aec7278-3491-4eb6-a76d-a6d04c3f4e36",
   "metadata": {},
   "outputs": [
    {
     "data": {
      "text/markdown": [
       "Primero calculamos los resultados para $C(w) = \\int_0^wcos(\\frac{\\pi}{2}x^2)dx$"
      ],
      "text/plain": [
       "<IPython.core.display.Markdown object>"
      ]
     },
     "metadata": {},
     "output_type": "display_data"
    }
   ],
   "source": [
    "display(Markdown('Primero calculamos los resultados para $C(w) = \\int_0^wcos(\\\\frac{\\pi}{2}x^2)dx$'))"
   ]
  },
  {
   "cell_type": "code",
   "execution_count": 60,
   "id": "18406d1c-a6e3-4f9b-a899-79e80add2e4a",
   "metadata": {},
   "outputs": [
    {
     "data": {
      "text/markdown": [
       "Resultado para $C = \\int_0^5cos(\\frac{\\pi}{2}x^2)dx$:"
      ],
      "text/plain": [
       "<IPython.core.display.Markdown object>"
      ]
     },
     "metadata": {},
     "output_type": "display_data"
    },
    {
     "data": {
      "text/html": [
       "<div>\n",
       "<style scoped>\n",
       "    .dataframe tbody tr th:only-of-type {\n",
       "        vertical-align: middle;\n",
       "    }\n",
       "\n",
       "    .dataframe tbody tr th {\n",
       "        vertical-align: top;\n",
       "    }\n",
       "\n",
       "    .dataframe thead th {\n",
       "        text-align: right;\n",
       "    }\n",
       "</style>\n",
       "<table border=\"1\" class=\"dataframe\">\n",
       "  <thead>\n",
       "    <tr style=\"text-align: right;\">\n",
       "      <th></th>\n",
       "      <th>$O(h{_k}{^2})$</th>\n",
       "      <th>$O(h{_k}^{4})$</th>\n",
       "      <th>$O(h{_k}{^6})$</th>\n",
       "      <th>$O(h{_k}{^8})$</th>\n",
       "      <th>$O(h{_k}{^{10}})$</th>\n",
       "      <th>$O(h{_k}{^{12}})$</th>\n",
       "      <th>$O(h{_k}{^{14}})$</th>\n",
       "      <th>$O(h{_k}{^{16}})$</th>\n",
       "      <th>$O(h{_k}{^{18}})$</th>\n",
       "    </tr>\n",
       "    <tr>\n",
       "      <th>n</th>\n",
       "      <th></th>\n",
       "      <th></th>\n",
       "      <th></th>\n",
       "      <th></th>\n",
       "      <th></th>\n",
       "      <th></th>\n",
       "      <th></th>\n",
       "      <th></th>\n",
       "      <th></th>\n",
       "    </tr>\n",
       "  </thead>\n",
       "  <tbody>\n",
       "    <tr>\n",
       "      <th>1</th>\n",
       "      <td>2.50000000</td>\n",
       "      <td>0.00000000</td>\n",
       "      <td>0.00000000</td>\n",
       "      <td>0.00000000</td>\n",
       "      <td>0.00000000</td>\n",
       "      <td>0.00000000</td>\n",
       "      <td>0.00000000</td>\n",
       "      <td>0.00000000</td>\n",
       "      <td>0.00000000</td>\n",
       "    </tr>\n",
       "    <tr>\n",
       "      <th>2</th>\n",
       "      <td>-1.05969883</td>\n",
       "      <td>-2.24626511</td>\n",
       "      <td>0.00000000</td>\n",
       "      <td>0.00000000</td>\n",
       "      <td>0.00000000</td>\n",
       "      <td>0.00000000</td>\n",
       "      <td>0.00000000</td>\n",
       "      <td>0.00000000</td>\n",
       "      <td>0.00000000</td>\n",
       "    </tr>\n",
       "    <tr>\n",
       "      <th>4</th>\n",
       "      <td>-2.74009339</td>\n",
       "      <td>-3.30022491</td>\n",
       "      <td>-3.37048890</td>\n",
       "      <td>0.00000000</td>\n",
       "      <td>0.00000000</td>\n",
       "      <td>0.00000000</td>\n",
       "      <td>0.00000000</td>\n",
       "      <td>0.00000000</td>\n",
       "      <td>0.00000000</td>\n",
       "    </tr>\n",
       "    <tr>\n",
       "      <th>8</th>\n",
       "      <td>-0.85258398</td>\n",
       "      <td>-0.22341418</td>\n",
       "      <td>-0.01829347</td>\n",
       "      <td>0.03491598</td>\n",
       "      <td>0.00000000</td>\n",
       "      <td>0.00000000</td>\n",
       "      <td>0.00000000</td>\n",
       "      <td>0.00000000</td>\n",
       "      <td>0.00000000</td>\n",
       "    </tr>\n",
       "    <tr>\n",
       "      <th>16</th>\n",
       "      <td>0.32113548</td>\n",
       "      <td>0.71237530</td>\n",
       "      <td>0.77476126</td>\n",
       "      <td>0.78734943</td>\n",
       "      <td>0.79030015</td>\n",
       "      <td>0.00000000</td>\n",
       "      <td>0.00000000</td>\n",
       "      <td>0.00000000</td>\n",
       "      <td>0.00000000</td>\n",
       "    </tr>\n",
       "    <tr>\n",
       "      <th>32</th>\n",
       "      <td>0.52792610</td>\n",
       "      <td>0.59685631</td>\n",
       "      <td>0.58915504</td>\n",
       "      <td>0.58620891</td>\n",
       "      <td>0.58542013</td>\n",
       "      <td>0.58521985</td>\n",
       "      <td>0.00000000</td>\n",
       "      <td>0.00000000</td>\n",
       "      <td>0.00000000</td>\n",
       "    </tr>\n",
       "    <tr>\n",
       "      <th>64</th>\n",
       "      <td>0.55543372</td>\n",
       "      <td>0.56460293</td>\n",
       "      <td>0.56245270</td>\n",
       "      <td>0.56202886</td>\n",
       "      <td>0.56193403</td>\n",
       "      <td>0.56191108</td>\n",
       "      <td>0.56190538</td>\n",
       "      <td>0.00000000</td>\n",
       "      <td>0.00000000</td>\n",
       "    </tr>\n",
       "    <tr>\n",
       "      <th>128</th>\n",
       "      <td>0.56162117</td>\n",
       "      <td>0.56368365</td>\n",
       "      <td>0.56362237</td>\n",
       "      <td>0.56364094</td>\n",
       "      <td>0.56364726</td>\n",
       "      <td>0.56364893</td>\n",
       "      <td>0.56364936</td>\n",
       "      <td>0.56364946</td>\n",
       "      <td>0.00000000</td>\n",
       "    </tr>\n",
       "    <tr>\n",
       "      <th>256</th>\n",
       "      <td>0.56313106</td>\n",
       "      <td>0.56363436</td>\n",
       "      <td>0.56363107</td>\n",
       "      <td>0.56363121</td>\n",
       "      <td>0.56363117</td>\n",
       "      <td>0.56363116</td>\n",
       "      <td>0.56363115</td>\n",
       "      <td>0.56363115</td>\n",
       "      <td>0.56363115</td>\n",
       "    </tr>\n",
       "  </tbody>\n",
       "</table>\n",
       "</div>"
      ],
      "text/plain": [
       "     $O(h{_k}{^2})$  $O(h{_k}^{4})$  $O(h{_k}{^6})$  $O(h{_k}{^8})$  \\\n",
       "n                                                                     \n",
       "1        2.50000000      0.00000000      0.00000000      0.00000000   \n",
       "2       -1.05969883     -2.24626511      0.00000000      0.00000000   \n",
       "4       -2.74009339     -3.30022491     -3.37048890      0.00000000   \n",
       "8       -0.85258398     -0.22341418     -0.01829347      0.03491598   \n",
       "16       0.32113548      0.71237530      0.77476126      0.78734943   \n",
       "32       0.52792610      0.59685631      0.58915504      0.58620891   \n",
       "64       0.55543372      0.56460293      0.56245270      0.56202886   \n",
       "128      0.56162117      0.56368365      0.56362237      0.56364094   \n",
       "256      0.56313106      0.56363436      0.56363107      0.56363121   \n",
       "\n",
       "     $O(h{_k}{^{10}})$  $O(h{_k}{^{12}})$  $O(h{_k}{^{14}})$  \\\n",
       "n                                                              \n",
       "1           0.00000000         0.00000000         0.00000000   \n",
       "2           0.00000000         0.00000000         0.00000000   \n",
       "4           0.00000000         0.00000000         0.00000000   \n",
       "8           0.00000000         0.00000000         0.00000000   \n",
       "16          0.79030015         0.00000000         0.00000000   \n",
       "32          0.58542013         0.58521985         0.00000000   \n",
       "64          0.56193403         0.56191108         0.56190538   \n",
       "128         0.56364726         0.56364893         0.56364936   \n",
       "256         0.56363117         0.56363116         0.56363115   \n",
       "\n",
       "     $O(h{_k}{^{16}})$  $O(h{_k}{^{18}})$  \n",
       "n                                          \n",
       "1           0.00000000         0.00000000  \n",
       "2           0.00000000         0.00000000  \n",
       "4           0.00000000         0.00000000  \n",
       "8           0.00000000         0.00000000  \n",
       "16          0.00000000         0.00000000  \n",
       "32          0.00000000         0.00000000  \n",
       "64          0.00000000         0.00000000  \n",
       "128         0.56364946         0.00000000  \n",
       "256         0.56363115         0.56363115  "
      ]
     },
     "metadata": {},
     "output_type": "display_data"
    }
   ],
   "source": [
    "# Definimos la función\n",
    "f_c = lambda x: np.cos((np.pi/2)*x**2)\n",
    "n_values = [1, 2, 4, 6, 8, 16, 32, 64, 128, 256]\n",
    "columnas = ['$O(h{_k}{^2})$', '$O(h{_k}^{4})$', '$O(h{_k}{^6})$', '$O(h{_k}{^8})$', '$O(h{_k}{^{10}})$',\\\n",
    "            '$O(h{_k}{^{12}})$', '$O(h{_k}{^{14}})$', '$O(h{_k}{^{16}})$', '$O(h{_k}{^{18}})$']\n",
    "\n",
    "\n",
    "# Calculamos la tabla de valores de Romberg\n",
    "I_C = romberg(f_c, 0, 5, 9)\n",
    "pd.set_option('display.precision', 8)\n",
    "tabla_C =pd.DataFrame(I_C, index=[1, 2, 4, 8, 16, 32, 64, 128, 256], columns=columnas)\n",
    "tabla_C.index.name = 'n'\n",
    "display(Markdown('Resultado para $C = \\int_0^5cos(\\\\frac{\\pi}{2}x^2)dx$:'))\n",
    "display(tabla_C)\n",
    "tabla_C.to_latex(\"latex/romberg/romberg_C.tex\")\n",
    "\n",
    "\n",
    "#resultados_C.to_latex(\"latex/trapezium/trapezium_C.tex\")"
   ]
  },
  {
   "cell_type": "code",
   "execution_count": 61,
   "id": "6b6a74cd-5195-4a62-acdd-799b28c83a9a",
   "metadata": {},
   "outputs": [
    {
     "data": {
      "text/markdown": [
       "Ahora calculamos los resultados para $S(w) = \\int_0^wcos(\\frac{\\pi}{2}x^2)dx$"
      ],
      "text/plain": [
       "<IPython.core.display.Markdown object>"
      ]
     },
     "metadata": {},
     "output_type": "display_data"
    }
   ],
   "source": [
    "display(Markdown('Ahora calculamos los resultados para $S(w) = \\int_0^wcos(\\\\frac{\\pi}{2}x^2)dx$'))"
   ]
  },
  {
   "cell_type": "code",
   "execution_count": 62,
   "id": "285254d7-0029-471a-8e3c-fefa520aca90",
   "metadata": {},
   "outputs": [
    {
     "data": {
      "text/markdown": [
       "Resultado para $S = \\int_0^5sin(\\frac{\\pi}{2}x^2)dx$:"
      ],
      "text/plain": [
       "<IPython.core.display.Markdown object>"
      ]
     },
     "metadata": {},
     "output_type": "display_data"
    },
    {
     "data": {
      "text/html": [
       "<div>\n",
       "<style scoped>\n",
       "    .dataframe tbody tr th:only-of-type {\n",
       "        vertical-align: middle;\n",
       "    }\n",
       "\n",
       "    .dataframe tbody tr th {\n",
       "        vertical-align: top;\n",
       "    }\n",
       "\n",
       "    .dataframe thead th {\n",
       "        text-align: right;\n",
       "    }\n",
       "</style>\n",
       "<table border=\"1\" class=\"dataframe\">\n",
       "  <thead>\n",
       "    <tr style=\"text-align: right;\">\n",
       "      <th></th>\n",
       "      <th>$O(h{_k}{^2})$</th>\n",
       "      <th>$O(h{_k}^{4})$</th>\n",
       "      <th>$O(h{_k}{^6})$</th>\n",
       "      <th>$O(h{_k}{^8})$</th>\n",
       "      <th>$O(h{_k}{^{10}})$</th>\n",
       "      <th>$O(h{_k}{^{12}})$</th>\n",
       "      <th>$O(h{_k}{^{14}})$</th>\n",
       "      <th>$O(h{_k}{^{16}})$</th>\n",
       "      <th>$O(h{_k}{^{18}})$</th>\n",
       "    </tr>\n",
       "    <tr>\n",
       "      <th>n</th>\n",
       "      <th></th>\n",
       "      <th></th>\n",
       "      <th></th>\n",
       "      <th></th>\n",
       "      <th></th>\n",
       "      <th></th>\n",
       "      <th></th>\n",
       "      <th></th>\n",
       "      <th></th>\n",
       "    </tr>\n",
       "  </thead>\n",
       "  <tbody>\n",
       "    <tr>\n",
       "      <th>1</th>\n",
       "      <td>2.50000000</td>\n",
       "      <td>0.00000000</td>\n",
       "      <td>0.00000000</td>\n",
       "      <td>0.00000000</td>\n",
       "      <td>0.00000000</td>\n",
       "      <td>0.00000000</td>\n",
       "      <td>0.00000000</td>\n",
       "      <td>0.00000000</td>\n",
       "      <td>0.00000000</td>\n",
       "    </tr>\n",
       "    <tr>\n",
       "      <th>2</th>\n",
       "      <td>0.29329142</td>\n",
       "      <td>-0.44227811</td>\n",
       "      <td>0.00000000</td>\n",
       "      <td>0.00000000</td>\n",
       "      <td>0.00000000</td>\n",
       "      <td>0.00000000</td>\n",
       "      <td>0.00000000</td>\n",
       "      <td>0.00000000</td>\n",
       "      <td>0.00000000</td>\n",
       "    </tr>\n",
       "    <tr>\n",
       "      <th>4</th>\n",
       "      <td>0.81711589</td>\n",
       "      <td>0.99172405</td>\n",
       "      <td>1.08732419</td>\n",
       "      <td>0.00000000</td>\n",
       "      <td>0.00000000</td>\n",
       "      <td>0.00000000</td>\n",
       "      <td>0.00000000</td>\n",
       "      <td>0.00000000</td>\n",
       "      <td>0.00000000</td>\n",
       "    </tr>\n",
       "    <tr>\n",
       "      <th>8</th>\n",
       "      <td>-0.04740421</td>\n",
       "      <td>-0.33557758</td>\n",
       "      <td>-0.42406435</td>\n",
       "      <td>-0.44805464</td>\n",
       "      <td>0.00000000</td>\n",
       "      <td>0.00000000</td>\n",
       "      <td>0.00000000</td>\n",
       "      <td>0.00000000</td>\n",
       "      <td>0.00000000</td>\n",
       "    </tr>\n",
       "    <tr>\n",
       "      <th>16</th>\n",
       "      <td>0.52896500</td>\n",
       "      <td>0.72108807</td>\n",
       "      <td>0.79153245</td>\n",
       "      <td>0.81082764</td>\n",
       "      <td>0.81576443</td>\n",
       "      <td>0.00000000</td>\n",
       "      <td>0.00000000</td>\n",
       "      <td>0.00000000</td>\n",
       "      <td>0.00000000</td>\n",
       "    </tr>\n",
       "    <tr>\n",
       "      <th>32</th>\n",
       "      <td>0.49939724</td>\n",
       "      <td>0.48954132</td>\n",
       "      <td>0.47410487</td>\n",
       "      <td>0.46906633</td>\n",
       "      <td>0.46772609</td>\n",
       "      <td>0.46738588</td>\n",
       "      <td>0.00000000</td>\n",
       "      <td>0.00000000</td>\n",
       "      <td>0.00000000</td>\n",
       "    </tr>\n",
       "    <tr>\n",
       "      <th>64</th>\n",
       "      <td>0.49920003</td>\n",
       "      <td>0.49913430</td>\n",
       "      <td>0.49977383</td>\n",
       "      <td>0.50018128</td>\n",
       "      <td>0.50030330</td>\n",
       "      <td>0.50033514</td>\n",
       "      <td>0.50034319</td>\n",
       "      <td>0.00000000</td>\n",
       "      <td>0.00000000</td>\n",
       "    </tr>\n",
       "    <tr>\n",
       "      <th>128</th>\n",
       "      <td>0.49919188</td>\n",
       "      <td>0.49918916</td>\n",
       "      <td>0.49919281</td>\n",
       "      <td>0.49918359</td>\n",
       "      <td>0.49917968</td>\n",
       "      <td>0.49917858</td>\n",
       "      <td>0.49917830</td>\n",
       "      <td>0.49917823</td>\n",
       "      <td>0.00000000</td>\n",
       "    </tr>\n",
       "    <tr>\n",
       "      <th>256</th>\n",
       "      <td>0.49919141</td>\n",
       "      <td>0.49919126</td>\n",
       "      <td>0.49919140</td>\n",
       "      <td>0.49919138</td>\n",
       "      <td>0.49919141</td>\n",
       "      <td>0.49919142</td>\n",
       "      <td>0.49919142</td>\n",
       "      <td>0.49919142</td>\n",
       "      <td>0.49919142</td>\n",
       "    </tr>\n",
       "  </tbody>\n",
       "</table>\n",
       "</div>"
      ],
      "text/plain": [
       "     $O(h{_k}{^2})$  $O(h{_k}^{4})$  $O(h{_k}{^6})$  $O(h{_k}{^8})$  \\\n",
       "n                                                                     \n",
       "1        2.50000000      0.00000000      0.00000000      0.00000000   \n",
       "2        0.29329142     -0.44227811      0.00000000      0.00000000   \n",
       "4        0.81711589      0.99172405      1.08732419      0.00000000   \n",
       "8       -0.04740421     -0.33557758     -0.42406435     -0.44805464   \n",
       "16       0.52896500      0.72108807      0.79153245      0.81082764   \n",
       "32       0.49939724      0.48954132      0.47410487      0.46906633   \n",
       "64       0.49920003      0.49913430      0.49977383      0.50018128   \n",
       "128      0.49919188      0.49918916      0.49919281      0.49918359   \n",
       "256      0.49919141      0.49919126      0.49919140      0.49919138   \n",
       "\n",
       "     $O(h{_k}{^{10}})$  $O(h{_k}{^{12}})$  $O(h{_k}{^{14}})$  \\\n",
       "n                                                              \n",
       "1           0.00000000         0.00000000         0.00000000   \n",
       "2           0.00000000         0.00000000         0.00000000   \n",
       "4           0.00000000         0.00000000         0.00000000   \n",
       "8           0.00000000         0.00000000         0.00000000   \n",
       "16          0.81576443         0.00000000         0.00000000   \n",
       "32          0.46772609         0.46738588         0.00000000   \n",
       "64          0.50030330         0.50033514         0.50034319   \n",
       "128         0.49917968         0.49917858         0.49917830   \n",
       "256         0.49919141         0.49919142         0.49919142   \n",
       "\n",
       "     $O(h{_k}{^{16}})$  $O(h{_k}{^{18}})$  \n",
       "n                                          \n",
       "1           0.00000000         0.00000000  \n",
       "2           0.00000000         0.00000000  \n",
       "4           0.00000000         0.00000000  \n",
       "8           0.00000000         0.00000000  \n",
       "16          0.00000000         0.00000000  \n",
       "32          0.00000000         0.00000000  \n",
       "64          0.00000000         0.00000000  \n",
       "128         0.49917823         0.00000000  \n",
       "256         0.49919142         0.49919142  "
      ]
     },
     "metadata": {},
     "output_type": "display_data"
    }
   ],
   "source": [
    "# Definimos la función\n",
    "f_s = lambda x: np.sin((np.pi/2)*x**2)\n",
    "n_values = [1, 2, 4, 6, 8, 16, 32, 64, 128, 256]\n",
    "columnas = ['$O(h{_k}{^2})$', '$O(h{_k}^{4})$', '$O(h{_k}{^6})$', '$O(h{_k}{^8})$', '$O(h{_k}{^{10}})$',\\\n",
    "            '$O(h{_k}{^{12}})$', '$O(h{_k}{^{14}})$', '$O(h{_k}{^{16}})$', '$O(h{_k}{^{18}})$']\n",
    "\n",
    "\n",
    "# Calculamos la tabla de valores de Romberg\n",
    "I_S = romberg(f_s, 0, 5, 9)\n",
    "pd.set_option('display.precision', 8)\n",
    "tabla_S =pd.DataFrame(I_S, index=[1, 2, 4, 8, 16, 32, 64, 128, 256], columns=columnas)\n",
    "tabla_S.index.name = 'n'\n",
    "display(Markdown('Resultado para $S = \\int_0^5sin(\\\\frac{\\pi}{2}x^2)dx$:'))\n",
    "display(tabla_S)\n",
    "tabla_S.to_latex(\"latex/romberg/romberg_S.tex\")\n",
    "\n",
    "\n",
    "#resultados_C.to_latex(\"latex/trapezium/trapezium_C.tex\")"
   ]
  },
  {
   "cell_type": "markdown",
   "id": "70928973-2fa0-4ad8-8525-2eadedaef6ad",
   "metadata": {},
   "source": [
    "## c) Calcular C(w) y S(w) para w=5 utilizando la cuadratura gaussiana de 64 puntos."
   ]
  },
  {
   "cell_type": "code",
   "execution_count": 63,
   "id": "db7da274-6593-4665-ada6-40d2d4ff45bf",
   "metadata": {},
   "outputs": [],
   "source": [
    "from cgauss import cgauss_file"
   ]
  },
  {
   "cell_type": "code",
   "execution_count": 64,
   "id": "767c95ca-0001-451a-b1fe-bf5d202e9303",
   "metadata": {},
   "outputs": [
    {
     "data": {
      "text/markdown": [
       "Resultado para $C=\\int_0^5\\cos\\left(\\frac{\\pi}{2}x^2\\right)dx $"
      ],
      "text/plain": [
       "<IPython.core.display.Markdown object>"
      ]
     },
     "metadata": {},
     "output_type": "display_data"
    },
    {
     "data": {
      "text/markdown": [
       "0.5636311887040101"
      ],
      "text/plain": [
       "<IPython.core.display.Markdown object>"
      ]
     },
     "metadata": {},
     "output_type": "display_data"
    }
   ],
   "source": [
    "f_c = lambda x: np.cos((np.pi/2)*x**2)\n",
    "file = 'QG64.dat'\n",
    "result_C = cgauss_file(f_c, 0, 5, file) \n",
    "\n",
    "display(Markdown('Resultado para $C=\\\\int_0^5\\\\cos\\\\left(\\\\frac{\\\\pi}{2}x^2\\\\right)dx $'))\n",
    "display(Markdown('{}'.format(result_C)))"
   ]
  },
  {
   "cell_type": "code",
   "execution_count": 65,
   "id": "e40699d5-7313-413d-ac1f-c7ddbdd6070e",
   "metadata": {},
   "outputs": [
    {
     "data": {
      "text/markdown": [
       "Resultado para $C=\\int_0^5\\sin\\left(\\frac{\\pi}{2}x^2\\right)dx $"
      ],
      "text/plain": [
       "<IPython.core.display.Markdown object>"
      ]
     },
     "metadata": {},
     "output_type": "display_data"
    },
    {
     "data": {
      "text/markdown": [
       "0.499191381917117"
      ],
      "text/plain": [
       "<IPython.core.display.Markdown object>"
      ]
     },
     "metadata": {},
     "output_type": "display_data"
    }
   ],
   "source": [
    "f_s = lambda x: np.sin((np.pi/2)*x**2)\n",
    "file = 'QG64.dat'\n",
    "result_S = cgauss_file(f_s, 0, 5, file) \n",
    "\n",
    "display(Markdown('Resultado para $C=\\\\int_0^5\\\\sin\\\\left(\\\\frac{\\\\pi}{2}x^2\\\\right)dx $'))\n",
    "display(Markdown('{}'.format(result_S)))"
   ]
  },
  {
   "cell_type": "markdown",
   "id": "0b93c6c5-8010-4188-a0d2-11e061bbc711",
   "metadata": {},
   "source": [
    "## d) Calcular los errores absolutos contenidos en la estimación de las integrales con los métodos en relación a las estimaciones obtenidas en el apartado b)"
   ]
  },
  {
   "cell_type": "code",
   "execution_count": 70,
   "id": "fdc31450-f314-4701-bd0f-262fabcd6bc9",
   "metadata": {},
   "outputs": [
    {
     "name": "stdout",
     "output_type": "stream",
     "text": [
      "0.5619053837640446 0.5003431859966261\n",
      "0.5636311494730971 0.4991914214910446\n",
      "0.5631310609097672 0.49919141206291706\n",
      "0.5636311887040101 0.499191381917117\n"
     ]
    }
   ],
   "source": [
    "#####################\n",
    "# Errores absolutos #\n",
    "#####################\n",
    "\n",
    "# Valores para n = 64\n",
    "c_romberg = I_C[6, 6]\n",
    "s_romberg = I_S[6, 6]\n",
    "\n",
    "# Valores para n = 256\n",
    "c_romberg256 = I_C[8, 8]\n",
    "s_romberg256 = I_S[8, 8]\n",
    "\n",
    "c_trapecio = resultados_C_trapecio[9]['resultado']\n",
    "s_trapecio = resultados_S_trapecio[9]['resultado']\n",
    "\n",
    "c_cuadratura = result_C\n",
    "s_cuadratura = result_S\n",
    "\n",
    "print(c_romberg, s_romberg)\n",
    "print(c_romberg256, s_romberg256)\n",
    "print(c_trapecio, s_trapecio)\n",
    "print(c_cuadratura, s_cuadratura)\n",
    "\n",
    "absoluto_c_trapecio = abs(c_romberg - c_trapecio)\n",
    "absoluto_c_cuadratura = abs(c_romberg - c_cuadratura)\n",
    "\n",
    "absoluto_s_trapecio = abs(s_romberg - s_trapecio)\n",
    "absoluto_s_cuadratura = abs(s_romberg - s_cuadratura)\n",
    "\n",
    "absoluto_c_trapecio256 = abs(c_romberg256 - c_trapecio)\n",
    "absoluto_c_cuadratura256 = abs(c_romberg256 - c_cuadratura)\n",
    "\n",
    "absoluto_s_trapecio256 = abs(s_romberg256 - s_trapecio)\n",
    "absoluto_s_cuadratura256 = abs(s_romberg256 - s_cuadratura)\n"
   ]
  },
  {
   "cell_type": "code",
   "execution_count": 69,
   "id": "d2e19b42-f2ab-4660-a5b0-ddae99a51c29",
   "metadata": {},
   "outputs": [
    {
     "data": {
      "text/markdown": [
       "**Error absoluto para la integral C**"
      ],
      "text/plain": [
       "<IPython.core.display.Markdown object>"
      ]
     },
     "metadata": {},
     "output_type": "display_data"
    },
    {
     "data": {
      "text/markdown": [
       "* Regla del trapecio: 0.0012256771457225257"
      ],
      "text/plain": [
       "<IPython.core.display.Markdown object>"
      ]
     },
     "metadata": {},
     "output_type": "display_data"
    },
    {
     "data": {
      "text/markdown": [
       "* Cuadratura gaussiana: 0.0017258049399654363"
      ],
      "text/plain": [
       "<IPython.core.display.Markdown object>"
      ]
     },
     "metadata": {},
     "output_type": "display_data"
    },
    {
     "data": {
      "text/markdown": [
       "**Error absoluto para la integral S**"
      ],
      "text/plain": [
       "<IPython.core.display.Markdown object>"
      ]
     },
     "metadata": {},
     "output_type": "display_data"
    },
    {
     "data": {
      "text/markdown": [
       "* Regla del trapecio: 0.0011517739337090216"
      ],
      "text/plain": [
       "<IPython.core.display.Markdown object>"
      ]
     },
     "metadata": {},
     "output_type": "display_data"
    },
    {
     "data": {
      "text/markdown": [
       "* Cuadratura gaussiana: 0.0011518040795091"
      ],
      "text/plain": [
       "<IPython.core.display.Markdown object>"
      ]
     },
     "metadata": {},
     "output_type": "display_data"
    },
    {
     "data": {
      "text/markdown": [
       "**Error absoluto para la integral C 256**"
      ],
      "text/plain": [
       "<IPython.core.display.Markdown object>"
      ]
     },
     "metadata": {},
     "output_type": "display_data"
    },
    {
     "data": {
      "text/markdown": [
       "* Regla del trapecio: 0.0005000885633299479"
      ],
      "text/plain": [
       "<IPython.core.display.Markdown object>"
      ]
     },
     "metadata": {},
     "output_type": "display_data"
    },
    {
     "data": {
      "text/markdown": [
       "* Cuadratura gaussiana: 3.923091296265113e-08"
      ],
      "text/plain": [
       "<IPython.core.display.Markdown object>"
      ]
     },
     "metadata": {},
     "output_type": "display_data"
    },
    {
     "data": {
      "text/markdown": [
       "**Error absoluto para la integral S 256**"
      ],
      "text/plain": [
       "<IPython.core.display.Markdown object>"
      ]
     },
     "metadata": {},
     "output_type": "display_data"
    },
    {
     "data": {
      "text/markdown": [
       "* Regla del trapecio: 9.4281275564434e-09"
      ],
      "text/plain": [
       "<IPython.core.display.Markdown object>"
      ]
     },
     "metadata": {},
     "output_type": "display_data"
    },
    {
     "data": {
      "text/markdown": [
       "* Cuadratura gaussiana: 3.9573927634872774e-08"
      ],
      "text/plain": [
       "<IPython.core.display.Markdown object>"
      ]
     },
     "metadata": {},
     "output_type": "display_data"
    }
   ],
   "source": [
    "display(Markdown('**Error absoluto para la integral C**'))\n",
    "display(Markdown('* Regla del trapecio: {}'.format(absoluto_c_trapecio)))\n",
    "display(Markdown('* Cuadratura gaussiana: {}'.format(absoluto_c_cuadratura)))\n",
    "\n",
    "display(Markdown('**Error absoluto para la integral S**'))\n",
    "display(Markdown('* Regla del trapecio: {}'.format(absoluto_s_trapecio)))\n",
    "display(Markdown('* Cuadratura gaussiana: {}'.format(absoluto_s_cuadratura)))\n",
    "\n",
    "display(Markdown('**Error absoluto para la integral C 256**'))\n",
    "display(Markdown('* Regla del trapecio: {}'.format(absoluto_c_trapecio256)))\n",
    "display(Markdown('* Cuadratura gaussiana: {}'.format(absoluto_c_cuadratura256)))\n",
    "\n",
    "display(Markdown('**Error absoluto para la integral S 256**'))\n",
    "display(Markdown('* Regla del trapecio: {}'.format(absoluto_s_trapecio256)))\n",
    "display(Markdown('* Cuadratura gaussiana: {}'.format(absoluto_s_cuadratura256)))\n"
   ]
  },
  {
   "cell_type": "markdown",
   "id": "f4227b1d-3b0d-46e5-8f34-0c2d4eceecb0",
   "metadata": {},
   "source": [
    "## Calcular la intensidad relativa del patrón de difracción"
   ]
  },
  {
   "cell_type": "code",
   "execution_count": 14,
   "id": "086433f9-d025-406e-942d-06ad9eff9e4e",
   "metadata": {},
   "outputs": [
    {
     "name": "stdout",
     "output_type": "stream",
     "text": [
      "-1.9999999999999996\n",
      "1.9999999999999996\n",
      "-2.9999999999999996\n",
      "2.9999999999999996\n",
      "0.4882534060753402 0.6057207892976857 0.34341567836369813 0.49631299896737424\n"
     ]
    }
   ],
   "source": [
    "lx = 4*(np.sqrt(79)/25)*1e-3\n",
    "ly = 6*(np.sqrt(79)/25)*1e-3\n",
    "q0 = 400*1e-3\n",
    "londa = 632*1e-9\n",
    "x1 = -lx/2\n",
    "x2 = lx/2\n",
    "y1 = -ly/2\n",
    "y2 = ly/2\n",
    "\n",
    "u1 = x1*np.sqrt(2/(londa*q0))\n",
    "u2 = x2*np.sqrt(2/(londa*q0))\n",
    "\n",
    "v1 = y1*np.sqrt(2/(londa*q0))\n",
    "v2 = y2*np.sqrt(2/(londa*q0))\n",
    "\n",
    "print(u1)\n",
    "print(u2)\n",
    "\n",
    "print(v1)\n",
    "print(v2)\n",
    "\n",
    "cu2 = cgauss_file(f_c, 0, u2, file) \n",
    "cv2 = cgauss_file(f_c, 0, v2, file) \n",
    "su2 = cgauss_file(f_s, 0, u2, file) \n",
    "sv2 = cgauss_file(f_s, 0, v2, file) \n",
    "\n",
    "ec = '$\\\\frac{I}{I_0}=\\\\frac{1}{4}\\\\left[(2C(u_2))^2+(2S(u_2))^2\\\\right]\\\\cdot\\\\left[(2C(v_2))^2+(2S(v_2))^2\\\\right]$'\n",
    "\n",
    "print(cu2, cv2, su2, sv2)"
   ]
  },
  {
   "cell_type": "code",
   "execution_count": 15,
   "id": "6ea1e688-f14e-41a8-9a84-a1aca97adc9a",
   "metadata": {},
   "outputs": [
    {
     "data": {
      "text/markdown": [
       "Intensidad relativa del patrón de difracción $\\frac I I_0 =$ 0.5828952841935598"
      ],
      "text/plain": [
       "<IPython.core.display.Markdown object>"
      ]
     },
     "metadata": {},
     "output_type": "display_data"
    }
   ],
   "source": [
    "intensidad = (((2*cu2)**2+(2*su2**2))*((2*cv2)**2+(2*sv2**2)))/4\n",
    "display(Markdown('Intensidad relativa del patrón de difracción $\\\\frac I I_0 =$ {}'.format(intensidad)))"
   ]
  },
  {
   "cell_type": "code",
   "execution_count": 11,
   "id": "41ed59c5-33e3-4da1-8b7d-50c925c7dcf4",
   "metadata": {},
   "outputs": [],
   "source": []
  },
  {
   "cell_type": "code",
   "execution_count": null,
   "id": "bf169fd2-a049-4fd0-b018-e07e9a203f7c",
   "metadata": {},
   "outputs": [],
   "source": []
  },
  {
   "cell_type": "code",
   "execution_count": null,
   "id": "2cff291b-01db-4c19-b369-af6f0c793b1c",
   "metadata": {},
   "outputs": [],
   "source": []
  }
 ],
 "metadata": {
  "kernelspec": {
   "display_name": "Python 3 (ipykernel)",
   "language": "python",
   "name": "python3"
  },
  "language_info": {
   "codemirror_mode": {
    "name": "ipython",
    "version": 3
   },
   "file_extension": ".py",
   "mimetype": "text/x-python",
   "name": "python",
   "nbconvert_exporter": "python",
   "pygments_lexer": "ipython3",
   "version": "3.8.12"
  }
 },
 "nbformat": 4,
 "nbformat_minor": 5
}
