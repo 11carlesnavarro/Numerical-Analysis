{
 "cells": [
  {
   "cell_type": "code",
   "execution_count": 5,
   "id": "c5074b71",
   "metadata": {},
   "outputs": [],
   "source": [
    "import sys\n",
    "sys.path.append(\"..\")\n",
    "from utils.utils import order\n",
    "import matplotlib.pyplot as plt\n",
    "import numpy as np\n",
    "import sympy as sp\n",
    "import pandas as pd\n",
    "import csv\n",
    "from IPython.display import Math, Latex, Markdown"
   ]
  },
  {
   "cell_type": "code",
   "execution_count": 2,
   "id": "91b60892",
   "metadata": {},
   "outputs": [],
   "source": [
    "# Load the files\n",
    "bisection = \"csv/bisection/bisection_raiz1.csv\"\n",
    "newton = \"csv/newton-raphson/newton_general-sem1e-1.csv\"\n",
    "fixed_point = \"csv/fixed-point/fixed-point_raiz1.csv\"\n",
    "aitken = \"csv/fixed-point/fixed-point_raiz1_aitken.csv\"\n",
    "\n",
    "bisection = pd.read_csv(bisection)\n",
    "newton = pd.read_csv(newton)\n",
    "fixed_point = pd.read_csv(fixed_point)\n",
    "aitken = pd.read_csv(aitken)"
   ]
  },
  {
   "cell_type": "code",
   "execution_count": 3,
   "id": "06b7da42",
   "metadata": {},
   "outputs": [],
   "source": [
    "# Extract pn values and roots\n",
    "\n",
    "bisection_pn = np.array(bisection['$p_n$'])\n",
    "bisection_root = bisection_pn[-1]\n",
    "\n",
    "newton_pn = np.array(newton['$p_n$'])\n",
    "newton_root = newton_pn[-1]\n",
    "\n",
    "fixed_point_pn = np.array(fixed_point['$p_n$'])\n",
    "fixed_point_root = fixed_point_pn[-1]\n",
    "\n",
    "\n",
    "aitken_pn = np.array(aitken['$\\hat{p}$'])\n",
    "aitken_root = aitken_pn[-2]"
   ]
  },
  {
   "cell_type": "code",
   "execution_count": 4,
   "id": "59165a42",
   "metadata": {},
   "outputs": [
    {
     "name": "stderr",
     "output_type": "stream",
     "text": [
      "../utils/utils.py:13: RuntimeWarning: divide by zero encountered in log\n",
      "  return np.log(e[:-2]), np.log(e[1:-1])\n"
     ]
    }
   ],
   "source": [
    "# Compute the errors\n",
    "b_e_n, b_e_n1 = order(bisection_pn, bisection_root)\n",
    "n_e_n, n_e_n1 = order(newton_pn, newton_root)\n",
    "f_e_n, f_e_n1 = order(fixed_point_pn, fixed_point_root)\n",
    "a_e_n, a_e_n1 = order(aitken_pn, aitken_root)"
   ]
  },
  {
   "cell_type": "code",
   "execution_count": 44,
   "id": "f00a3ee6",
   "metadata": {},
   "outputs": [],
   "source": [
    "# Regresión lineal\n",
    "b = np.polyfit(b_e_n, b_e_n1, 1)\n",
    "y_b = b_e_n*b[0] + b[1]\n",
    "\n",
    "n = np.polyfit(n_e_n, n_e_n1, 1)\n",
    "y_n = n_e_n*n[0] + n[1]\n",
    "\n",
    "f = np.polyfit(f_e_n, f_e_n1, 1)\n",
    "y_f = f_e_n*f[0] + f[1]"
   ]
  },
  {
   "cell_type": "code",
   "execution_count": 58,
   "id": "e13313cb",
   "metadata": {},
   "outputs": [
    {
     "data": {
      "text/plain": [
       "Text(0.5, 1.0, 'Estimación orden de convergencia ')"
      ]
     },
     "execution_count": 58,
     "metadata": {},
     "output_type": "execute_result"
    },
    {
     "data": {
      "image/png": "[encoded data removed]",
      "text/plain": [
       "<Figure size 432x288 with 1 Axes>"
      ]
     },
     "metadata": {
      "needs_background": "light"
     },
     "output_type": "display_data"
    }
   ],
   "source": [
    "# Plot\n",
    "plt.plot(b_e_n, b_e_n1, 'r+', label = 'bisection')\n",
    "plt.plot(n_e_n, n_e_n1, 'b+', label = 'newton-raphson')\n",
    "plt.plot(f_e_n, f_e_n1, 'y+', label = 'fixed-point')\n",
    "plt.plot(b_e_n, y_b, 'r:')\n",
    "plt.plot(n_e_n, y_n, 'b:')\n",
    "plt.plot(f_e_n, y_f, 'y:')\n",
    "\n",
    "plt.legend()\n",
    "plt.xlabel('$log(e_n)$')\n",
    "plt.ylabel('$log(e_{n+1})$')\n",
    "plt.title('Estimación orden de convergencia ')"
   ]
  },
  {
   "cell_type": "code",
   "execution_count": 57,
   "id": "b862cb0d",
   "metadata": {},
   "outputs": [
    {
     "name": "stdout",
     "output_type": "stream",
     "text": [
      "The order of convergence of the Bisection method is 0.8158716751920457\n",
      "The order of convergence of the Newton-Raphson method is 1.8934724763205775\n",
      "The order of convergence of the Fixed Point method is 1.2963421354710218\n"
     ]
    }
   ],
   "source": [
    "# Orders of convergence\n",
    "print('The order of convergence of the Bisection method is {}'.format(b[0]))\n",
    "print('The order of convergence of the Newton-Raphson method is {}'.format(n[0]))\n",
    "print('The order of convergence of the Fixed Point method is {}'.format(f[0]))\n"
   ]
  },
  {
   "cell_type": "code",
   "execution_count": null,
   "id": "f2f4ad36",
   "metadata": {},
   "outputs": [],
   "source": []
  }
 ],
 "metadata": {
  "kernelspec": {
   "display_name": "Python 3",
   "language": "python",
   "name": "python3"
  },
  "language_info": {
   "codemirror_mode": {
    "name": "ipython",
    "version": 3
   },
   "file_extension": ".py",
   "mimetype": "text/x-python",
   "name": "python",
   "nbconvert_exporter": "python",
   "pygments_lexer": "ipython3",
   "version": "3.5.6"
  }
 },
 "nbformat": 4,
 "nbformat_minor": 5
}
