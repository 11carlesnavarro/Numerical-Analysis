{
 "cells": [
  {
   "cell_type": "code",
   "execution_count": 63,
   "id": "5b1785c1",
   "metadata": {},
   "outputs": [],
   "source": [
    "import sys\n",
    "sys.path.append(\"..\")\n",
    "from newton.newton import newton\n",
    "import sympy as sp\n",
    "import pandas as pd\n",
    "import numpy as np\n",
    "from IPython.display import Math, Latex, Markdown"
   ]
  },
  {
   "cell_type": "code",
   "execution_count": 64,
   "id": "d05d3fad",
   "metadata": {},
   "outputs": [],
   "source": [
    "# Definimos la función de la cual queremos buscar los ceros\n",
    "\n",
    "r = sp.symbols('x')\n",
    "dVeff = sp.lambdify(r, (-1 / r**3) + (5 / r**2))\n",
    "\n",
    "# Seguidamente también debemos definir su derivada\n",
    "\n",
    "ddVeff = sp.lambdify(r, sp.diff(dVeff(r), r))"
   ]
  },
  {
   "cell_type": "code",
   "execution_count": 65,
   "id": "828e21c4",
   "metadata": {},
   "outputs": [],
   "source": [
    "# Parametros del método de newton. aproximación inicial, tolerancia y numero de iteraciones\n",
    "p0 = 0.21\n",
    "tol = 1e-5\n",
    "N0 = 10"
   ]
  },
  {
   "cell_type": "code",
   "execution_count": 66,
   "id": "2518a4fa",
   "metadata": {},
   "outputs": [],
   "source": [
    "# Aplicamos el algoritmo para encontrar los ceros\n",
    "p, data, convergence = newton(dVeff, ddVeff, p0, tol, N0)"
   ]
  },
  {
   "cell_type": "code",
   "execution_count": 67,
   "id": "95c83a53",
   "metadata": {},
   "outputs": [],
   "source": [
    "#######################################\n",
    "#        Tabulate the data            #\n",
    "#######################################\n",
    "pd.set_option('display.precision', 10)\n",
    "data = pd.DataFrame({'$p_{n-1}$':data['p0_matrix'],\n",
    "                     '$p_n$' : data['p_matrix'],\n",
    "                     \"$f'(p_{n-1})$\" : data['df_matrix'],\n",
    "                     \"$f(p_{n-1})$\" : data['f_matrix'],\n",
    "                     '$Error (p_n-p_{n-1})$': data['error_matrix']\n",
    "                      })\n",
    "\n",
    "data.index = np.arange(1, len(data) + 1, 1)\n",
    "data.index.name = '$n$'\n",
    "data = data[['$p_{n-1}$','$p_n$',\"$f'(p_{n-1})$\", \"$f(p_{n-1})$\", '$Error (p_n-p_{n-1})$']]"
   ]
  },
  {
   "cell_type": "code",
   "execution_count": 68,
   "id": "e84d00c2",
   "metadata": {},
   "outputs": [
    {
     "name": "stdout",
     "output_type": "stream",
     "text": [
      "Raíz:  0.19999999999999046 con punto inicial 0.21 y tolerancia 1e-05 después de  5 iteraciones.\n",
      "\n"
     ]
    },
    {
     "data": {
      "text/html": [
       "<div>\n",
       "<style scoped>\n",
       "    .dataframe tbody tr th:only-of-type {\n",
       "        vertical-align: middle;\n",
       "    }\n",
       "\n",
       "    .dataframe tbody tr th {\n",
       "        vertical-align: top;\n",
       "    }\n",
       "\n",
       "    .dataframe thead th {\n",
       "        text-align: right;\n",
       "    }\n",
       "</style>\n",
       "<table border=\"1\" class=\"dataframe\">\n",
       "  <thead>\n",
       "    <tr style=\"text-align: right;\">\n",
       "      <th></th>\n",
       "      <th>$p_{n-1}$</th>\n",
       "      <th>$p_n$</th>\n",
       "      <th>$f'(p_{n-1})$</th>\n",
       "      <th>$f(p_{n-1})$</th>\n",
       "      <th>$Error (p_n-p_{n-1})$</th>\n",
       "    </tr>\n",
       "    <tr>\n",
       "      <th>$n$</th>\n",
       "      <th></th>\n",
       "      <th></th>\n",
       "      <th></th>\n",
       "      <th></th>\n",
       "      <th></th>\n",
       "    </tr>\n",
       "  </thead>\n",
       "  <tbody>\n",
       "    <tr>\n",
       "      <th>1</th>\n",
       "      <td>0.2100000000</td>\n",
       "      <td>0.1983333333</td>\n",
       "      <td>462.7701420704</td>\n",
       "      <td>5.3989849908</td>\n",
       "      <td>-0.0116666667</td>\n",
       "    </tr>\n",
       "    <tr>\n",
       "      <th>2</th>\n",
       "      <td>0.1983333333</td>\n",
       "      <td>0.1999590164</td>\n",
       "      <td>657.0459468550</td>\n",
       "      <td>-1.0681484655</td>\n",
       "      <td>0.0016256831</td>\n",
       "    </tr>\n",
       "    <tr>\n",
       "      <th>3</th>\n",
       "      <td>0.1999590164</td>\n",
       "      <td>0.1999999748</td>\n",
       "      <td>625.7689152414</td>\n",
       "      <td>-0.0256305073</td>\n",
       "      <td>0.0000409584</td>\n",
       "    </tr>\n",
       "    <tr>\n",
       "      <th>4</th>\n",
       "      <td>0.1999999748</td>\n",
       "      <td>0.2000000000</td>\n",
       "      <td>625.0004722099</td>\n",
       "      <td>-0.0000157403</td>\n",
       "      <td>0.0000000252</td>\n",
       "    </tr>\n",
       "  </tbody>\n",
       "</table>\n",
       "</div>"
      ],
      "text/plain": [
       "        $p_{n-1}$         $p_n$   $f'(p_{n-1})$  $f(p_{n-1})$  \\\n",
       "$n$                                                             \n",
       "1    0.2100000000  0.1983333333  462.7701420704  5.3989849908   \n",
       "2    0.1983333333  0.1999590164  657.0459468550 -1.0681484655   \n",
       "3    0.1999590164  0.1999999748  625.7689152414 -0.0256305073   \n",
       "4    0.1999999748  0.2000000000  625.0004722099 -0.0000157403   \n",
       "\n",
       "     $Error (p_n-p_{n-1})$  \n",
       "$n$                         \n",
       "1            -0.0116666667  \n",
       "2             0.0016256831  \n",
       "3             0.0000409584  \n",
       "4             0.0000000252  "
      ]
     },
     "metadata": {},
     "output_type": "display_data"
    }
   ],
   "source": [
    "if convergence:\n",
    "    print('Raíz: ', p, 'con punto inicial', p0, 'y tolerancia', tol, 'después de ', len(data) + 1, 'iteraciones.')\n",
    "    print('')\n",
    "    display(data)\n",
    "else:\n",
    "    print(p)"
   ]
  },
  {
   "cell_type": "code",
   "execution_count": 71,
   "id": "a7ae8930",
   "metadata": {},
   "outputs": [],
   "source": [
    "# Guardamos los datos tabulados como un archivo de latex\n",
    "data.to_latex(\"latex/newton-raphson/newton_general-0_30.tex\")"
   ]
  }
 ],
 "metadata": {
  "kernelspec": {
   "display_name": "Python 3",
   "language": "python",
   "name": "python3"
  },
  "language_info": {
   "codemirror_mode": {
    "name": "ipython",
    "version": 3
   },
   "file_extension": ".py",
   "mimetype": "text/x-python",
   "name": "python",
   "nbconvert_exporter": "python",
   "pygments_lexer": "ipython3",
   "version": "3.5.6"
  }
 },
 "nbformat": 4,
 "nbformat_minor": 5
}
