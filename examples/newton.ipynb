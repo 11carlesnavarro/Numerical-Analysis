{
 "cells": [
  {
   "cell_type": "code",
   "execution_count": 94,
   "id": "c05aed18",
   "metadata": {},
   "outputs": [],
   "source": [
    "import sys\n",
    "sys.path.append(\"..\")\n",
    "from newton.newton import newton\n",
    "import sympy as sp\n",
    "import pandas as pd\n",
    "import numpy as np\n",
    "from numpy import linspace\n",
    "import matplotlib.pyplot as plt\n",
    "\n",
    "from IPython.display import Math, Latex, Markdown"
   ]
  },
  {
   "cell_type": "code",
   "execution_count": 95,
   "id": "b28689a0",
   "metadata": {},
   "outputs": [],
   "source": [
    "# Definimos la función de la cual queremos buscar los ceros\n",
    "\n",
    "r = sp.symbols('x')\n",
    "Veff = sp.lambdify(r, (1 / r**2) - (5 / r))\n",
    "dVeff = sp.lambdify(r, (-1 / r**3) + (5 / r**2))\n",
    "\n",
    "# Seguidamente también debemos definir su derivada\n",
    "\n",
    "ddVeff = sp.lambdify(r, sp.diff(dVeff(r), r))"
   ]
  },
  {
   "cell_type": "markdown",
   "id": "29df724a",
   "metadata": {},
   "source": [
    "## Representación gráfica"
   ]
  },
  {
   "cell_type": "code",
   "execution_count": 96,
   "id": "b5f42dd5",
   "metadata": {},
   "outputs": [
    {
     "data": {
      "image/png": "[encoded data removed]",
      "text/plain": [
       "<Figure size 432x288 with 1 Axes>"
      ]
     },
     "metadata": {
      "needs_background": "light"
     },
     "output_type": "display_data"
    }
   ],
   "source": [
    "# Potencial efectivo\n",
    "\n",
    "x_vals = linspace(-5, 5, 100)\n",
    "y_vals = Veff(x_vals)\n",
    "\n",
    "plt.plot(x_vals, y_vals, color=\"b\")\n",
    "plt.plot(x_vals, y_vals)\n",
    "plt.axhline(y=0, color=\"black\")\n",
    "plt.axvline(x=0, color=\"black\")\n",
    "plt.ylim([-100, 100])\n",
    "plt.ylabel(\"Veff\")\n",
    "plt.xlabel(\"r\")\n",
    "plt.show()"
   ]
  },
  {
   "cell_type": "code",
   "execution_count": 97,
   "id": "335b91d5",
   "metadata": {},
   "outputs": [
    {
     "data": {
      "image/png": "[encoded data removed]",
      "text/plain": [
       "<Figure size 432x288 with 1 Axes>"
      ]
     },
     "metadata": {
      "needs_background": "light"
     },
     "output_type": "display_data"
    }
   ],
   "source": [
    "# Derivada potencial efectivo\n",
    "x_vals = linspace(-10, 10, 100)\n",
    "y_vals = dVeff(x_vals)\n",
    "\n",
    "plt.plot(x_vals, y_vals, color=\"b\")\n",
    "plt.plot(x_vals, y_vals)\n",
    "plt.axhline(y=0, color=\"black\")\n",
    "plt.axvline(x=0, color=\"black\")\n",
    "plt.ylim([-100, 100])\n",
    "plt.ylabel(\"V'eff\")\n",
    "plt.xlabel(\"r\")\n",
    "plt.show()"
   ]
  },
  {
   "cell_type": "code",
   "execution_count": 98,
   "id": "a5ea0244",
   "metadata": {},
   "outputs": [
    {
     "data": {
      "image/png": "[encoded data removed]",
      "text/plain": [
       "<Figure size 432x288 with 1 Axes>"
      ]
     },
     "metadata": {
      "needs_background": "light"
     },
     "output_type": "display_data"
    }
   ],
   "source": [
    "# Segunda derivada potencial efectivo\n",
    "x_vals = linspace(-10, 10, 100)\n",
    "y_vals = ddVeff(x_vals)\n",
    "\n",
    "plt.plot(x_vals, y_vals, color=\"b\")\n",
    "plt.plot(x_vals, y_vals)\n",
    "plt.axhline(y=0, color=\"black\")\n",
    "plt.axvline(x=0, color=\"black\")\n",
    "plt.ylim([-100, 100])\n",
    "plt.ylabel(\"V'eff\")\n",
    "plt.xlabel(\"r\")\n",
    "plt.show()"
   ]
  },
  {
   "cell_type": "code",
   "execution_count": 99,
   "id": "c0b88af4",
   "metadata": {},
   "outputs": [],
   "source": [
    "# Parametros del método de newton. aproximación inicial, tolerancia y numero de iteraciones\n",
    "p0 = 0.1\n",
    "tol = 1e-5\n",
    "N0 = 10"
   ]
  },
  {
   "cell_type": "code",
   "execution_count": 100,
   "id": "92e5115e",
   "metadata": {},
   "outputs": [],
   "source": [
    "# Aplicamos el algoritmo para encontrar los ceros\n",
    "p, data, convergence = newton(dVeff, ddVeff, p0, tol, N0)"
   ]
  },
  {
   "cell_type": "code",
   "execution_count": 101,
   "id": "830ddbcb",
   "metadata": {},
   "outputs": [],
   "source": [
    "#######################################\n",
    "#        Tabulate the data            #\n",
    "#######################################\n",
    "pd.set_option('display.precision', 10)\n",
    "data = pd.DataFrame({'$p_{n-1}$':data['p0_matrix'],\n",
    "                     '$p_n$' : data['p_matrix'],\n",
    "                     \"$f'(p_{n-1})$\" : data['df_matrix'],\n",
    "                     \"$f(p_{n-1})$\" : data['f_matrix'],\n",
    "                     '$Error (p_n-p_{n-1})$': data['error_matrix']\n",
    "                      })\n",
    "\n",
    "data.index = np.arange(1, len(data) + 1, 1)\n",
    "data.index.name = '$n$'\n",
    "data = data[['$p_n$','$Error (p_n-p_{n-1})$']]"
   ]
  },
  {
   "cell_type": "code",
   "execution_count": 102,
   "id": "5a02ad0b",
   "metadata": {},
   "outputs": [
    {
     "name": "stdout",
     "output_type": "stream",
     "text": [
      "Raíz:  0.19999999945848104 con punto inicial 0.1 y tolerancia 1e-05 después de  7 iteraciones.\n",
      "\n"
     ]
    },
    {
     "data": {
      "text/html": [
       "<div>\n",
       "<style scoped>\n",
       "    .dataframe tbody tr th:only-of-type {\n",
       "        vertical-align: middle;\n",
       "    }\n",
       "\n",
       "    .dataframe tbody tr th {\n",
       "        vertical-align: top;\n",
       "    }\n",
       "\n",
       "    .dataframe thead th {\n",
       "        text-align: right;\n",
       "    }\n",
       "</style>\n",
       "<table border=\"1\" class=\"dataframe\">\n",
       "  <thead>\n",
       "    <tr style=\"text-align: right;\">\n",
       "      <th></th>\n",
       "      <th>$p_n$</th>\n",
       "      <th>$Error (p_n-p_{n-1})$</th>\n",
       "    </tr>\n",
       "    <tr>\n",
       "      <th>$n$</th>\n",
       "      <th></th>\n",
       "      <th></th>\n",
       "    </tr>\n",
       "  </thead>\n",
       "  <tbody>\n",
       "    <tr>\n",
       "      <th>1</th>\n",
       "      <td>0.1250000000</td>\n",
       "      <td>0.0250000000</td>\n",
       "    </tr>\n",
       "    <tr>\n",
       "      <th>2</th>\n",
       "      <td>0.1517857143</td>\n",
       "      <td>0.0267857143</td>\n",
       "    </tr>\n",
       "    <tr>\n",
       "      <th>3</th>\n",
       "      <td>0.1764737522</td>\n",
       "      <td>0.0246880379</td>\n",
       "    </tr>\n",
       "    <tr>\n",
       "      <th>4</th>\n",
       "      <td>0.1932789466</td>\n",
       "      <td>0.0168051945</td>\n",
       "    </tr>\n",
       "    <tr>\n",
       "      <th>5</th>\n",
       "      <td>0.1993650846</td>\n",
       "      <td>0.0060861380</td>\n",
       "    </tr>\n",
       "    <tr>\n",
       "      <th>6</th>\n",
       "      <td>0.1999939914</td>\n",
       "      <td>0.0006289068</td>\n",
       "    </tr>\n",
       "    <tr>\n",
       "      <th>7</th>\n",
       "      <td>0.1999999995</td>\n",
       "      <td>0.0000060081</td>\n",
       "    </tr>\n",
       "  </tbody>\n",
       "</table>\n",
       "</div>"
      ],
      "text/plain": [
       "            $p_n$  $Error (p_n-p_{n-1})$\n",
       "$n$                                     \n",
       "1    0.1250000000           0.0250000000\n",
       "2    0.1517857143           0.0267857143\n",
       "3    0.1764737522           0.0246880379\n",
       "4    0.1932789466           0.0168051945\n",
       "5    0.1993650846           0.0060861380\n",
       "6    0.1999939914           0.0006289068\n",
       "7    0.1999999995           0.0000060081"
      ]
     },
     "metadata": {},
     "output_type": "display_data"
    }
   ],
   "source": [
    "if convergence:\n",
    "    print('Raíz: ', p, 'con punto inicial', p0, 'y tolerancia', tol, 'después de ', len(data), 'iteraciones.')\n",
    "    print('')\n",
    "    display(data)\n",
    "else:\n",
    "    print(p)\n",
    "    display(data)"
   ]
  },
  {
   "cell_type": "code",
   "execution_count": 103,
   "id": "22f81ce2",
   "metadata": {},
   "outputs": [],
   "source": [
    "# Guardamos los datos tabulados como un archivo de latex\n",
    "data.to_latex(\"latex/newton-raphson/newton_general-sem1e-1.tex\")\n",
    "data.to_csv(\"csv/newton-raphson/newton_general-sem1e-1.csv\", index = None, header = True)"
   ]
  }
 ],
 "metadata": {
  "kernelspec": {
   "display_name": "Python 3",
   "language": "python",
   "name": "python3"
  },
  "language_info": {
   "codemirror_mode": {
    "name": "ipython",
    "version": 3
   },
   "file_extension": ".py",
   "mimetype": "text/x-python",
   "name": "python",
   "nbconvert_exporter": "python",
   "pygments_lexer": "ipython3",
   "version": "3.5.6"
  }
 },
 "nbformat": 4,
 "nbformat_minor": 5
}
