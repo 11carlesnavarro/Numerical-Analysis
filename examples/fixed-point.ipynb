{
 "cells": [
  {
   "cell_type": "code",
   "execution_count": 125,
   "id": "fa51f0c7",
   "metadata": {},
   "outputs": [],
   "source": [
    "import sys\n",
    "sys.path.append(\"..\")\n",
    "from fixed_point.fixed_point import fixed_point\n",
    "import sympy as sp\n",
    "from sympy.plotting import plot as symplot\n",
    "import pandas as pd\n",
    "import numpy as np\n",
    "from numpy import linspace\n",
    "import matplotlib.pyplot as plt\n",
    "from IPython.display import Math, Latex, Markdown"
   ]
  },
  {
   "cell_type": "code",
   "execution_count": 126,
   "id": "8e348d45",
   "metadata": {},
   "outputs": [],
   "source": [
    "# Definimos la función de la cual queremos buscar las raíces\n",
    "\n",
    "r = sp.symbols('r')\n",
    "E = (1 /(2*r**2) - (5 / r) - 1)\n",
    "E = sp.lambdify(r, E)"
   ]
  },
  {
   "cell_type": "code",
   "execution_count": 127,
   "id": "cc0bd08d",
   "metadata": {},
   "outputs": [
    {
     "data": {
      "image/png": "[encoded data removed]",
      "text/plain": [
       "<Figure size 432x288 with 1 Axes>"
      ]
     },
     "metadata": {
      "needs_background": "light"
     },
     "output_type": "display_data"
    }
   ],
   "source": [
    "# Representamos los valores de la energía para ver por dónde pueden encontrarse las raíces\n",
    "\n",
    "x_vals = linspace(-5, 5, 100)\n",
    "y_vals = E(x_vals)\n",
    "\n",
    "plt.plot(x_vals, y_vals, color=\"b\")\n",
    "plt.plot(x_vals, y_vals)\n",
    "plt.axhline(y=0, color=\"black\")\n",
    "plt.axvline(x=0, color=\"black\")\n",
    "plt.ylim([-100, 100])\n",
    "plt.ylabel(\"E\")\n",
    "plt.xlabel(\"r\")\n",
    "plt.show()"
   ]
  },
  {
   "cell_type": "markdown",
   "id": "9c784b7a",
   "metadata": {},
   "source": [
    "## Solución con el método del punto fijo"
   ]
  },
  {
   "cell_type": "markdown",
   "id": "4564f785",
   "metadata": {},
   "source": [
    "## Primera raíz ($p_1$)"
   ]
  },
  {
   "cell_type": "code",
   "execution_count": 196,
   "id": "6ae595e4",
   "metadata": {},
   "outputs": [],
   "source": [
    "g1 = g = (1 - 2 * r**2) / 10\n",
    "g1 = sp.lambdify(r, g1)"
   ]
  },
  {
   "cell_type": "code",
   "execution_count": 197,
   "id": "0c022e4c",
   "metadata": {},
   "outputs": [],
   "source": [
    "# Parametros del método del punto fijo. aproximación inicial, tolerancia y numero de iteraciones\n",
    "p0 = 2\n",
    "tol = 1e-5\n",
    "N0 = 20"
   ]
  },
  {
   "cell_type": "code",
   "execution_count": 198,
   "id": "6d77e8e2",
   "metadata": {},
   "outputs": [],
   "source": [
    "p1, data1, convergence = fixed_point(g1, p0, tol, N0)"
   ]
  },
  {
   "cell_type": "code",
   "execution_count": 199,
   "id": "07591f4c",
   "metadata": {},
   "outputs": [],
   "source": [
    "# Tabulate the data            \n",
    "pd.set_option('display.precision', 10)\n",
    "data1 = pd.DataFrame({'$p_n$':data1['p0_matrix'],\n",
    "                     '$g(p_n)$' : data1['gp0_matrix'],\n",
    "                     '$Error (|p_n - p_{n-1}|)$': data1['error_matrix']\n",
    "                      })\n",
    "\n",
    "data1.index = np.arange(1, len(data1) + 1, 1)\n",
    "data1.index.name = '$n$'\n",
    "data1 = data1[['$p_n$','$g(p_n)$', '$Error (|p_n - p_{n-1}|)$' ]]"
   ]
  },
  {
   "cell_type": "code",
   "execution_count": 200,
   "id": "6588c4f5",
   "metadata": {},
   "outputs": [
    {
     "name": "stdout",
     "output_type": "stream",
     "text": [
      "Raíz: 0.09807609415468403 con punto inicial: 2 y tolerancia 1e-05 después de  6 iteraciones.\n",
      "\n"
     ]
    },
    {
     "data": {
      "text/html": [
       "<div>\n",
       "<style scoped>\n",
       "    .dataframe tbody tr th:only-of-type {\n",
       "        vertical-align: middle;\n",
       "    }\n",
       "\n",
       "    .dataframe tbody tr th {\n",
       "        vertical-align: top;\n",
       "    }\n",
       "\n",
       "    .dataframe thead th {\n",
       "        text-align: right;\n",
       "    }\n",
       "</style>\n",
       "<table border=\"1\" class=\"dataframe\">\n",
       "  <thead>\n",
       "    <tr style=\"text-align: right;\">\n",
       "      <th></th>\n",
       "      <th>$p_n$</th>\n",
       "      <th>$g(p_n)$</th>\n",
       "      <th>$Error (|p_n - p_{n-1}|)$</th>\n",
       "    </tr>\n",
       "    <tr>\n",
       "      <th>$n$</th>\n",
       "      <th></th>\n",
       "      <th></th>\n",
       "      <th></th>\n",
       "    </tr>\n",
       "  </thead>\n",
       "  <tbody>\n",
       "    <tr>\n",
       "      <th>1</th>\n",
       "      <td>2.0000000000</td>\n",
       "      <td>-0.7000000000</td>\n",
       "      <td>2.7000000000</td>\n",
       "    </tr>\n",
       "    <tr>\n",
       "      <th>2</th>\n",
       "      <td>-0.7000000000</td>\n",
       "      <td>0.0020000000</td>\n",
       "      <td>0.7020000000</td>\n",
       "    </tr>\n",
       "    <tr>\n",
       "      <th>3</th>\n",
       "      <td>0.0020000000</td>\n",
       "      <td>0.0999992000</td>\n",
       "      <td>0.0979992000</td>\n",
       "    </tr>\n",
       "    <tr>\n",
       "      <th>4</th>\n",
       "      <td>0.0999992000</td>\n",
       "      <td>0.0980000320</td>\n",
       "      <td>0.0019991680</td>\n",
       "    </tr>\n",
       "    <tr>\n",
       "      <th>5</th>\n",
       "      <td>0.0980000320</td>\n",
       "      <td>0.0980791987</td>\n",
       "      <td>0.0000791667</td>\n",
       "    </tr>\n",
       "    <tr>\n",
       "      <th>6</th>\n",
       "      <td>0.0980791987</td>\n",
       "      <td>0.0980760942</td>\n",
       "      <td>0.0000031046</td>\n",
       "    </tr>\n",
       "  </tbody>\n",
       "</table>\n",
       "</div>"
      ],
      "text/plain": [
       "            $p_n$      $g(p_n)$  $Error (|p_n - p_{n-1}|)$\n",
       "$n$                                                       \n",
       "1    2.0000000000 -0.7000000000               2.7000000000\n",
       "2   -0.7000000000  0.0020000000               0.7020000000\n",
       "3    0.0020000000  0.0999992000               0.0979992000\n",
       "4    0.0999992000  0.0980000320               0.0019991680\n",
       "5    0.0980000320  0.0980791987               0.0000791667\n",
       "6    0.0980791987  0.0980760942               0.0000031046"
      ]
     },
     "metadata": {},
     "output_type": "display_data"
    }
   ],
   "source": [
    "if convergence:\n",
    "    print('Raíz: {} con punto inicial: {} y tolerancia {} después de  {} iteraciones.'.format(p1, p0, tol, len(data1)))\n",
    "    print('')\n",
    "    display(data1)\n",
    "else:\n",
    "    print(p1)"
   ]
  },
  {
   "cell_type": "code",
   "execution_count": 201,
   "id": "09d22a20",
   "metadata": {},
   "outputs": [],
   "source": [
    "# Guardamos los datos tabulados como un archivo de latex\n",
    "data1.to_latex(\"latex/fixed-point/fixed-point_raiz1.tex\")\n",
    "data1.to_csv(\"csv/fixed-point/fixed-point_raiz1.csv\", index = None, header = True)"
   ]
  },
  {
   "cell_type": "markdown",
   "id": "409faad9",
   "metadata": {},
   "source": [
    "## Segunda raíz ($p_2$)"
   ]
  },
  {
   "cell_type": "code",
   "execution_count": 112,
   "id": "3214898a",
   "metadata": {},
   "outputs": [],
   "source": [
    "g2 =  1 / (2*r) - 5\n",
    "g2 = sp.lambdify(r, g2)"
   ]
  },
  {
   "cell_type": "code",
   "execution_count": 113,
   "id": "914409d9",
   "metadata": {},
   "outputs": [],
   "source": [
    "# Parametros del método del punto fijo. aproximación inicial, tolerancia y numero de iteraciones\n",
    "p0 = -4\n",
    "tol = 1e-5\n",
    "N0 = 20"
   ]
  },
  {
   "cell_type": "code",
   "execution_count": 114,
   "id": "20e2b5ed",
   "metadata": {},
   "outputs": [],
   "source": [
    "p2, data2, convergence = fixed_point(g2, p0, tol, N0)"
   ]
  },
  {
   "cell_type": "code",
   "execution_count": 115,
   "id": "dadf0882",
   "metadata": {},
   "outputs": [],
   "source": [
    "# Tabulate the data            \n",
    "pd.set_option('display.precision', 10)\n",
    "data2 = pd.DataFrame({'$p_0$':data2['p0_matrix'],\n",
    "                     '$g(p_0)$' : data2['gp0_matrix'],\n",
    "                     '$Error (|p - p_0|)$': data2['error_matrix']\n",
    "                      })\n",
    "\n",
    "data2.index = np.arange(1, len(data2) + 1, 1)\n",
    "data2.index.name = '$n$'\n",
    "data2 = data2[['$p_0$','$g(p_0)$', '$Error (|p - p_0|)$' ]]"
   ]
  },
  {
   "cell_type": "code",
   "execution_count": 116,
   "id": "b2f8610c",
   "metadata": {},
   "outputs": [
    {
     "name": "stdout",
     "output_type": "stream",
     "text": [
      "Raíz: -5.0980762150220915 con punto inicial: -4 y tolerancia 1e-05 después de  5 iteraciones.\n",
      "\n"
     ]
    },
    {
     "data": {
      "text/html": [
       "<div>\n",
       "<style scoped>\n",
       "    .dataframe tbody tr th:only-of-type {\n",
       "        vertical-align: middle;\n",
       "    }\n",
       "\n",
       "    .dataframe tbody tr th {\n",
       "        vertical-align: top;\n",
       "    }\n",
       "\n",
       "    .dataframe thead th {\n",
       "        text-align: right;\n",
       "    }\n",
       "</style>\n",
       "<table border=\"1\" class=\"dataframe\">\n",
       "  <thead>\n",
       "    <tr style=\"text-align: right;\">\n",
       "      <th></th>\n",
       "      <th>$p_0$</th>\n",
       "      <th>$g(p_0)$</th>\n",
       "      <th>$Error (|p - p_0|)$</th>\n",
       "    </tr>\n",
       "    <tr>\n",
       "      <th>$n$</th>\n",
       "      <th></th>\n",
       "      <th></th>\n",
       "      <th></th>\n",
       "    </tr>\n",
       "  </thead>\n",
       "  <tbody>\n",
       "    <tr>\n",
       "      <th>1</th>\n",
       "      <td>-4.0000000000</td>\n",
       "      <td>-5.1250000000</td>\n",
       "      <td>1.1250000000</td>\n",
       "    </tr>\n",
       "    <tr>\n",
       "      <th>2</th>\n",
       "      <td>-5.1250000000</td>\n",
       "      <td>-5.0975609756</td>\n",
       "      <td>0.0274390244</td>\n",
       "    </tr>\n",
       "    <tr>\n",
       "      <th>3</th>\n",
       "      <td>-5.0975609756</td>\n",
       "      <td>-5.0980861244</td>\n",
       "      <td>0.0005251488</td>\n",
       "    </tr>\n",
       "    <tr>\n",
       "      <th>4</th>\n",
       "      <td>-5.0980861244</td>\n",
       "      <td>-5.0980760206</td>\n",
       "      <td>0.0000101038</td>\n",
       "    </tr>\n",
       "    <tr>\n",
       "      <th>5</th>\n",
       "      <td>-5.0980760206</td>\n",
       "      <td>-5.0980762150</td>\n",
       "      <td>0.0000001944</td>\n",
       "    </tr>\n",
       "  </tbody>\n",
       "</table>\n",
       "</div>"
      ],
      "text/plain": [
       "            $p_0$      $g(p_0)$  $Error (|p - p_0|)$\n",
       "$n$                                                 \n",
       "1   -4.0000000000 -5.1250000000         1.1250000000\n",
       "2   -5.1250000000 -5.0975609756         0.0274390244\n",
       "3   -5.0975609756 -5.0980861244         0.0005251488\n",
       "4   -5.0980861244 -5.0980760206         0.0000101038\n",
       "5   -5.0980760206 -5.0980762150         0.0000001944"
      ]
     },
     "metadata": {},
     "output_type": "display_data"
    }
   ],
   "source": [
    "if convergence:\n",
    "    print('Raíz: {} con punto inicial: {} y tolerancia {} después de  {} iteraciones.'.format(p2, p0, tol, len(data2)))\n",
    "    print('')\n",
    "    display(data2)\n",
    "else:\n",
    "    print(p2)"
   ]
  },
  {
   "cell_type": "code",
   "execution_count": 117,
   "id": "74963f4c",
   "metadata": {},
   "outputs": [],
   "source": [
    "# Guardamos los datos tabulados como un archivo de latex\n",
    "data2.to_latex(\"latex/fixed-point/fixed-point_raiz2.tex\")"
   ]
  },
  {
   "cell_type": "markdown",
   "id": "511ce713",
   "metadata": {},
   "source": [
    "## Accelerated fixed point iteration with Steffensen method"
   ]
  },
  {
   "cell_type": "markdown",
   "id": "1d87d0ed",
   "metadata": {},
   "source": [
    "### Primera raíz ($p_1$)"
   ]
  },
  {
   "cell_type": "code",
   "execution_count": 202,
   "id": "5d249043",
   "metadata": {},
   "outputs": [],
   "source": [
    "from aitken.steffensen import steffensen"
   ]
  },
  {
   "cell_type": "code",
   "execution_count": 203,
   "id": "0b687413",
   "metadata": {},
   "outputs": [],
   "source": [
    "g1 = g = (1 - 2 * r**2) / 10\n",
    "g1 = sp.lambdify(r, g1)"
   ]
  },
  {
   "cell_type": "code",
   "execution_count": 204,
   "id": "8b13a826",
   "metadata": {},
   "outputs": [],
   "source": [
    "# Parametros del método del punto fijo. aproximación inicial, tolerancia y numero de iteraciones\n",
    "p0 = 2\n",
    "tol = 1e-5\n",
    "N0 = 20"
   ]
  },
  {
   "cell_type": "code",
   "execution_count": 205,
   "id": "04738b16",
   "metadata": {},
   "outputs": [],
   "source": [
    "phat, data3, convergence = steffensen(g1, p0, tol, N0)"
   ]
  },
  {
   "cell_type": "code",
   "execution_count": 206,
   "id": "ff5e52a0",
   "metadata": {},
   "outputs": [],
   "source": [
    "# Tabulate the data            \n",
    "pd.set_option('display.precision', 10)\n",
    "if len(data3['phat_matrix']) < len(data3['p0_matrix']):\n",
    "    data3['phat_matrix'].append(\"\")\n",
    "data3 = pd.DataFrame({'$p_0$':data3['p0_matrix'],\n",
    "                     '$\\hat{p}$' : data3['phat_matrix'],\n",
    "                     '$Error (|p - p_0|)$': data3['error_matrix']\n",
    "                      })\n",
    "\n",
    "data3.index = np.arange(1, len(data3) + 1, 1)\n",
    "data3.index.name = '$n$'\n",
    "data3 = data3[['$p_0$','$\\hat{p}$', '$Error (|p - p_0|)$' ]]"
   ]
  },
  {
   "cell_type": "code",
   "execution_count": 207,
   "id": "d99ebb34",
   "metadata": {},
   "outputs": [
    {
     "name": "stdout",
     "output_type": "stream",
     "text": [
      "Raíz: 0.09807621135331594 con punto inicial: 2 y tolerancia 1e-05 después de  4 iteraciones.\n",
      "\n"
     ]
    },
    {
     "data": {
      "text/html": [
       "<div>\n",
       "<style scoped>\n",
       "    .dataframe tbody tr th:only-of-type {\n",
       "        vertical-align: middle;\n",
       "    }\n",
       "\n",
       "    .dataframe tbody tr th {\n",
       "        vertical-align: top;\n",
       "    }\n",
       "\n",
       "    .dataframe thead th {\n",
       "        text-align: right;\n",
       "    }\n",
       "</style>\n",
       "<table border=\"1\" class=\"dataframe\">\n",
       "  <thead>\n",
       "    <tr style=\"text-align: right;\">\n",
       "      <th></th>\n",
       "      <th>$p_0$</th>\n",
       "      <th>$\\hat{p}$</th>\n",
       "      <th>$Error (|p - p_0|)$</th>\n",
       "    </tr>\n",
       "    <tr>\n",
       "      <th>$n$</th>\n",
       "      <th></th>\n",
       "      <th></th>\n",
       "      <th></th>\n",
       "    </tr>\n",
       "  </thead>\n",
       "  <tbody>\n",
       "    <tr>\n",
       "      <th>1</th>\n",
       "      <td>2.0000000000</td>\n",
       "      <td>-0.1428571429</td>\n",
       "      <td>2.1428571429e+00</td>\n",
       "    </tr>\n",
       "    <tr>\n",
       "      <th>2</th>\n",
       "      <td>-0.1428571429</td>\n",
       "      <td>0.09818117606</td>\n",
       "      <td>2.4103831891e-01</td>\n",
       "    </tr>\n",
       "    <tr>\n",
       "      <th>3</th>\n",
       "      <td>0.0981811761</td>\n",
       "      <td>0.09807621127</td>\n",
       "      <td>1.0496478500e-04</td>\n",
       "    </tr>\n",
       "    <tr>\n",
       "      <th>4</th>\n",
       "      <td>0.0980762113</td>\n",
       "      <td></td>\n",
       "      <td>8.3224691028e-11</td>\n",
       "    </tr>\n",
       "  </tbody>\n",
       "</table>\n",
       "</div>"
      ],
      "text/plain": [
       "            $p_0$      $\\hat{p}$  $Error (|p - p_0|)$\n",
       "$n$                                                  \n",
       "1    2.0000000000  -0.1428571429     2.1428571429e+00\n",
       "2   -0.1428571429  0.09818117606     2.4103831891e-01\n",
       "3    0.0981811761  0.09807621127     1.0496478500e-04\n",
       "4    0.0980762113                    8.3224691028e-11"
      ]
     },
     "metadata": {},
     "output_type": "display_data"
    }
   ],
   "source": [
    "if convergence:\n",
    "    print('Raíz: {} con punto inicial: {} y tolerancia {} después de  {} iteraciones.'.format(phat, p0, tol, len(data3)))\n",
    "    print('')\n",
    "    display(data3)\n",
    "else:\n",
    "    print(phat)"
   ]
  },
  {
   "cell_type": "code",
   "execution_count": 208,
   "id": "676466db",
   "metadata": {},
   "outputs": [],
   "source": [
    "# Guardamos los datos tabulados como un archivo de latex\n",
    "data3.to_latex(\"latex/fixed-point/fixed-point_raiz1_aitken.tex\")\n",
    "data3.to_csv(\"csv/fixed-point/fixed-point_raiz1_aitken.csv\", index = None, header = True)"
   ]
  },
  {
   "cell_type": "markdown",
   "id": "ae54a7f6",
   "metadata": {},
   "source": [
    "### Segunda raíz ($p_2$)"
   ]
  },
  {
   "cell_type": "code",
   "execution_count": 209,
   "id": "69d6ac87",
   "metadata": {},
   "outputs": [],
   "source": [
    "g2 =  1 / (2*r) - 5\n",
    "g2 = sp.lambdify(r, g2)"
   ]
  },
  {
   "cell_type": "code",
   "execution_count": 210,
   "id": "d15f3c84",
   "metadata": {},
   "outputs": [],
   "source": [
    "# Parametros del método del punto fijo. aproximación inicial, tolerancia y numero de iteraciones\n",
    "p0 = -4\n",
    "tol = 1e-5\n",
    "N0 = 20"
   ]
  },
  {
   "cell_type": "code",
   "execution_count": 211,
   "id": "23bec770",
   "metadata": {},
   "outputs": [],
   "source": [
    "phat, data3, convergence = steffensen(g2, p0, tol, N0)"
   ]
  },
  {
   "cell_type": "code",
   "execution_count": 212,
   "id": "786977bb",
   "metadata": {},
   "outputs": [],
   "source": [
    "# Tabulate the data            \n",
    "pd.set_option('display.precision', 10)\n",
    "if len(data3['phat_matrix']) < len(data3['p0_matrix']):\n",
    "    data3['phat_matrix'].append(\"\")\n",
    "data3 = pd.DataFrame({'$p_0$':data3['p0_matrix'],\n",
    "                     '$\\hat{p}$' : data3['phat_matrix'],\n",
    "                     '$Error (|p - p_0|)$': data3['error_matrix']\n",
    "                      })\n",
    "\n",
    "data3.index = np.arange(1, len(data3) + 1, 1)\n",
    "data3.index.name = '$n$'\n",
    "data3 = data3[['$p_0$','$\\hat{p}$', '$Error (|p - p_0|)$' ]]"
   ]
  },
  {
   "cell_type": "code",
   "execution_count": 213,
   "id": "51f3638b",
   "metadata": {},
   "outputs": [
    {
     "name": "stdout",
     "output_type": "stream",
     "text": [
      "Raíz: -5.098076211353315 con punto inicial: -4 y tolerancia 1e-05 después de  3 iteraciones.\n",
      "\n"
     ]
    },
    {
     "data": {
      "text/html": [
       "<div>\n",
       "<style scoped>\n",
       "    .dataframe tbody tr th:only-of-type {\n",
       "        vertical-align: middle;\n",
       "    }\n",
       "\n",
       "    .dataframe tbody tr th {\n",
       "        vertical-align: top;\n",
       "    }\n",
       "\n",
       "    .dataframe thead th {\n",
       "        text-align: right;\n",
       "    }\n",
       "</style>\n",
       "<table border=\"1\" class=\"dataframe\">\n",
       "  <thead>\n",
       "    <tr style=\"text-align: right;\">\n",
       "      <th></th>\n",
       "      <th>$p_0$</th>\n",
       "      <th>$\\hat{p}$</th>\n",
       "      <th>$Error (|p - p_0|)$</th>\n",
       "    </tr>\n",
       "    <tr>\n",
       "      <th>$n$</th>\n",
       "      <th></th>\n",
       "      <th></th>\n",
       "      <th></th>\n",
       "    </tr>\n",
       "  </thead>\n",
       "  <tbody>\n",
       "    <tr>\n",
       "      <th>1</th>\n",
       "      <td>-4.0000000000</td>\n",
       "      <td>-5.098214286</td>\n",
       "      <td>1.0982142857e+00</td>\n",
       "    </tr>\n",
       "    <tr>\n",
       "      <th>2</th>\n",
       "      <td>-5.0982142857</td>\n",
       "      <td>-5.098076211</td>\n",
       "      <td>1.3807435961e-04</td>\n",
       "    </tr>\n",
       "    <tr>\n",
       "      <th>3</th>\n",
       "      <td>-5.0980762114</td>\n",
       "      <td></td>\n",
       "      <td>1.3580248037e-12</td>\n",
       "    </tr>\n",
       "  </tbody>\n",
       "</table>\n",
       "</div>"
      ],
      "text/plain": [
       "            $p_0$    $\\hat{p}$  $Error (|p - p_0|)$\n",
       "$n$                                                \n",
       "1   -4.0000000000 -5.098214286     1.0982142857e+00\n",
       "2   -5.0982142857 -5.098076211     1.3807435961e-04\n",
       "3   -5.0980762114                  1.3580248037e-12"
      ]
     },
     "metadata": {},
     "output_type": "display_data"
    }
   ],
   "source": [
    "if convergence:\n",
    "    print('Raíz: {} con punto inicial: {} y tolerancia {} después de  {} iteraciones.'.format(phat, p0, tol, len(data3)))\n",
    "    print('')\n",
    "    display(data3)\n",
    "else:\n",
    "    print(phat)"
   ]
  },
  {
   "cell_type": "code",
   "execution_count": 214,
   "id": "1fdd0f89",
   "metadata": {},
   "outputs": [],
   "source": [
    "# Guardamos los datos tabulados como un archivo de latex\n",
    "data3.to_latex(\"latex/fixed-point/fixed-point_raiz2_aitken.tex\")"
   ]
  },
  {
   "cell_type": "code",
   "execution_count": null,
   "id": "66217b73",
   "metadata": {},
   "outputs": [],
   "source": []
  }
 ],
 "metadata": {
  "kernelspec": {
   "display_name": "Python 3",
   "language": "python",
   "name": "python3"
  },
  "language_info": {
   "codemirror_mode": {
    "name": "ipython",
    "version": 3
   },
   "file_extension": ".py",
   "mimetype": "text/x-python",
   "name": "python",
   "nbconvert_exporter": "python",
   "pygments_lexer": "ipython3",
   "version": "3.5.6"
  }
 },
 "nbformat": 4,
 "nbformat_minor": 5
}
