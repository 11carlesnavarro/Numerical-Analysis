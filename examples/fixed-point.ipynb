{
 "cells": [
  {
   "cell_type": "code",
   "execution_count": 1,
   "id": "23e0780a",
   "metadata": {},
   "outputs": [],
   "source": [
    "import sys\n",
    "sys.path.append(\"..\")\n",
    "from fixed_point.fixed_point import fixed_point\n",
    "import sympy as sp\n",
    "from sympy.plotting import plot as symplot\n",
    "import pandas as pd\n",
    "import numpy as np\n",
    "from numpy import linspace\n",
    "import matplotlib.pyplot as plt\n",
    "from IPython.display import Math, Latex, Markdown"
   ]
  },
  {
   "cell_type": "code",
   "execution_count": 2,
   "id": "4b813658",
   "metadata": {},
   "outputs": [],
   "source": [
    "# Definimos la función de la cual queremos buscar las raíces\n",
    "\n",
    "r = sp.symbols('r')\n",
    "E = (1 /(2*r**2) - (5 / r) - 1)\n",
    "E = sp.lambdify(r, E)"
   ]
  },
  {
   "cell_type": "code",
   "execution_count": 3,
   "id": "d993dcdd",
   "metadata": {},
   "outputs": [
    {
     "data": {
      "image/png": "[encoded data removed]",
      "text/plain": [
       "<Figure size 432x288 with 1 Axes>"
      ]
     },
     "metadata": {
      "needs_background": "light"
     },
     "output_type": "display_data"
    }
   ],
   "source": [
    "# Representamos los valores de la energía para ver por dónde pueden encontrarse las raíces\n",
    "\n",
    "x_vals = linspace(-5, 5, 100)\n",
    "y_vals = E(x_vals)\n",
    "\n",
    "plt.plot(x_vals, y_vals, color=\"b\")\n",
    "plt.plot(x_vals, y_vals)\n",
    "plt.axhline(y=0, color=\"black\")\n",
    "plt.axvline(x=0, color=\"black\")\n",
    "plt.ylim([-100, 100])\n",
    "plt.ylabel(\"E\")\n",
    "plt.xlabel(\"r\")\n",
    "plt.title(\"Energía en función del radio\")\n",
    "plt.show()"
   ]
  },
  {
   "cell_type": "markdown",
   "id": "26580372",
   "metadata": {},
   "source": [
    "## Solución con el método del punto fijo"
   ]
  },
  {
   "cell_type": "markdown",
   "id": "3c1a2deb",
   "metadata": {},
   "source": [
    "## Primera raíz ($p_1$)"
   ]
  },
  {
   "cell_type": "code",
   "execution_count": 4,
   "id": "6f6dfd58",
   "metadata": {},
   "outputs": [],
   "source": [
    "g1 = g = (1 - 2 * r**2) / 10\n",
    "g1 = sp.lambdify(r, g1)"
   ]
  },
  {
   "cell_type": "code",
   "execution_count": 5,
   "id": "1e3d9fde",
   "metadata": {},
   "outputs": [],
   "source": [
    "# Parametros del método del punto fijo. aproximación inicial, tolerancia y numero de iteraciones\n",
    "p0 = 2\n",
    "tol = 1e-5\n",
    "N0 = 20"
   ]
  },
  {
   "cell_type": "code",
   "execution_count": 6,
   "id": "9a6ec92a",
   "metadata": {},
   "outputs": [],
   "source": [
    "p1, data1, convergence = fixed_point(g1, p0, tol, N0)"
   ]
  },
  {
   "cell_type": "code",
   "execution_count": 7,
   "id": "0a783710",
   "metadata": {},
   "outputs": [],
   "source": [
    "# Tabulate the data            \n",
    "pd.set_option('display.precision', 10)\n",
    "data1 = pd.DataFrame({'$p_0$':data1['p0_matrix'],\n",
    "                     '$g(p_0)$' : data1['gp0_matrix'],\n",
    "                     '$Error (|p - p_0|)$': data1['error_matrix']\n",
    "                      })\n",
    "\n",
    "data1.index = np.arange(1, len(data1) + 1, 1)\n",
    "data1.index.name = '$n$'\n",
    "data1 = data1[['$p_0$','$g(p_0)$', '$Error (|p - p_0|)$' ]]"
   ]
  },
  {
   "cell_type": "code",
   "execution_count": 8,
   "id": "39cc66ea",
   "metadata": {},
   "outputs": [
    {
     "name": "stdout",
     "output_type": "stream",
     "text": [
      "Raíz: 0.09807609415468403 con punto inicial: 2 y tolerancia 1e-05 después de  6 iteraciones.\n",
      "\n"
     ]
    },
    {
     "data": {
      "text/html": [
       "<div>\n",
       "<style scoped>\n",
       "    .dataframe tbody tr th:only-of-type {\n",
       "        vertical-align: middle;\n",
       "    }\n",
       "\n",
       "    .dataframe tbody tr th {\n",
       "        vertical-align: top;\n",
       "    }\n",
       "\n",
       "    .dataframe thead th {\n",
       "        text-align: right;\n",
       "    }\n",
       "</style>\n",
       "<table border=\"1\" class=\"dataframe\">\n",
       "  <thead>\n",
       "    <tr style=\"text-align: right;\">\n",
       "      <th></th>\n",
       "      <th>$p_0$</th>\n",
       "      <th>$g(p_0)$</th>\n",
       "      <th>$Error (|p - p_0|)$</th>\n",
       "    </tr>\n",
       "    <tr>\n",
       "      <th>$n$</th>\n",
       "      <th></th>\n",
       "      <th></th>\n",
       "      <th></th>\n",
       "    </tr>\n",
       "  </thead>\n",
       "  <tbody>\n",
       "    <tr>\n",
       "      <th>1</th>\n",
       "      <td>2.0000000000</td>\n",
       "      <td>-0.7000000000</td>\n",
       "      <td>2.7000000000</td>\n",
       "    </tr>\n",
       "    <tr>\n",
       "      <th>2</th>\n",
       "      <td>-0.7000000000</td>\n",
       "      <td>0.0020000000</td>\n",
       "      <td>0.7020000000</td>\n",
       "    </tr>\n",
       "    <tr>\n",
       "      <th>3</th>\n",
       "      <td>0.0020000000</td>\n",
       "      <td>0.0999992000</td>\n",
       "      <td>0.0979992000</td>\n",
       "    </tr>\n",
       "    <tr>\n",
       "      <th>4</th>\n",
       "      <td>0.0999992000</td>\n",
       "      <td>0.0980000320</td>\n",
       "      <td>0.0019991680</td>\n",
       "    </tr>\n",
       "    <tr>\n",
       "      <th>5</th>\n",
       "      <td>0.0980000320</td>\n",
       "      <td>0.0980791987</td>\n",
       "      <td>0.0000791667</td>\n",
       "    </tr>\n",
       "    <tr>\n",
       "      <th>6</th>\n",
       "      <td>0.0980791987</td>\n",
       "      <td>0.0980760942</td>\n",
       "      <td>0.0000031046</td>\n",
       "    </tr>\n",
       "  </tbody>\n",
       "</table>\n",
       "</div>"
      ],
      "text/plain": [
       "            $p_0$      $g(p_0)$  $Error (|p - p_0|)$\n",
       "$n$                                                 \n",
       "1    2.0000000000 -0.7000000000         2.7000000000\n",
       "2   -0.7000000000  0.0020000000         0.7020000000\n",
       "3    0.0020000000  0.0999992000         0.0979992000\n",
       "4    0.0999992000  0.0980000320         0.0019991680\n",
       "5    0.0980000320  0.0980791987         0.0000791667\n",
       "6    0.0980791987  0.0980760942         0.0000031046"
      ]
     },
     "metadata": {},
     "output_type": "display_data"
    }
   ],
   "source": [
    "if convergence:\n",
    "    print('Raíz: {} con punto inicial: {} y tolerancia {} después de  {} iteraciones.'.format(p1, p0, tol, len(data1)))\n",
    "    print('')\n",
    "    display(data1)\n",
    "else:\n",
    "    print(p1)"
   ]
  },
  {
   "cell_type": "markdown",
   "id": "628ce1ba",
   "metadata": {},
   "source": [
    "## Segunda raíz ($p_2$)"
   ]
  },
  {
   "cell_type": "code",
   "execution_count": 9,
   "id": "8f5dec48",
   "metadata": {},
   "outputs": [],
   "source": [
    "g2 =  1 / (2*r) - 5\n",
    "g2 = sp.lambdify(r, g2)"
   ]
  },
  {
   "cell_type": "code",
   "execution_count": 10,
   "id": "ceb41775",
   "metadata": {},
   "outputs": [],
   "source": [
    "# Parametros del método del punto fijo. aproximación inicial, tolerancia y numero de iteraciones\n",
    "p0 = 2\n",
    "tol = 1e-5\n",
    "N0 = 20"
   ]
  },
  {
   "cell_type": "code",
   "execution_count": 11,
   "id": "15f5eafc",
   "metadata": {},
   "outputs": [],
   "source": [
    "p2, data2, convergence = fixed_point(g2, p0, tol, N0)"
   ]
  },
  {
   "cell_type": "code",
   "execution_count": 12,
   "id": "f50a06ce",
   "metadata": {},
   "outputs": [],
   "source": [
    "# Tabulate the data            \n",
    "pd.set_option('display.precision', 10)\n",
    "data2 = pd.DataFrame({'$p_0$':data2['p0_matrix'],\n",
    "                     '$g(p_0)$' : data2['gp0_matrix'],\n",
    "                     '$Error (|p - p_0|)$': data2['error_matrix']\n",
    "                      })\n",
    "\n",
    "data2.index = np.arange(1, len(data2) + 1, 1)\n",
    "data2.index.name = '$n$'\n",
    "data2 = data2[['$p_0$','$g(p_0)$', '$Error (|p - p_0|)$' ]]"
   ]
  },
  {
   "cell_type": "code",
   "execution_count": 13,
   "id": "37264f71",
   "metadata": {},
   "outputs": [
    {
     "name": "stdout",
     "output_type": "stream",
     "text": [
      "Raíz: -5.098076160253868 con punto inicial: 2 y tolerancia 1e-05 después de  5 iteraciones.\n",
      "\n"
     ]
    },
    {
     "data": {
      "text/html": [
       "<div>\n",
       "<style scoped>\n",
       "    .dataframe tbody tr th:only-of-type {\n",
       "        vertical-align: middle;\n",
       "    }\n",
       "\n",
       "    .dataframe tbody tr th {\n",
       "        vertical-align: top;\n",
       "    }\n",
       "\n",
       "    .dataframe thead th {\n",
       "        text-align: right;\n",
       "    }\n",
       "</style>\n",
       "<table border=\"1\" class=\"dataframe\">\n",
       "  <thead>\n",
       "    <tr style=\"text-align: right;\">\n",
       "      <th></th>\n",
       "      <th>$p_0$</th>\n",
       "      <th>$g(p_0)$</th>\n",
       "      <th>$Error (|p - p_0|)$</th>\n",
       "    </tr>\n",
       "    <tr>\n",
       "      <th>$n$</th>\n",
       "      <th></th>\n",
       "      <th></th>\n",
       "      <th></th>\n",
       "    </tr>\n",
       "  </thead>\n",
       "  <tbody>\n",
       "    <tr>\n",
       "      <th>1</th>\n",
       "      <td>2.0000000000</td>\n",
       "      <td>-4.7500000000</td>\n",
       "      <td>6.7500000000</td>\n",
       "    </tr>\n",
       "    <tr>\n",
       "      <th>2</th>\n",
       "      <td>-4.7500000000</td>\n",
       "      <td>-5.1052631579</td>\n",
       "      <td>0.3552631579</td>\n",
       "    </tr>\n",
       "    <tr>\n",
       "      <th>3</th>\n",
       "      <td>-5.1052631579</td>\n",
       "      <td>-5.0979381443</td>\n",
       "      <td>0.0073250136</td>\n",
       "    </tr>\n",
       "    <tr>\n",
       "      <th>4</th>\n",
       "      <td>-5.0979381443</td>\n",
       "      <td>-5.0980788675</td>\n",
       "      <td>0.0001407232</td>\n",
       "    </tr>\n",
       "    <tr>\n",
       "      <th>5</th>\n",
       "      <td>-5.0980788675</td>\n",
       "      <td>-5.0980761603</td>\n",
       "      <td>0.0000027073</td>\n",
       "    </tr>\n",
       "  </tbody>\n",
       "</table>\n",
       "</div>"
      ],
      "text/plain": [
       "            $p_0$      $g(p_0)$  $Error (|p - p_0|)$\n",
       "$n$                                                 \n",
       "1    2.0000000000 -4.7500000000         6.7500000000\n",
       "2   -4.7500000000 -5.1052631579         0.3552631579\n",
       "3   -5.1052631579 -5.0979381443         0.0073250136\n",
       "4   -5.0979381443 -5.0980788675         0.0001407232\n",
       "5   -5.0980788675 -5.0980761603         0.0000027073"
      ]
     },
     "metadata": {},
     "output_type": "display_data"
    }
   ],
   "source": [
    "if convergence:\n",
    "    print('Raíz: {} con punto inicial: {} y tolerancia {} después de  {} iteraciones.'.format(p2, p0, tol, len(data2)))\n",
    "    print('')\n",
    "    display(data2)\n",
    "else:\n",
    "    print(p2)"
   ]
  },
  {
   "cell_type": "markdown",
   "id": "f1b1a310",
   "metadata": {},
   "source": [
    "## Accelerated fixed point iteration with Steffensen method"
   ]
  },
  {
   "cell_type": "code",
   "execution_count": 26,
   "id": "1a490cb9",
   "metadata": {},
   "outputs": [],
   "source": [
    "from aitken.steffensen import steffensen"
   ]
  },
  {
   "cell_type": "code",
   "execution_count": 27,
   "id": "b8c85599",
   "metadata": {},
   "outputs": [],
   "source": [
    "g2 =  1 / (2*r) - 5\n",
    "g2 = sp.lambdify(r, g2)"
   ]
  },
  {
   "cell_type": "code",
   "execution_count": 32,
   "id": "1a6305e6",
   "metadata": {},
   "outputs": [],
   "source": [
    "# Parametros del método del punto fijo. aproximación inicial, tolerancia y numero de iteraciones\n",
    "p0 = 5000\n",
    "tol = 1e-5\n",
    "N0 = 20"
   ]
  },
  {
   "cell_type": "code",
   "execution_count": 33,
   "id": "6073a243",
   "metadata": {},
   "outputs": [],
   "source": [
    "phat, data3, convergence = steffensen(g2, p0, tol, N0)"
   ]
  },
  {
   "cell_type": "code",
   "execution_count": 34,
   "id": "630cd431",
   "metadata": {},
   "outputs": [],
   "source": [
    "# Tabulate the data            \n",
    "pd.set_option('display.precision', 10)\n",
    "data3 = pd.DataFrame({'$p_0$':data3['p0_matrix'],\n",
    "                     '$p_1$' : data3['p1_matrix'],\n",
    "                      '$p_2$' : data3['p2_matrix'],\n",
    "                     '$Error (|p - p_0|)$': data3['error_matrix']\n",
    "                      })\n",
    "\n",
    "data3.index = np.arange(1, len(data3) + 1, 1)\n",
    "data3.index.name = '$n$'\n",
    "data3 = data3[['$p_0$','$p_1$','$p_2$', '$Error (|p - p_0|)$' ]]"
   ]
  },
  {
   "cell_type": "code",
   "execution_count": 35,
   "id": "391eab93",
   "metadata": {},
   "outputs": [
    {
     "name": "stdout",
     "output_type": "stream",
     "text": [
      "Raíz: -5.098076211353316 con punto inicial: 5000 y tolerancia 1e-05 después de  4 iteraciones.\n",
      "\n"
     ]
    },
    {
     "data": {
      "text/html": [
       "<div>\n",
       "<style scoped>\n",
       "    .dataframe tbody tr th:only-of-type {\n",
       "        vertical-align: middle;\n",
       "    }\n",
       "\n",
       "    .dataframe tbody tr th {\n",
       "        vertical-align: top;\n",
       "    }\n",
       "\n",
       "    .dataframe thead th {\n",
       "        text-align: right;\n",
       "    }\n",
       "</style>\n",
       "<table border=\"1\" class=\"dataframe\">\n",
       "  <thead>\n",
       "    <tr style=\"text-align: right;\">\n",
       "      <th></th>\n",
       "      <th>$p_0$</th>\n",
       "      <th>$p_1$</th>\n",
       "      <th>$p_2$</th>\n",
       "      <th>$Error (|p - p_0|)$</th>\n",
       "    </tr>\n",
       "    <tr>\n",
       "      <th>$n$</th>\n",
       "      <th></th>\n",
       "      <th></th>\n",
       "      <th></th>\n",
       "      <th></th>\n",
       "    </tr>\n",
       "  </thead>\n",
       "  <tbody>\n",
       "    <tr>\n",
       "      <th>1</th>\n",
       "      <td>5000.0000000000</td>\n",
       "      <td>-4.9999000000</td>\n",
       "      <td>-5.1000020000</td>\n",
       "      <td>5005.1000040022</td>\n",
       "    </tr>\n",
       "    <tr>\n",
       "      <th>2</th>\n",
       "      <td>-5.1000040022</td>\n",
       "      <td>-5.0980391388</td>\n",
       "      <td>-5.0980769246</td>\n",
       "      <td>0.0019277905</td>\n",
       "    </tr>\n",
       "    <tr>\n",
       "      <th>3</th>\n",
       "      <td>-5.0980762116</td>\n",
       "      <td>-5.0980762113</td>\n",
       "      <td>-5.0980762114</td>\n",
       "      <td>0.0000000003</td>\n",
       "    </tr>\n",
       "  </tbody>\n",
       "</table>\n",
       "</div>"
      ],
      "text/plain": [
       "               $p_0$         $p_1$         $p_2$  $Error (|p - p_0|)$\n",
       "$n$                                                                  \n",
       "1    5000.0000000000 -4.9999000000 -5.1000020000      5005.1000040022\n",
       "2      -5.1000040022 -5.0980391388 -5.0980769246         0.0019277905\n",
       "3      -5.0980762116 -5.0980762113 -5.0980762114         0.0000000003"
      ]
     },
     "metadata": {},
     "output_type": "display_data"
    }
   ],
   "source": [
    "if convergence:\n",
    "    print('Raíz: {} con punto inicial: {} y tolerancia {} después de  {} iteraciones.'.format(phat, p0, tol, len(data2)))\n",
    "    print('')\n",
    "    display(data3)\n",
    "else:\n",
    "    print(phat)"
   ]
  },
  {
   "cell_type": "code",
   "execution_count": null,
   "id": "3c71ec40",
   "metadata": {},
   "outputs": [],
   "source": []
  }
 ],
 "metadata": {
  "kernelspec": {
   "display_name": "Python 3",
   "language": "python",
   "name": "python3"
  },
  "language_info": {
   "codemirror_mode": {
    "name": "ipython",
    "version": 3
   },
   "file_extension": ".py",
   "mimetype": "text/x-python",
   "name": "python",
   "nbconvert_exporter": "python",
   "pygments_lexer": "ipython3",
   "version": "3.5.6"
  }
 },
 "nbformat": 4,
 "nbformat_minor": 5
}
