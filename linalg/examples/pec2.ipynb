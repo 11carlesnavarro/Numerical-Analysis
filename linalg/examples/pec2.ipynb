{
 "cells": [
  {
   "cell_type": "markdown",
   "id": "15808033",
   "metadata": {},
   "source": [
    "# PEC 2"
   ]
  },
  {
   "cell_type": "code",
   "execution_count": 1,
   "id": "2976b6dc",
   "metadata": {},
   "outputs": [],
   "source": [
    "import sys\n",
    "sys.path.append(\"..\")\n",
    "import sympy as sp\n",
    "from sympy.plotting import plot as symplot\n",
    "import pandas as pd\n",
    "import numpy as np\n",
    "from numpy import linspace\n",
    "import matplotlib.pyplot as plt\n",
    "from IPython.display import Math, Latex, Markdown"
   ]
  },
  {
   "cell_type": "markdown",
   "id": "6d641491",
   "metadata": {},
   "source": [
    "## Solve matrix I using Crout's method"
   ]
  },
  {
   "cell_type": "code",
   "execution_count": 2,
   "id": "72105442",
   "metadata": {},
   "outputs": [],
   "source": [
    "from lu.crout import crout\n",
    "from lu.solver import lu_solver\n",
    "import numpy as np"
   ]
  },
  {
   "cell_type": "code",
   "execution_count": 3,
   "id": "52e94110",
   "metadata": {},
   "outputs": [],
   "source": [
    "I = np.array([[1, -1, 0, 0, -1, 0, 0],\n",
    "             [-1, 0, 1, 0, 0, 0, 1],\n",
    "             [0, 1, 0, -1, 0, 1, 0],\n",
    "             [1, 0, 0, 0, 5, 0, 5],\n",
    "             [0, -3, 0, 0, 5, 5, 0],\n",
    "             [0, 0, -10, 0, 0, 0, 5],\n",
    "             [0, 0, 0, 10, 0, 5, 0]\n",
    "             ])"
   ]
  },
  {
   "cell_type": "code",
   "execution_count": 4,
   "id": "142af7f3",
   "metadata": {},
   "outputs": [
    {
     "data": {
      "text/plain": [
       "array([[  1,  -1,   0,   0,  -1,   0,   0],\n",
       "       [ -1,   0,   1,   0,   0,   0,   1],\n",
       "       [  0,   1,   0,  -1,   0,   1,   0],\n",
       "       [  1,   0,   0,   0,   5,   0,   5],\n",
       "       [  0,  -3,   0,   0,   5,   5,   0],\n",
       "       [  0,   0, -10,   0,   0,   0,   5],\n",
       "       [  0,   0,   0,  10,   0,   5,   0]])"
      ]
     },
     "execution_count": 4,
     "metadata": {},
     "output_type": "execute_result"
    }
   ],
   "source": [
    "I"
   ]
  },
  {
   "cell_type": "code",
   "execution_count": 5,
   "id": "6c176e14",
   "metadata": {},
   "outputs": [],
   "source": [
    "L, U = crout(7, I)"
   ]
  },
  {
   "cell_type": "code",
   "execution_count": 6,
   "id": "7eb598a1",
   "metadata": {},
   "outputs": [
    {
     "name": "stdout",
     "output_type": "stream",
     "text": [
      "L matrix:\n",
      "[[  1.           0.           0.           0.           0.           0.           0.        ]\n",
      " [ -1.          -1.           0.           0.           0.           0.           0.        ]\n",
      " [  0.           1.           1.           0.           0.           0.           0.        ]\n",
      " [  1.           1.           1.           1.           0.           0.           0.        ]\n",
      " [  0.          -3.          -3.          -3.          23.           0.           0.        ]\n",
      " [  0.           0.         -10.         -10.          50.         -10.86956522   0.        ]\n",
      " [  0.           0.           0.          10.         -60.          28.04347826  72.7       ]]\n",
      "U matrix\n",
      "[[ 1.         -1.          0.          0.         -1.          0.          0.        ]\n",
      " [ 0.          1.         -1.         -0.          1.         -0.         -1.        ]\n",
      " [ 0.          0.          1.         -1.         -1.          1.          1.        ]\n",
      " [ 0.          0.          0.          1.          6.         -1.          5.        ]\n",
      " [ 0.          0.          0.          0.          1.          0.2173913   0.65217391]\n",
      " [ 0.          0.          0.          0.          0.          1.         -2.98      ]\n",
      " [ 0.          0.          0.          0.          0.          0.          1.        ]]\n"
     ]
    }
   ],
   "source": [
    "np.set_printoptions(linewidth=100)\n",
    "print('L matrix:')\n",
    "print(L)\n",
    "\n",
    "print('U matrix')\n",
    "print(U)"
   ]
  },
  {
   "cell_type": "code",
   "execution_count": 7,
   "id": "f38cbbfe",
   "metadata": {},
   "outputs": [],
   "source": [
    "b = np.array([0, 0, 0, 5, 10, 10, 10])"
   ]
  },
  {
   "cell_type": "code",
   "execution_count": 8,
   "id": "4db98e66",
   "metadata": {},
   "outputs": [],
   "source": [
    "y, x = lu_solver(L, U, b, 7)"
   ]
  },
  {
   "cell_type": "code",
   "execution_count": 9,
   "id": "a4714a99",
   "metadata": {},
   "outputs": [
    {
     "data": {
      "text/plain": [
       "array([ 0.        , -0.        ,  0.        ,  5.        ,  1.08695652, -0.52      ,  0.5474553 ])"
      ]
     },
     "execution_count": 9,
     "metadata": {},
     "output_type": "execute_result"
    }
   ],
   "source": [
    "y"
   ]
  },
  {
   "cell_type": "code",
   "execution_count": 10,
   "id": "533ade46",
   "metadata": {},
   "outputs": [
    {
     "data": {
      "text/plain": [
       "array([-0.17881706, -0.66712517, -0.72627235,  0.44429161,  0.48830812,  1.11141678,  0.5474553 ])"
      ]
     },
     "execution_count": 10,
     "metadata": {},
     "output_type": "execute_result"
    }
   ],
   "source": [
    "x"
   ]
  },
  {
   "cell_type": "code",
   "execution_count": 11,
   "id": "76d0a9f2",
   "metadata": {},
   "outputs": [
    {
     "data": {
      "text/plain": [
       "array([ 0.,  0.,  0.,  5., 10., 10., 10.])"
      ]
     },
     "execution_count": 11,
     "metadata": {},
     "output_type": "execute_result"
    }
   ],
   "source": [
    "np.matmul(I, x)"
   ]
  },
  {
   "cell_type": "markdown",
   "id": "caf01d96",
   "metadata": {},
   "source": [
    "## Solve matrix I' using Crout's method for tridiagonal matrices"
   ]
  },
  {
   "cell_type": "code",
   "execution_count": 12,
   "id": "a504f5d2",
   "metadata": {},
   "outputs": [],
   "source": [
    "from lu.crout import crout_tridiagonal\n",
    "import numpy as np"
   ]
  },
  {
   "cell_type": "code",
   "execution_count": 13,
   "id": "969421d0",
   "metadata": {},
   "outputs": [],
   "source": [
    "I_prime = np.array([[10, 5, 0, 0, 0, 0, 0],\n",
    "                   [-1, 1, 1, 0, 0, 0, 0],\n",
    "                   [0, 5, -3, 5, 0, 0, 0],\n",
    "                   [0, 0, -1, -1, 1, 0, 0],\n",
    "                   [0, 0, 0, 5, 1, 5, 0],\n",
    "                   [0, 0, 0, 0, 1, -1, -1],\n",
    "                   [0, 0, 0, 0, 0, 5, -10]])"
   ]
  },
  {
   "cell_type": "code",
   "execution_count": 14,
   "id": "4224028c",
   "metadata": {},
   "outputs": [
    {
     "data": {
      "text/plain": [
       "array([[ 10,   5,   0,   0,   0,   0,   0],\n",
       "       [ -1,   1,   1,   0,   0,   0,   0],\n",
       "       [  0,   5,  -3,   5,   0,   0,   0],\n",
       "       [  0,   0,  -1,  -1,   1,   0,   0],\n",
       "       [  0,   0,   0,   5,   1,   5,   0],\n",
       "       [  0,   0,   0,   0,   1,  -1,  -1],\n",
       "       [  0,   0,   0,   0,   0,   5, -10]])"
      ]
     },
     "execution_count": 14,
     "metadata": {},
     "output_type": "execute_result"
    }
   ],
   "source": [
    "I_prime"
   ]
  },
  {
   "cell_type": "code",
   "execution_count": 15,
   "id": "00fe329f",
   "metadata": {},
   "outputs": [],
   "source": [
    "L, U = crout_tridiagonal(7, I_prime)"
   ]
  },
  {
   "cell_type": "code",
   "execution_count": 16,
   "id": "4bca6bbe",
   "metadata": {},
   "outputs": [
    {
     "name": "stdout",
     "output_type": "stream",
     "text": [
      "L matrix:\n",
      "[[ 10.           0.           0.           0.           0.           0.           0.        ]\n",
      " [ -1.           1.5          0.           0.           0.           0.           0.        ]\n",
      " [  0.           5.          -6.33333333   0.           0.           0.           0.        ]\n",
      " [  0.           0.          -1.          -1.78947368   0.           0.           0.        ]\n",
      " [  0.           0.           0.           5.           3.79411765   0.           0.        ]\n",
      " [  0.           0.           0.           0.           1.          -2.31782946   0.        ]\n",
      " [  0.           0.           0.           0.           0.           5.         -12.15719064]]\n",
      "U matrix\n",
      "[[ 1.          0.5         0.          0.          0.          0.          0.        ]\n",
      " [ 0.          1.          0.66666667  0.          0.          0.          0.        ]\n",
      " [ 0.          0.          1.         -0.78947368  0.          0.          0.        ]\n",
      " [ 0.          0.          0.          1.         -0.55882353  0.          0.        ]\n",
      " [ 0.          0.          0.          0.          1.          1.31782946  0.        ]\n",
      " [ 0.          0.          0.          0.          0.          1.          0.43143813]\n",
      " [ 0.          0.          0.          0.          0.          0.          1.        ]]\n"
     ]
    }
   ],
   "source": [
    "np.set_printoptions(linewidth=100)\n",
    "print('L matrix:')\n",
    "print(L)\n",
    "\n",
    "print('U matrix')\n",
    "print(U)"
   ]
  },
  {
   "cell_type": "code",
   "execution_count": 17,
   "id": "5d078748",
   "metadata": {},
   "outputs": [],
   "source": [
    "b = np.array([10, 0, 10, 0, 5, 0, 10])"
   ]
  },
  {
   "cell_type": "code",
   "execution_count": 18,
   "id": "18736bc1",
   "metadata": {},
   "outputs": [],
   "source": [
    "y, x = lu_solver(L, U, b, 7)"
   ]
  },
  {
   "cell_type": "code",
   "execution_count": 19,
   "id": "58d69f37",
   "metadata": {},
   "outputs": [
    {
     "data": {
      "text/plain": [
       "array([ 1.        ,  0.66666667, -1.05263158,  0.58823529,  0.54263566,  0.23411371, -0.72627235])"
      ]
     },
     "execution_count": 19,
     "metadata": {},
     "output_type": "execute_result"
    }
   ],
   "source": [
    "y"
   ]
  },
  {
   "cell_type": "code",
   "execution_count": 20,
   "id": "96f79eeb",
   "metadata": {},
   "outputs": [
    {
     "data": {
      "text/plain": [
       "array([ 0.44429161,  1.11141678, -0.66712517,  0.48830812, -0.17881706,  0.5474553 , -0.72627235])"
      ]
     },
     "execution_count": 20,
     "metadata": {},
     "output_type": "execute_result"
    }
   ],
   "source": [
    "x"
   ]
  },
  {
   "cell_type": "code",
   "execution_count": 21,
   "id": "5df98317",
   "metadata": {},
   "outputs": [
    {
     "data": {
      "text/plain": [
       "array([ 1.00000000e+01,  0.00000000e+00,  1.00000000e+01, -5.55111512e-17,  5.00000000e+00,\n",
       "        1.11022302e-16,  1.00000000e+01])"
      ]
     },
     "execution_count": 21,
     "metadata": {},
     "output_type": "execute_result"
    }
   ],
   "source": [
    "np.matmul(I_prime, x)"
   ]
  },
  {
   "cell_type": "markdown",
   "id": "6185cadc",
   "metadata": {},
   "source": [
    "## Solve matrix I' using Doolitle's method"
   ]
  },
  {
   "cell_type": "code",
   "execution_count": 22,
   "id": "b3889054",
   "metadata": {},
   "outputs": [],
   "source": [
    "from lu.doolittle import doolittle\n",
    "import numpy as np\n",
    "from lu.solver import lu_solver"
   ]
  },
  {
   "cell_type": "code",
   "execution_count": 23,
   "id": "1b4b5387",
   "metadata": {},
   "outputs": [],
   "source": [
    "I_prime = np.array([[10, 5, 0, 0, 0, 0, 0],\n",
    "                   [-1, 1, 1, 0, 0, 0, 0],\n",
    "                   [0, 5, -3, 5, 0, 0, 0],\n",
    "                   [0, 0, -1, -1, 1, 0, 0],\n",
    "                   [0, 0, 0, 5, 1, 5, 0],\n",
    "                   [0, 0, 0, 0, 1, -1, -1],\n",
    "                   [0, 0, 0, 0, 0, 5, -10]])"
   ]
  },
  {
   "cell_type": "code",
   "execution_count": 24,
   "id": "0849648a",
   "metadata": {},
   "outputs": [
    {
     "data": {
      "text/plain": [
       "array([[ 10,   5,   0,   0,   0,   0,   0],\n",
       "       [ -1,   1,   1,   0,   0,   0,   0],\n",
       "       [  0,   5,  -3,   5,   0,   0,   0],\n",
       "       [  0,   0,  -1,  -1,   1,   0,   0],\n",
       "       [  0,   0,   0,   5,   1,   5,   0],\n",
       "       [  0,   0,   0,   0,   1,  -1,  -1],\n",
       "       [  0,   0,   0,   0,   0,   5, -10]])"
      ]
     },
     "execution_count": 24,
     "metadata": {},
     "output_type": "execute_result"
    }
   ],
   "source": [
    "I_prime"
   ]
  },
  {
   "cell_type": "code",
   "execution_count": 25,
   "id": "f6337717",
   "metadata": {},
   "outputs": [],
   "source": [
    "L, U = doolittle(7, I_prime)"
   ]
  },
  {
   "cell_type": "code",
   "execution_count": 26,
   "id": "f2d4b0d2",
   "metadata": {},
   "outputs": [
    {
     "name": "stdout",
     "output_type": "stream",
     "text": [
      "L matrix:\n",
      "[[ 1.          0.          0.          0.          0.          0.          0.        ]\n",
      " [-0.1         1.          0.          0.          0.          0.          0.        ]\n",
      " [ 0.          3.33333333  1.          0.          0.          0.          0.        ]\n",
      " [ 0.          0.          0.15789474  1.          0.          0.          0.        ]\n",
      " [ 0.          0.         -0.         -2.79411765  1.          0.          0.        ]\n",
      " [ 0.          0.         -0.         -0.          0.26356589  1.          0.        ]\n",
      " [ 0.          0.         -0.         -0.          0.         -2.15719064  1.        ]]\n",
      "U matrix\n",
      "[[ 10.           5.           0.           0.           0.           0.           0.        ]\n",
      " [  0.           1.5          1.           0.           0.           0.           0.        ]\n",
      " [  0.           0.          -6.33333333   5.           0.           0.           0.        ]\n",
      " [  0.           0.           0.          -1.78947368   1.           0.           0.        ]\n",
      " [  0.           0.           0.           0.           3.79411765   5.           0.        ]\n",
      " [  0.           0.           0.           0.           0.          -2.31782946  -1.        ]\n",
      " [  0.           0.           0.           0.           0.           0.         -12.15719064]]\n"
     ]
    }
   ],
   "source": [
    "np.set_printoptions(linewidth=100)\n",
    "print('L matrix:')\n",
    "print(L)\n",
    "\n",
    "print('U matrix')\n",
    "print(U)"
   ]
  },
  {
   "cell_type": "code",
   "execution_count": 27,
   "id": "e5cd7f48",
   "metadata": {},
   "outputs": [],
   "source": [
    "b = np.array([10, 0, 10, 0, 5, 0, 10])"
   ]
  },
  {
   "cell_type": "code",
   "execution_count": 28,
   "id": "dd917b54",
   "metadata": {},
   "outputs": [],
   "source": [
    "y, x = lu_solver(L, U, b, 7)"
   ]
  },
  {
   "cell_type": "code",
   "execution_count": 29,
   "id": "3e65df9b",
   "metadata": {},
   "outputs": [
    {
     "data": {
      "text/plain": [
       "array([10.        ,  1.        ,  6.66666667, -1.05263158,  2.05882353, -0.54263566,  8.82943144])"
      ]
     },
     "execution_count": 29,
     "metadata": {},
     "output_type": "execute_result"
    }
   ],
   "source": [
    "y"
   ]
  },
  {
   "cell_type": "code",
   "execution_count": 30,
   "id": "a19185fc",
   "metadata": {},
   "outputs": [
    {
     "data": {
      "text/plain": [
       "array([ 0.44429161,  1.11141678, -0.66712517,  0.48830812, -0.17881706,  0.5474553 , -0.72627235])"
      ]
     },
     "execution_count": 30,
     "metadata": {},
     "output_type": "execute_result"
    }
   ],
   "source": [
    "x"
   ]
  },
  {
   "cell_type": "code",
   "execution_count": 31,
   "id": "565e43d8",
   "metadata": {},
   "outputs": [
    {
     "data": {
      "text/plain": [
       "array([ 1.00000000e+01,  0.00000000e+00,  1.00000000e+01, -1.66533454e-16,  5.00000000e+00,\n",
       "        0.00000000e+00,  1.00000000e+01])"
      ]
     },
     "execution_count": 31,
     "metadata": {},
     "output_type": "execute_result"
    }
   ],
   "source": [
    "np.matmul(I_prime, x)"
   ]
  },
  {
   "cell_type": "markdown",
   "id": "cda719a0",
   "metadata": {},
   "source": [
    "## Solve matrix I' using Choleski method"
   ]
  },
  {
   "cell_type": "code",
   "execution_count": 2,
   "id": "7a44e603",
   "metadata": {},
   "outputs": [],
   "source": [
    "from lu.choleski import choleski\n",
    "from lu.solver import complex_lu_solver\n",
    "import numpy as np"
   ]
  },
  {
   "cell_type": "code",
   "execution_count": 3,
   "id": "92fc1708",
   "metadata": {},
   "outputs": [],
   "source": [
    "I_prime = np.array([[10, 5, 0, 0, 0, 0, 0],\n",
    "                    [-1, 1, 1, 0, 0, 0, 0],\n",
    "                    [0, 5, -3, 5, 0, 0, 0],\n",
    "                    [0, 0, -1, -1, 1, 0, 0],\n",
    "                    [0, 0, 0, 5, 1, 5, 0],\n",
    "                    [0, 0, 0, 0, 1, -1, -1],\n",
    "                    [0, 0, 0, 0, 0, 5, -10]])"
   ]
  },
  {
   "cell_type": "code",
   "execution_count": 4,
   "id": "ecca9d48",
   "metadata": {},
   "outputs": [
    {
     "data": {
      "text/plain": [
       "array([[ 10,   5,   0,   0,   0,   0,   0],\n",
       "       [ -1,   1,   1,   0,   0,   0,   0],\n",
       "       [  0,   5,  -3,   5,   0,   0,   0],\n",
       "       [  0,   0,  -1,  -1,   1,   0,   0],\n",
       "       [  0,   0,   0,   5,   1,   5,   0],\n",
       "       [  0,   0,   0,   0,   1,  -1,  -1],\n",
       "       [  0,   0,   0,   0,   0,   5, -10]])"
      ]
     },
     "execution_count": 4,
     "metadata": {},
     "output_type": "execute_result"
    }
   ],
   "source": [
    "I_prime"
   ]
  },
  {
   "cell_type": "code",
   "execution_count": 5,
   "id": "ae6d832a",
   "metadata": {},
   "outputs": [],
   "source": [
    "L = choleski(7, I_prime)"
   ]
  },
  {
   "cell_type": "code",
   "execution_count": 6,
   "id": "00e16095",
   "metadata": {},
   "outputs": [],
   "source": [
    "U = np.transpose(L)"
   ]
  },
  {
   "cell_type": "code",
   "execution_count": 7,
   "id": "7dbab64a",
   "metadata": {},
   "outputs": [
    {
     "name": "stdout",
     "output_type": "stream",
     "text": [
      "L matrix:\n",
      "[[ 3.16227766+0.j          0.        +0.j          0.        +0.j          0.        +0.j          0.        +0.j          0.        +0.j          0.        +0.j        ]\n",
      " [-0.31622777+0.j          0.9486833 +0.j          0.        +0.j          0.        +0.j          0.        +0.j          0.        +0.j          0.        +0.j        ]\n",
      " [ 0.        +0.j          1.05409255+0.j          0.        +2.02758751j  0.        +0.j          0.        +0.j          0.        +0.j          0.        +0.j        ]\n",
      " [ 0.        +0.j          0.        +0.j          0.        -2.46598481j  2.25412535+0.j          0.        +0.j          0.        +0.j          0.        +0.j        ]\n",
      " [ 0.        +0.j          0.        +0.j          0.        +0.j          0.44363105+0.j          0.89620951+0.j          0.        +0.j          0.        +0.j        ]\n",
      " [ 0.        +0.j          0.        +0.j          0.        +0.j          0.        +0.j          5.57905259+0.j          0.        +5.66796505j  0.        +0.j        ]\n",
      " [ 0.        +0.j          0.        +0.j          0.        +0.j          0.        +0.j          0.        +0.j          0.        +0.17643016j  0.        +0.j        ]]\n",
      "U matrix:\n",
      "[[ 3.16227766+0.j         -0.31622777+0.j          0.        +0.j          0.        +0.j          0.        +0.j          0.        +0.j          0.        +0.j        ]\n",
      " [ 0.        +0.j          0.9486833 +0.j          1.05409255+0.j          0.        +0.j          0.        +0.j          0.        +0.j          0.        +0.j        ]\n",
      " [ 0.        +0.j          0.        +0.j          0.        +2.02758751j  0.        -2.46598481j  0.        +0.j          0.        +0.j          0.        +0.j        ]\n",
      " [ 0.        +0.j          0.        +0.j          0.        +0.j          2.25412535+0.j          0.44363105+0.j          0.        +0.j          0.        +0.j        ]\n",
      " [ 0.        +0.j          0.        +0.j          0.        +0.j          0.        +0.j          0.89620951+0.j          5.57905259+0.j          0.        +0.j        ]\n",
      " [ 0.        +0.j          0.        +0.j          0.        +0.j          0.        +0.j          0.        +0.j          0.        +5.66796505j  0.        +0.17643016j]\n",
      " [ 0.        +0.j          0.        +0.j          0.        +0.j          0.        +0.j          0.        +0.j          0.        +0.j          0.        +0.j        ]]\n"
     ]
    }
   ],
   "source": [
    "np.set_printoptions(linewidth=200)\n",
    "print('L matrix:')\n",
    "print(L)\n",
    "\n",
    "print('U matrix:')\n",
    "print(U)\n"
   ]
  },
  {
   "cell_type": "code",
   "execution_count": 8,
   "id": "a135b0d1",
   "metadata": {},
   "outputs": [
    {
     "name": "stdout",
     "output_type": "stream",
     "text": [
      "0\n"
     ]
    }
   ],
   "source": [
    "for k in range(1):\n",
    "    print(k)"
   ]
  },
  {
   "cell_type": "code",
   "execution_count": 39,
   "id": "538a72d4",
   "metadata": {},
   "outputs": [],
   "source": [
    "b = np.array([10, 0, 10, 0, 5, 0, 10])"
   ]
  },
  {
   "cell_type": "code",
   "execution_count": 40,
   "id": "71942c18",
   "metadata": {},
   "outputs": [],
   "source": [
    "y, x = complex_lu_solver(L, U, b, 7)"
   ]
  },
  {
   "cell_type": "code",
   "execution_count": 41,
   "id": "b999eee7",
   "metadata": {},
   "outputs": [],
   "source": [
    "y = np.linalg.solve(L, b)"
   ]
  },
  {
   "cell_type": "code",
   "execution_count": 42,
   "id": "eb988662",
   "metadata": {},
   "outputs": [
    {
     "data": {
      "text/plain": [
       "array([ 1.06133295+0.j,  0.61332947+0.j,  0.44800347+0.j,  2.14613619+0.j, -0.09388118+0.j,  0.589549  +0.j, -1.0589549 -0.j])"
      ]
     },
     "execution_count": 42,
     "metadata": {},
     "output_type": "execute_result"
    }
   ],
   "source": [
    "np.linalg.solve(U, y)"
   ]
  },
  {
   "cell_type": "code",
   "execution_count": 43,
   "id": "89696363",
   "metadata": {},
   "outputs": [
    {
     "data": {
      "text/plain": [
       "array([[ 10.+0.j,  -1.+0.j,   0.+0.j,   0.+0.j,   0.+0.j,   0.+0.j,   0.+0.j],\n",
       "       [ -1.+0.j,   1.+0.j,   1.+0.j,   0.+0.j,   0.+0.j,   0.+0.j,   0.+0.j],\n",
       "       [  0.+0.j,   1.+0.j,  -3.+0.j,   5.+0.j,   0.+0.j,   0.+0.j,   0.+0.j],\n",
       "       [  0.+0.j,   0.+0.j,   5.+0.j,  -1.+0.j,   1.+0.j,   0.+0.j,   0.+0.j],\n",
       "       [  0.+0.j,   0.+0.j,   0.+0.j,   1.+0.j,   1.+0.j,   5.+0.j,   0.+0.j],\n",
       "       [  0.+0.j,   0.+0.j,   0.+0.j,   0.+0.j,   5.+0.j,  -1.+0.j,  -1.+0.j],\n",
       "       [  0.+0.j,   0.+0.j,   0.+0.j,   0.+0.j,   0.+0.j,  -1.+0.j, -10.+0.j]])"
      ]
     },
     "execution_count": 43,
     "metadata": {},
     "output_type": "execute_result"
    }
   ],
   "source": [
    "np.matmul(L, U)"
   ]
  },
  {
   "cell_type": "code",
   "execution_count": 33,
   "id": "935230ae",
   "metadata": {},
   "outputs": [
    {
     "name": "stderr",
     "output_type": "stream",
     "text": [
      "/Applications/anaconda3/envs/compu/lib/python3.5/site-packages/ipykernel_launcher.py:1: ComplexWarning: Casting complex values to real discards the imaginary part\n",
      "  \"\"\"Entry point for launching an IPython kernel.\n"
     ]
    }
   ],
   "source": [
    "b_s = np.array(np.matmul(I_prime, x), dtype = np.float)"
   ]
  },
  {
   "cell_type": "code",
   "execution_count": 34,
   "id": "c9e8f985",
   "metadata": {},
   "outputs": [
    {
     "data": {
      "text/plain": [
       "array([ 1.36799768e+01, -1.11022302e-16,  1.24533179e+01, -2.68802084e+00,  1.35845448e+01,  3.75524721e-01,  1.35372940e+01])"
      ]
     },
     "execution_count": 34,
     "metadata": {},
     "output_type": "execute_result"
    }
   ],
   "source": []
  },
  {
   "cell_type": "markdown",
   "id": "657ec7b0",
   "metadata": {},
   "source": [
    "## Solve matrix I' modified using Choleski method"
   ]
  },
  {
   "cell_type": "code",
   "execution_count": 32,
   "id": "b6c6c2a7",
   "metadata": {},
   "outputs": [],
   "source": [
    "from lu.choleski import choleski_modified\n",
    "import numpy as np"
   ]
  },
  {
   "cell_type": "code",
   "execution_count": 69,
   "id": "ea4b47a8",
   "metadata": {},
   "outputs": [],
   "source": [
    "I_prime_modified = np.array([[10, 5, 0, 0, 0, 0, 0],\n",
    "                             [-1, 1, 1, 0, 0, 0, 0],\n",
    "                             [0, -5, 3, -5, 0, 0, 0],\n",
    "                             [0, 0, 1, 1, -1, 0, 0],\n",
    "                             [0, 0, 0, 5, 1, 5, 0],\n",
    "                             [0, 0, 0, 0, -1, 1, 1],\n",
    "                             [0, 0, 0, 0, 0, -5, 10]])"
   ]
  },
  {
   "cell_type": "code",
   "execution_count": 70,
   "id": "212ffa30",
   "metadata": {},
   "outputs": [
    {
     "data": {
      "text/plain": [
       "array([[10,  5,  0,  0,  0,  0,  0],\n",
       "       [-1,  1,  1,  0,  0,  0,  0],\n",
       "       [ 0, -5,  3, -5,  0,  0,  0],\n",
       "       [ 0,  0,  1,  1, -1,  0,  0],\n",
       "       [ 0,  0,  0,  5,  1,  5,  0],\n",
       "       [ 0,  0,  0,  0, -1,  1,  1],\n",
       "       [ 0,  0,  0,  0,  0, -5, 10]])"
      ]
     },
     "execution_count": 70,
     "metadata": {},
     "output_type": "execute_result"
    }
   ],
   "source": [
    "I_prime_modified"
   ]
  },
  {
   "cell_type": "code",
   "execution_count": 71,
   "id": "fef6526f",
   "metadata": {},
   "outputs": [],
   "source": [
    "L, U = choleski_modified(7, I_prime_modified)"
   ]
  },
  {
   "cell_type": "code",
   "execution_count": 72,
   "id": "0788772c",
   "metadata": {},
   "outputs": [
    {
     "name": "stdout",
     "output_type": "stream",
     "text": [
      "L matrix:\n",
      "[[ 3.16227766  0.          0.          0.          0.          0.          0.        ]\n",
      " [-0.31622777  1.22474487  0.          0.          0.          0.          0.        ]\n",
      " [ 0.         -4.0824829   2.51661148  0.          0.          0.          0.        ]\n",
      " [ 0.          0.          0.39735971  1.33771211  0.          0.          0.        ]\n",
      " [ 0.          0.          0.          3.73772501  1.94784949  0.          0.        ]\n",
      " [ 0.          0.          0.          0.         -0.51338669  1.52244194  0.        ]\n",
      " [ 0.          0.          0.          0.          0.         -3.28419749  3.48671631]]\n",
      "U matrix: \n",
      "[[ 3.16227766  1.58113883  0.          0.          0.          0.          0.        ]\n",
      " [ 0.          1.22474487  0.81649658  0.          0.          0.          0.        ]\n",
      " [ 0.          0.          2.51661148 -1.98679854  0.          0.          0.        ]\n",
      " [ 0.          0.          0.          1.33771211 -0.747545    0.          0.        ]\n",
      " [ 0.          0.          0.          0.          1.94784949  2.56693344  0.        ]\n",
      " [ 0.          0.          0.          0.          0.          1.52244194  0.6568395 ]\n",
      " [ 0.          0.          0.          0.          0.          0.          3.48671631]]\n"
     ]
    }
   ],
   "source": [
    "np.set_printoptions(linewidth=150)\n",
    "print('L matrix:')\n",
    "print(L)\n",
    "\n",
    "print('U matrix: ')\n",
    "print(U)"
   ]
  },
  {
   "cell_type": "code",
   "execution_count": 74,
   "id": "c69da7b1",
   "metadata": {},
   "outputs": [],
   "source": [
    "b = np.array([10, 0, -10, 0, 5, 0, -10])"
   ]
  },
  {
   "cell_type": "code",
   "execution_count": 75,
   "id": "e5fe7c0e",
   "metadata": {},
   "outputs": [],
   "source": [
    "y, x = lu_solver(L, U, b, 7)"
   ]
  },
  {
   "cell_type": "code",
   "execution_count": 76,
   "id": "491ff3ca",
   "metadata": {},
   "outputs": [
    {
     "data": {
      "text/plain": [
       "array([ 3.16227766,  0.81649658, -2.64906471,  0.78688948,  1.05697259,  0.35642453, -2.53230566])"
      ]
     },
     "execution_count": 76,
     "metadata": {},
     "output_type": "execute_result"
    }
   ],
   "source": [
    "y"
   ]
  },
  {
   "cell_type": "code",
   "execution_count": 77,
   "id": "bf866b7f",
   "metadata": {},
   "outputs": [
    {
     "data": {
      "text/plain": [
       "array([ 0.44429161,  1.11141678, -0.66712517,  0.48830812, -0.17881706,  0.5474553 , -0.72627235])"
      ]
     },
     "execution_count": 77,
     "metadata": {},
     "output_type": "execute_result"
    }
   ],
   "source": [
    "x"
   ]
  },
  {
   "cell_type": "code",
   "execution_count": 78,
   "id": "812f0f34",
   "metadata": {},
   "outputs": [
    {
     "data": {
      "text/plain": [
       "array([[10.,  5.,  0.,  0.,  0.,  0.,  0.],\n",
       "       [-1.,  1.,  1.,  0.,  0.,  0.,  0.],\n",
       "       [ 0., -5.,  3., -5.,  0.,  0.,  0.],\n",
       "       [ 0.,  0.,  1.,  1., -1.,  0.,  0.],\n",
       "       [ 0.,  0.,  0.,  5.,  1.,  5.,  0.],\n",
       "       [ 0.,  0.,  0.,  0., -1.,  1.,  1.],\n",
       "       [ 0.,  0.,  0.,  0.,  0., -5., 10.]])"
      ]
     },
     "execution_count": 78,
     "metadata": {},
     "output_type": "execute_result"
    }
   ],
   "source": [
    "np.matmul(L,U)"
   ]
  },
  {
   "cell_type": "code",
   "execution_count": null,
   "id": "b970abc2",
   "metadata": {},
   "outputs": [],
   "source": []
  }
 ],
 "metadata": {
  "kernelspec": {
   "display_name": "Python 3",
   "language": "python",
   "name": "python3"
  },
  "language_info": {
   "codemirror_mode": {
    "name": "ipython",
    "version": 3
   },
   "file_extension": ".py",
   "mimetype": "text/x-python",
   "name": "python",
   "nbconvert_exporter": "python",
   "pygments_lexer": "ipython3",
   "version": "3.5.6"
  }
 },
 "nbformat": 4,
 "nbformat_minor": 5
}
