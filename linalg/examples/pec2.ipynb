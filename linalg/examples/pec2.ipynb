{
 "cells": [
  {
   "cell_type": "markdown",
   "id": "233454b9-c796-45ff-9ec3-ab30732d565c",
   "metadata": {},
   "source": [
    "# PEC 2"
   ]
  },
  {
   "cell_type": "code",
   "execution_count": 1,
   "id": "d980a805-7fc1-4343-a9aa-d21f575cde06",
   "metadata": {},
   "outputs": [],
   "source": [
    "import sys\n",
    "sys.path.append(\"..\")\n",
    "import sympy as sp\n",
    "from sympy.plotting import plot as symplot\n",
    "import pandas as pd\n",
    "import numpy as np\n",
    "from numpy import linspace\n",
    "import matplotlib.pyplot as plt\n",
    "from IPython.display import Math, Latex, Markdown"
   ]
  },
  {
   "cell_type": "markdown",
   "id": "39aec726-24aa-4c7b-b051-2a0d8092b462",
   "metadata": {},
   "source": [
    "## Solve matrix I using Crout's method"
   ]
  },
  {
   "cell_type": "code",
   "execution_count": 2,
   "id": "272ac0e8-566b-4763-9408-53a6768ab998",
   "metadata": {},
   "outputs": [],
   "source": [
    "from lu.lu import crout\n",
    "import numpy as np"
   ]
  },
  {
   "cell_type": "code",
   "execution_count": 3,
   "id": "16cdc2b1-e1ab-444a-a6f6-a5f9ce00e826",
   "metadata": {},
   "outputs": [],
   "source": [
    "I = np.array([[1, -1, 0, 0, -1, 0, 0],\n",
    "             [-1, 0, 1, 0, 0, 0, 1],\n",
    "             [0, 1, 0, -1, 0, 1, 0],\n",
    "             [1, 0, 0, 0, 5, 0, 5],\n",
    "             [0, -3, 0, 0, 5, 5, 0],\n",
    "             [0, 0, -10, 0, 0, 0, 5],\n",
    "             [0, 0, 0, 10, 0, 5, 0]\n",
    "             ])"
   ]
  },
  {
   "cell_type": "code",
   "execution_count": 4,
   "id": "4165b67a-bbc8-4cd1-866e-4b0ad8074cbc",
   "metadata": {},
   "outputs": [
    {
     "data": {
      "text/plain": [
       "array([[  1,  -1,   0,   0,  -1,   0,   0],\n",
       "       [ -1,   0,   1,   0,   0,   0,   1],\n",
       "       [  0,   1,   0,  -1,   0,   1,   0],\n",
       "       [  1,   0,   0,   0,   5,   0,   5],\n",
       "       [  0,  -3,   0,   0,   5,   5,   0],\n",
       "       [  0,   0, -10,   0,   0,   0,   5],\n",
       "       [  0,   0,   0,  10,   0,   5,   0]])"
      ]
     },
     "execution_count": 4,
     "metadata": {},
     "output_type": "execute_result"
    }
   ],
   "source": [
    "I"
   ]
  },
  {
   "cell_type": "code",
   "execution_count": 5,
   "id": "958b90ad-bc16-47a3-acf7-57bbdf51fa9c",
   "metadata": {},
   "outputs": [],
   "source": [
    "L, U = crout(7, I)"
   ]
  },
  {
   "cell_type": "code",
   "execution_count": 6,
   "id": "230ec50f-65ac-4f79-a6eb-690b6886e146",
   "metadata": {},
   "outputs": [
    {
     "name": "stdout",
     "output_type": "stream",
     "text": [
      "L matrix:\n",
      "[[  1.           0.           0.           0.           0.           0.           0.        ]\n",
      " [ -1.          -1.           0.           0.           0.           0.           0.        ]\n",
      " [  0.           1.           1.           0.           0.           0.           0.        ]\n",
      " [  1.           1.           1.           1.           0.           0.           0.        ]\n",
      " [  0.          -3.          -3.          -3.          23.           0.           0.        ]\n",
      " [  0.           0.         -10.         -10.          50.         -10.86956522   0.        ]\n",
      " [  0.           0.           0.          10.         -60.          28.04347826  72.7       ]]\n",
      "U matrix\n",
      "[[ 1.         -1.          0.          0.         -1.          0.          0.        ]\n",
      " [ 0.          1.         -1.         -0.          1.         -0.         -1.        ]\n",
      " [ 0.          0.          1.         -1.         -1.          1.          1.        ]\n",
      " [ 0.          0.          0.          1.          6.         -1.          5.        ]\n",
      " [ 0.          0.          0.          0.          1.          0.2173913   0.65217391]\n",
      " [ 0.          0.          0.          0.          0.          1.         -2.98      ]\n",
      " [ 0.          0.          0.          0.          0.          0.          1.        ]]\n"
     ]
    }
   ],
   "source": [
    "np.set_printoptions(linewidth=100)\n",
    "print('L matrix:')\n",
    "print(L)\n",
    "\n",
    "print('U matrix')\n",
    "print(U)"
   ]
  },
  {
   "cell_type": "markdown",
   "id": "2c63d084-b43c-400f-acce-a7db231bcac3",
   "metadata": {},
   "source": [
    "## Solve matrix I' using Crout's method for tridiagonal matrices"
   ]
  },
  {
   "cell_type": "code",
   "execution_count": 8,
   "id": "4efd04b0-fab9-4a4d-bde8-b779ad5bca36",
   "metadata": {},
   "outputs": [],
   "source": [
    "from lu.lu import crout_tridiagonal\n",
    "import numpy as np"
   ]
  },
  {
   "cell_type": "code",
   "execution_count": 9,
   "id": "044e67ff-f7be-4ccf-9da0-04537af0136f",
   "metadata": {},
   "outputs": [],
   "source": [
    "I_prime = np.array([[10, 5, 0, 0, 0, 0, 0],\n",
    "                   [-1, 1, 1, 0, 0, 0, 0],\n",
    "                   [0, -5, 3, -5, 0, 0, 0],\n",
    "                   [0, 0, -1, -1, 1, 0, 0],\n",
    "                   [0, 0, 0, 5, 1, 5, 0],\n",
    "                   [0, 0, 0, 0, -1, 1, 1],\n",
    "                   [0, 0, 0, 0, 0, -5, 10]])"
   ]
  },
  {
   "cell_type": "code",
   "execution_count": 10,
   "id": "0545d0b5-4c11-44ba-85c5-33b38b8d0c19",
   "metadata": {},
   "outputs": [
    {
     "data": {
      "text/plain": [
       "array([[10,  5,  0,  0,  0,  0,  0],\n",
       "       [-1,  1,  1,  0,  0,  0,  0],\n",
       "       [ 0, -5,  3, -5,  0,  0,  0],\n",
       "       [ 0,  0, -1, -1,  1,  0,  0],\n",
       "       [ 0,  0,  0,  5,  1,  5,  0],\n",
       "       [ 0,  0,  0,  0, -1,  1,  1],\n",
       "       [ 0,  0,  0,  0,  0, -5, 10]])"
      ]
     },
     "execution_count": 10,
     "metadata": {},
     "output_type": "execute_result"
    }
   ],
   "source": [
    "I_prime"
   ]
  },
  {
   "cell_type": "code",
   "execution_count": 11,
   "id": "82a1b07c-1fba-4c2b-99e2-179dc89b15c5",
   "metadata": {},
   "outputs": [],
   "source": [
    "L, U = crout_tridiagonal(7, I_prime)"
   ]
  },
  {
   "cell_type": "code",
   "execution_count": 12,
   "id": "56b0dca7-5e3d-48c3-9a1a-6e113e4010ab",
   "metadata": {},
   "outputs": [
    {
     "name": "stdout",
     "output_type": "stream",
     "text": [
      "L matrix:\n",
      "[[10.          0.          0.          0.          0.          0.          0.        ]\n",
      " [-1.          1.5         0.          0.          0.          0.          0.        ]\n",
      " [ 0.         -5.          6.33333333  0.          0.          0.          0.        ]\n",
      " [ 0.          0.         -1.         -1.78947368  0.          0.          0.        ]\n",
      " [ 0.          0.          0.          5.          3.79411765  0.          0.        ]\n",
      " [ 0.          0.          0.          0.         -1.          2.31782946  0.        ]\n",
      " [ 0.          0.          0.          0.          0.         -5.         12.15719064]]\n",
      "U matrix\n",
      "[[ 1.          0.5         0.          0.          0.          0.          0.        ]\n",
      " [ 0.          1.          0.66666667  0.          0.          0.          0.        ]\n",
      " [ 0.          0.          1.         -0.78947368  0.          0.          0.        ]\n",
      " [ 0.          0.          0.          1.         -0.55882353  0.          0.        ]\n",
      " [ 0.          0.          0.          0.          1.          1.31782946  0.        ]\n",
      " [ 0.          0.          0.          0.          0.          1.          0.43143813]\n",
      " [ 0.          0.          0.          0.          0.          0.          1.        ]]\n"
     ]
    }
   ],
   "source": [
    "np.set_printoptions(linewidth=100)\n",
    "print('L matrix:')\n",
    "print(L)\n",
    "\n",
    "print('U matrix')\n",
    "print(U)"
   ]
  },
  {
   "cell_type": "markdown",
   "id": "3bd805a1-b6fc-4334-9845-5c7abfd0c8fe",
   "metadata": {},
   "source": [
    "## Solve matrix I' using Doolitle's method"
   ]
  },
  {
   "cell_type": "code",
   "execution_count": 13,
   "id": "4008ae4f-4a6e-4820-bbca-d778d204ba2d",
   "metadata": {},
   "outputs": [],
   "source": [
    "from lu.lu import doolittle\n",
    "import numpy as np"
   ]
  },
  {
   "cell_type": "code",
   "execution_count": 14,
   "id": "dc16612d-4234-4763-989d-d95d298cbfc7",
   "metadata": {},
   "outputs": [],
   "source": [
    "I_prime = np.array([[10, 5, 0, 0, 0, 0, 0],\n",
    "                   [-1, 1, 1, 0, 0, 0, 0],\n",
    "                   [0, -5, 3, -5, 0, 0, 0],\n",
    "                   [0, 0, -1, -1, 1, 0, 0],\n",
    "                   [0, 0, 0, 5, 1, 5, 0],\n",
    "                   [0, 0, 0, 0, -1, 1, 1],\n",
    "                   [0, 0, 0, 0, 0, -5, 10]])"
   ]
  },
  {
   "cell_type": "code",
   "execution_count": 15,
   "id": "0e0778c8-df43-4346-8c50-881faa95c231",
   "metadata": {},
   "outputs": [
    {
     "data": {
      "text/plain": [
       "array([[10,  5,  0,  0,  0,  0,  0],\n",
       "       [-1,  1,  1,  0,  0,  0,  0],\n",
       "       [ 0, -5,  3, -5,  0,  0,  0],\n",
       "       [ 0,  0, -1, -1,  1,  0,  0],\n",
       "       [ 0,  0,  0,  5,  1,  5,  0],\n",
       "       [ 0,  0,  0,  0, -1,  1,  1],\n",
       "       [ 0,  0,  0,  0,  0, -5, 10]])"
      ]
     },
     "execution_count": 15,
     "metadata": {},
     "output_type": "execute_result"
    }
   ],
   "source": [
    "I_prime"
   ]
  },
  {
   "cell_type": "code",
   "execution_count": 16,
   "id": "37c9afaa-9293-4186-b345-af7822938394",
   "metadata": {},
   "outputs": [],
   "source": [
    "L, U = doolittle(7, I_prime)"
   ]
  },
  {
   "cell_type": "code",
   "execution_count": 17,
   "id": "78acec6d-7da9-4d84-b609-91b71c0e1b2f",
   "metadata": {},
   "outputs": [
    {
     "name": "stdout",
     "output_type": "stream",
     "text": [
      "L matrix:\n",
      "[[ 1.          0.          0.          0.          0.          0.          0.        ]\n",
      " [-0.1         1.          0.          0.          0.          0.          0.        ]\n",
      " [ 0.         -3.33333333  1.          0.          0.          0.          0.        ]\n",
      " [ 0.          0.         -0.15789474  1.          0.          0.          0.        ]\n",
      " [ 0.          0.          0.         -2.79411765  1.          0.          0.        ]\n",
      " [ 0.          0.          0.         -0.         -0.26356589  1.          0.        ]\n",
      " [ 0.          0.          0.         -0.          0.         -2.15719064  1.        ]]\n",
      "U matrix\n",
      "[[10.          5.          0.          0.          0.          0.          0.        ]\n",
      " [ 0.          1.5         1.          0.          0.          0.          0.        ]\n",
      " [ 0.          0.          6.33333333 -5.          0.          0.          0.        ]\n",
      " [ 0.          0.          0.         -1.78947368  1.          0.          0.        ]\n",
      " [ 0.          0.          0.          0.          3.79411765  5.          0.        ]\n",
      " [ 0.          0.          0.          0.          0.          2.31782946  1.        ]\n",
      " [ 0.          0.          0.          0.          0.          0.         12.15719064]]\n"
     ]
    }
   ],
   "source": [
    "np.set_printoptions(linewidth=100)\n",
    "print('L matrix:')\n",
    "print(L)\n",
    "\n",
    "print('U matrix')\n",
    "print(U)"
   ]
  }
 ],
 "metadata": {
  "kernelspec": {
   "display_name": "Python 3",
   "language": "python",
   "name": "python3"
  },
  "language_info": {
   "codemirror_mode": {
    "name": "ipython",
    "version": 3
   },
   "file_extension": ".py",
   "mimetype": "text/x-python",
   "name": "python",
   "nbconvert_exporter": "python",
   "pygments_lexer": "ipython3",
   "version": "3.8.8"
  }
 },
 "nbformat": 4,
 "nbformat_minor": 5
}
