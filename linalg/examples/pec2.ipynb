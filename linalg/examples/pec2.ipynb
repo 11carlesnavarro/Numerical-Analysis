{
 "cells": [
  {
   "cell_type": "markdown",
   "id": "6ad583e1",
   "metadata": {},
   "source": [
    "# PEC 2"
   ]
  },
  {
   "cell_type": "code",
   "execution_count": 27,
   "id": "0ea46c05",
   "metadata": {},
   "outputs": [],
   "source": [
    "import sys\n",
    "sys.path.append(\"..\")\n",
    "import sympy as sp\n",
    "from sympy.plotting import plot as symplot\n",
    "import pandas as pd\n",
    "import numpy as np\n",
    "import array_to_latex as a2l\n",
    "from numpy import linspace\n",
    "import matplotlib.pyplot as plt\n",
    "from IPython.display import Math, Latex, Markdown"
   ]
  },
  {
   "cell_type": "markdown",
   "id": "e6dd861f",
   "metadata": {},
   "source": [
    "## Solve matrix I using Crout's method"
   ]
  },
  {
   "cell_type": "code",
   "execution_count": 28,
   "id": "12269ba9",
   "metadata": {},
   "outputs": [],
   "source": [
    "from lu.crout import crout\n",
    "from lu.solver import lu_solver\n",
    "import numpy as np"
   ]
  },
  {
   "cell_type": "code",
   "execution_count": 29,
   "id": "6b2edaaa",
   "metadata": {},
   "outputs": [],
   "source": [
    "I = np.array([[1, -1, 0, 0, -1, 0, 0],\n",
    "             [-1, 0, 1, 0, 0, 0, 1],\n",
    "             [0, 1, 0, -1, 0, 1, 0],\n",
    "             [1, 0, 0, 0, 5, 0, 5],\n",
    "             [0, -3, 0, 0, 5, 5, 0],\n",
    "             [0, 0, -10, 0, 0, 0, 5],\n",
    "             [0, 0, 0, 10, 0, 5, 0]\n",
    "             ])"
   ]
  },
  {
   "cell_type": "code",
   "execution_count": 30,
   "id": "2c994a82",
   "metadata": {},
   "outputs": [
    {
     "data": {
      "text/plain": [
       "array([[  1,  -1,   0,   0,  -1,   0,   0],\n",
       "       [ -1,   0,   1,   0,   0,   0,   1],\n",
       "       [  0,   1,   0,  -1,   0,   1,   0],\n",
       "       [  1,   0,   0,   0,   5,   0,   5],\n",
       "       [  0,  -3,   0,   0,   5,   5,   0],\n",
       "       [  0,   0, -10,   0,   0,   0,   5],\n",
       "       [  0,   0,   0,  10,   0,   5,   0]])"
      ]
     },
     "execution_count": 30,
     "metadata": {},
     "output_type": "execute_result"
    }
   ],
   "source": [
    "I"
   ]
  },
  {
   "cell_type": "code",
   "execution_count": 31,
   "id": "5aff1099",
   "metadata": {},
   "outputs": [
    {
     "name": "stdout",
     "output_type": "stream",
     "text": [
      "\\begin{array}\n",
      "    1.00 &  -1.00 &    0.00 &    0.00 &  -1.00 &    0.00 &    0.00\\\\\n",
      "  -1.00 &    0.00 &    1.00 &    0.00 &    0.00 &    0.00 &    1.00\\\\\n",
      "    0.00 &    1.00 &    0.00 &  -1.00 &    0.00 &    1.00 &    0.00\\\\\n",
      "    1.00 &    0.00 &    0.00 &    0.00 &    5.00 &    0.00 &    5.00\\\\\n",
      "    0.00 &  -3.00 &    0.00 &    0.00 &    5.00 &    5.00 &    0.00\\\\\n",
      "    0.00 &    0.00 & -10.00 &    0.00 &    0.00 &    0.00 &    5.00\\\\\n",
      "    0.00 &    0.00 &    0.00 &   10.00 &    0.00 &    5.00 &    0.00\n",
      "\\end{array}\n"
     ]
    }
   ],
   "source": [
    "a2l.to_ltx(I, frmt = '{:6.2f}', arraytype = 'array')"
   ]
  },
  {
   "cell_type": "code",
   "execution_count": 32,
   "id": "917f1e5a",
   "metadata": {},
   "outputs": [
    {
     "name": "stdout",
     "output_type": "stream",
     "text": [
      "134\n"
     ]
    }
   ],
   "source": [
    "L, U = crout(7, I)"
   ]
  },
  {
   "cell_type": "code",
   "execution_count": 33,
   "id": "72fd927b",
   "metadata": {},
   "outputs": [
    {
     "name": "stdout",
     "output_type": "stream",
     "text": [
      "L matrix:\n",
      "[[  1.           0.           0.           0.           0.           0.           0.        ]\n",
      " [ -1.          -1.           0.           0.           0.           0.           0.        ]\n",
      " [  0.           1.           1.           0.           0.           0.           0.        ]\n",
      " [  1.           1.           1.           1.           0.           0.           0.        ]\n",
      " [  0.          -3.          -3.          -3.          23.           0.           0.        ]\n",
      " [  0.           0.         -10.         -10.          50.         -10.86956522   0.        ]\n",
      " [  0.           0.           0.          10.         -60.          28.04347826  72.7       ]]\n",
      "U matrix\n",
      "[[ 1.         -1.          0.          0.         -1.          0.          0.        ]\n",
      " [ 0.          1.         -1.         -0.          1.         -0.         -1.        ]\n",
      " [ 0.          0.          1.         -1.         -1.          1.          1.        ]\n",
      " [ 0.          0.          0.          1.          6.         -1.          5.        ]\n",
      " [ 0.          0.          0.          0.          1.          0.2173913   0.65217391]\n",
      " [ 0.          0.          0.          0.          0.          1.         -2.98      ]\n",
      " [ 0.          0.          0.          0.          0.          0.          1.        ]]\n"
     ]
    }
   ],
   "source": [
    "np.set_printoptions(linewidth=100)\n",
    "print('L matrix:')\n",
    "print(L)\n",
    "\n",
    "print('U matrix')\n",
    "print(U)"
   ]
  },
  {
   "cell_type": "code",
   "execution_count": 34,
   "id": "4ed990cd",
   "metadata": {},
   "outputs": [
    {
     "name": "stdout",
     "output_type": "stream",
     "text": [
      "\\begin{array}\n",
      "    1.00 &  -1.00 &    0.00 &    0.00 &  -1.00 &    0.00 &    0.00\\\\\n",
      "    0.00 &    1.00 &  -1.00 &   -0.00 &    1.00 &   -0.00 &  -1.00\\\\\n",
      "    0.00 &    0.00 &    1.00 &  -1.00 &  -1.00 &    1.00 &    1.00\\\\\n",
      "    0.00 &    0.00 &    0.00 &    1.00 &    6.00 &  -1.00 &    5.00\\\\\n",
      "    0.00 &    0.00 &    0.00 &    0.00 &    1.00 &    0.22 &    0.65\\\\\n",
      "    0.00 &    0.00 &    0.00 &    0.00 &    0.00 &    1.00 &  -2.98\\\\\n",
      "    0.00 &    0.00 &    0.00 &    0.00 &    0.00 &    0.00 &    1.00\n",
      "\\end{array}\n"
     ]
    }
   ],
   "source": [
    "a2l.to_ltx(U, frmt = '{:6.2f}', arraytype = 'array')"
   ]
  },
  {
   "cell_type": "code",
   "execution_count": 35,
   "id": "c1473567",
   "metadata": {},
   "outputs": [
    {
     "name": "stdout",
     "output_type": "stream",
     "text": [
      "\\begin{array}\n",
      "    0.00 &    0.00 &    0.00 &    5.00 &   10.00 &   10.00 &   10.00\n",
      "\\end{array}\n"
     ]
    }
   ],
   "source": [
    "b = np.array([0, 0, 0, 5, 10, 10, 10])\n",
    "a2l.to_ltx(b, frmt = '{:6.2f}', arraytype = 'array')"
   ]
  },
  {
   "cell_type": "code",
   "execution_count": 36,
   "id": "0a4b7b8a",
   "metadata": {},
   "outputs": [],
   "source": [
    "y, x = lu_solver(L, U, b, 7)"
   ]
  },
  {
   "cell_type": "code",
   "execution_count": 37,
   "id": "ce0be22f",
   "metadata": {},
   "outputs": [
    {
     "name": "stdout",
     "output_type": "stream",
     "text": [
      "\\begin{array}\n",
      "    0.00 &   -0.00 &    0.00 &    5.00 &    1.09 &  -0.52 &    0.55\n",
      "\\end{array}\n"
     ]
    }
   ],
   "source": [
    "a2l.to_ltx(y, frmt = '{:6.2f}', arraytype = 'array')"
   ]
  },
  {
   "cell_type": "code",
   "execution_count": 38,
   "id": "6220c98a",
   "metadata": {},
   "outputs": [
    {
     "name": "stdout",
     "output_type": "stream",
     "text": [
      "\\begin{array}\n",
      "  -0.18 &  -0.67 &  -0.73 &    0.44 &    0.49 &    1.11 &    0.55\n",
      "\\end{array}\n"
     ]
    }
   ],
   "source": [
    "a2l.to_ltx(x, frmt = '{:6.2f}', arraytype = 'array')"
   ]
  },
  {
   "cell_type": "code",
   "execution_count": 39,
   "id": "03c68c91",
   "metadata": {},
   "outputs": [
    {
     "data": {
      "text/plain": [
       "array([ 0.,  0.,  0.,  5., 10., 10., 10.])"
      ]
     },
     "execution_count": 39,
     "metadata": {},
     "output_type": "execute_result"
    }
   ],
   "source": [
    "np.matmul(I, x)"
   ]
  },
  {
   "cell_type": "markdown",
   "id": "8fcbe412",
   "metadata": {},
   "source": [
    "## Solve matrix I' using Crout's method for tridiagonal matrices"
   ]
  },
  {
   "cell_type": "code",
   "execution_count": 14,
   "id": "0ba53205",
   "metadata": {},
   "outputs": [],
   "source": [
    "from lu.crout import crout_tridiagonal\n",
    "import numpy as np"
   ]
  },
  {
   "cell_type": "code",
   "execution_count": 15,
   "id": "934d3592",
   "metadata": {},
   "outputs": [],
   "source": [
    "I_prime = np.array([[10, 5, 0, 0, 0, 0, 0],\n",
    "                   [-1, 1, 1, 0, 0, 0, 0],\n",
    "                   [0, 5, -3, 5, 0, 0, 0],\n",
    "                   [0, 0, -1, -1, 1, 0, 0],\n",
    "                   [0, 0, 0, 5, 1, 5, 0],\n",
    "                   [0, 0, 0, 0, 1, -1, -1],\n",
    "                   [0, 0, 0, 0, 0, 5, -10]])"
   ]
  },
  {
   "cell_type": "code",
   "execution_count": 16,
   "id": "45322cd7",
   "metadata": {},
   "outputs": [
    {
     "data": {
      "text/plain": [
       "array([[ 10,   5,   0,   0,   0,   0,   0],\n",
       "       [ -1,   1,   1,   0,   0,   0,   0],\n",
       "       [  0,   5,  -3,   5,   0,   0,   0],\n",
       "       [  0,   0,  -1,  -1,   1,   0,   0],\n",
       "       [  0,   0,   0,   5,   1,   5,   0],\n",
       "       [  0,   0,   0,   0,   1,  -1,  -1],\n",
       "       [  0,   0,   0,   0,   0,   5, -10]])"
      ]
     },
     "execution_count": 16,
     "metadata": {},
     "output_type": "execute_result"
    }
   ],
   "source": [
    "I_prime"
   ]
  },
  {
   "cell_type": "code",
   "execution_count": 17,
   "id": "5098e430",
   "metadata": {},
   "outputs": [
    {
     "name": "stdout",
     "output_type": "stream",
     "text": [
      "\\begin{array}\n",
      "   10.00 &    5.00 &    0.00 &    0.00 &    0.00 &    0.00 &    0.00\\\\\n",
      "  -1.00 &    1.00 &    1.00 &    0.00 &    0.00 &    0.00 &    0.00\\\\\n",
      "    0.00 &    5.00 &  -3.00 &    5.00 &    0.00 &    0.00 &    0.00\\\\\n",
      "    0.00 &    0.00 &  -1.00 &  -1.00 &    1.00 &    0.00 &    0.00\\\\\n",
      "    0.00 &    0.00 &    0.00 &    5.00 &    1.00 &    5.00 &    0.00\\\\\n",
      "    0.00 &    0.00 &    0.00 &    0.00 &    1.00 &  -1.00 &  -1.00\\\\\n",
      "    0.00 &    0.00 &    0.00 &    0.00 &    0.00 &    5.00 & -10.00\n",
      "\\end{array}\n"
     ]
    }
   ],
   "source": [
    "a2l.to_ltx(I_prime, frmt = '{:6.2f}', arraytype = 'array')"
   ]
  },
  {
   "cell_type": "code",
   "execution_count": 18,
   "id": "8bb7a815",
   "metadata": {},
   "outputs": [],
   "source": [
    "L, U = crout_tridiagonal(7, I_prime)"
   ]
  },
  {
   "cell_type": "code",
   "execution_count": 20,
   "id": "1b4a4d95",
   "metadata": {},
   "outputs": [
    {
     "name": "stdout",
     "output_type": "stream",
     "text": [
      "\\begin{array}\n",
      "   10.00 &    0.00 &    0.00 &    0.00 &    0.00 &    0.00 &    0.00\\\\\n",
      "  -1.00 &    1.50 &    0.00 &    0.00 &    0.00 &    0.00 &    0.00\\\\\n",
      "    0.00 &    5.00 &  -6.33 &    0.00 &    0.00 &    0.00 &    0.00\\\\\n",
      "    0.00 &    0.00 &  -1.00 &  -1.79 &    0.00 &    0.00 &    0.00\\\\\n",
      "    0.00 &    0.00 &    0.00 &    5.00 &    3.79 &    0.00 &    0.00\\\\\n",
      "    0.00 &    0.00 &    0.00 &    0.00 &    1.00 &  -2.32 &    0.00\\\\\n",
      "    0.00 &    0.00 &    0.00 &    0.00 &    0.00 &    5.00 & -12.16\n",
      "\\end{array}\n"
     ]
    }
   ],
   "source": [
    "a2l.to_ltx(L, frmt = '{:6.2f}', arraytype = 'array')"
   ]
  },
  {
   "cell_type": "code",
   "execution_count": 21,
   "id": "b54fc7aa",
   "metadata": {},
   "outputs": [
    {
     "name": "stdout",
     "output_type": "stream",
     "text": [
      "\\begin{array}\n",
      "    1.00 &    0.50 &    0.00 &    0.00 &    0.00 &    0.00 &    0.00\\\\\n",
      "    0.00 &    1.00 &    0.67 &    0.00 &    0.00 &    0.00 &    0.00\\\\\n",
      "    0.00 &    0.00 &    1.00 &  -0.79 &    0.00 &    0.00 &    0.00\\\\\n",
      "    0.00 &    0.00 &    0.00 &    1.00 &  -0.56 &    0.00 &    0.00\\\\\n",
      "    0.00 &    0.00 &    0.00 &    0.00 &    1.00 &    1.32 &    0.00\\\\\n",
      "    0.00 &    0.00 &    0.00 &    0.00 &    0.00 &    1.00 &    0.43\\\\\n",
      "    0.00 &    0.00 &    0.00 &    0.00 &    0.00 &    0.00 &    1.00\n",
      "\\end{array}\n"
     ]
    }
   ],
   "source": [
    "a2l.to_ltx(U, frmt = '{:6.2f}', arraytype = 'array')"
   ]
  },
  {
   "cell_type": "code",
   "execution_count": 23,
   "id": "051196d3",
   "metadata": {},
   "outputs": [],
   "source": [
    "b = np.array([10, 0, 10, 0, 5, 0, 10])"
   ]
  },
  {
   "cell_type": "code",
   "execution_count": 24,
   "id": "35dec05c",
   "metadata": {},
   "outputs": [],
   "source": [
    "y, x = lu_solver(L, U, b, 7)"
   ]
  },
  {
   "cell_type": "code",
   "execution_count": 25,
   "id": "b3020be4",
   "metadata": {},
   "outputs": [
    {
     "name": "stdout",
     "output_type": "stream",
     "text": [
      "\\begin{array}\n",
      "    1.00 &    0.67 &  -1.05 &    0.59 &    0.54 &    0.23 &  -0.73\n",
      "\\end{array}\n"
     ]
    }
   ],
   "source": [
    "a2l.to_ltx(y, frmt = '{:6.2f}', arraytype = 'array')"
   ]
  },
  {
   "cell_type": "code",
   "execution_count": 26,
   "id": "ea7a974f",
   "metadata": {},
   "outputs": [
    {
     "name": "stdout",
     "output_type": "stream",
     "text": [
      "\\begin{array}\n",
      "    0.44 &    1.11 &  -0.67 &    0.49 &  -0.18 &    0.55 &  -0.73\n",
      "\\end{array}\n"
     ]
    }
   ],
   "source": [
    "a2l.to_ltx(x, frmt = '{:6.2f}', arraytype = 'array')"
   ]
  },
  {
   "cell_type": "code",
   "execution_count": 21,
   "id": "2ecdd715",
   "metadata": {},
   "outputs": [
    {
     "data": {
      "text/plain": [
       "array([ 1.00000000e+01,  0.00000000e+00,  1.00000000e+01, -5.55111512e-17,  5.00000000e+00,\n",
       "        1.11022302e-16,  1.00000000e+01])"
      ]
     },
     "execution_count": 21,
     "metadata": {},
     "output_type": "execute_result"
    }
   ],
   "source": [
    "np.matmul(I_prime, x)"
   ]
  },
  {
   "cell_type": "markdown",
   "id": "ec46e959",
   "metadata": {},
   "source": [
    "## Solve matrix I' using Doolitle's method"
   ]
  },
  {
   "cell_type": "code",
   "execution_count": 55,
   "id": "47e2c267",
   "metadata": {},
   "outputs": [],
   "source": [
    "from lu.doolittle import doolittle\n",
    "import numpy as np\n",
    "from lu.solver import lu_solver"
   ]
  },
  {
   "cell_type": "code",
   "execution_count": 56,
   "id": "dda53dac",
   "metadata": {},
   "outputs": [],
   "source": [
    "I_prime = np.array([[10, 5, 0, 0, 0, 0, 0],\n",
    "                   [-1, 1, 1, 0, 0, 0, 0],\n",
    "                   [0, 5, -3, 5, 0, 0, 0],\n",
    "                   [0, 0, -1, -1, 1, 0, 0],\n",
    "                   [0, 0, 0, 5, 1, 5, 0],\n",
    "                   [0, 0, 0, 0, 1, -1, -1],\n",
    "                   [0, 0, 0, 0, 0, 5, -10]])"
   ]
  },
  {
   "cell_type": "code",
   "execution_count": 57,
   "id": "c45411f6",
   "metadata": {},
   "outputs": [
    {
     "data": {
      "text/plain": [
       "array([[ 10,   5,   0,   0,   0,   0,   0],\n",
       "       [ -1,   1,   1,   0,   0,   0,   0],\n",
       "       [  0,   5,  -3,   5,   0,   0,   0],\n",
       "       [  0,   0,  -1,  -1,   1,   0,   0],\n",
       "       [  0,   0,   0,   5,   1,   5,   0],\n",
       "       [  0,   0,   0,   0,   1,  -1,  -1],\n",
       "       [  0,   0,   0,   0,   0,   5, -10]])"
      ]
     },
     "execution_count": 57,
     "metadata": {},
     "output_type": "execute_result"
    }
   ],
   "source": [
    "I_prime"
   ]
  },
  {
   "cell_type": "code",
   "execution_count": 58,
   "id": "1f72c70e",
   "metadata": {},
   "outputs": [],
   "source": [
    "L, U = doolittle(7, I_prime)"
   ]
  },
  {
   "cell_type": "code",
   "execution_count": 59,
   "id": "7c1af773",
   "metadata": {},
   "outputs": [
    {
     "name": "stdout",
     "output_type": "stream",
     "text": [
      "L matrix:\n",
      "[[ 1.          0.          0.          0.          0.          0.          0.        ]\n",
      " [-0.1         1.          0.          0.          0.          0.          0.        ]\n",
      " [ 0.          3.33333333  1.          0.          0.          0.          0.        ]\n",
      " [ 0.          0.          0.15789474  1.          0.          0.          0.        ]\n",
      " [ 0.          0.         -0.         -2.79411765  1.          0.          0.        ]\n",
      " [ 0.          0.         -0.         -0.          0.26356589  1.          0.        ]\n",
      " [ 0.          0.         -0.         -0.          0.         -2.15719064  1.        ]]\n",
      "U matrix\n",
      "[[ 10.           5.           0.           0.           0.           0.           0.        ]\n",
      " [  0.           1.5          1.           0.           0.           0.           0.        ]\n",
      " [  0.           0.          -6.33333333   5.           0.           0.           0.        ]\n",
      " [  0.           0.           0.          -1.78947368   1.           0.           0.        ]\n",
      " [  0.           0.           0.           0.           3.79411765   5.           0.        ]\n",
      " [  0.           0.           0.           0.           0.          -2.31782946  -1.        ]\n",
      " [  0.           0.           0.           0.           0.           0.         -12.15719064]]\n"
     ]
    }
   ],
   "source": [
    "np.set_printoptions(linewidth=100)\n",
    "print('L matrix:')\n",
    "print(L)\n",
    "\n",
    "print('U matrix')\n",
    "print(U)"
   ]
  },
  {
   "cell_type": "code",
   "execution_count": 60,
   "id": "5385d8c8",
   "metadata": {},
   "outputs": [
    {
     "name": "stdout",
     "output_type": "stream",
     "text": [
      "\\begin{array}\n",
      "    1.00 &    0.00 &    0.00 &    0.00 &    0.00 &    0.00 &    0.00\\\\\n",
      "  -0.10 &    1.00 &    0.00 &    0.00 &    0.00 &    0.00 &    0.00\\\\\n",
      "    0.00 &    3.33 &    1.00 &    0.00 &    0.00 &    0.00 &    0.00\\\\\n",
      "    0.00 &    0.00 &    0.16 &    1.00 &    0.00 &    0.00 &    0.00\\\\\n",
      "    0.00 &    0.00 &   -0.00 &  -2.79 &    1.00 &    0.00 &    0.00\\\\\n",
      "    0.00 &    0.00 &   -0.00 &   -0.00 &    0.26 &    1.00 &    0.00\\\\\n",
      "    0.00 &    0.00 &   -0.00 &   -0.00 &    0.00 &  -2.16 &    1.00\n",
      "\\end{array}\n"
     ]
    }
   ],
   "source": [
    "a2l.to_ltx(L, frmt = '{:6.2f}', arraytype = 'array')"
   ]
  },
  {
   "cell_type": "code",
   "execution_count": 61,
   "id": "46aee23d",
   "metadata": {},
   "outputs": [
    {
     "name": "stdout",
     "output_type": "stream",
     "text": [
      "\\begin{array}\n",
      "   10.00 &    5.00 &    0.00 &    0.00 &    0.00 &    0.00 &    0.00\\\\\n",
      "    0.00 &    1.50 &    1.00 &    0.00 &    0.00 &    0.00 &    0.00\\\\\n",
      "    0.00 &    0.00 &  -6.33 &    5.00 &    0.00 &    0.00 &    0.00\\\\\n",
      "    0.00 &    0.00 &    0.00 &  -1.79 &    1.00 &    0.00 &    0.00\\\\\n",
      "    0.00 &    0.00 &    0.00 &    0.00 &    3.79 &    5.00 &    0.00\\\\\n",
      "    0.00 &    0.00 &    0.00 &    0.00 &    0.00 &  -2.32 &  -1.00\\\\\n",
      "    0.00 &    0.00 &    0.00 &    0.00 &    0.00 &    0.00 & -12.16\n",
      "\\end{array}\n"
     ]
    }
   ],
   "source": [
    "a2l.to_ltx(U, frmt = '{:6.2f}', arraytype = 'array')"
   ]
  },
  {
   "cell_type": "code",
   "execution_count": 62,
   "id": "30bcffc4",
   "metadata": {},
   "outputs": [],
   "source": [
    "b = np.array([10, 0, 10, 0, 5, 0, 10])"
   ]
  },
  {
   "cell_type": "code",
   "execution_count": 63,
   "id": "6780cc7e",
   "metadata": {},
   "outputs": [],
   "source": [
    "y, x = lu_solver(L, U, b, 7)"
   ]
  },
  {
   "cell_type": "code",
   "execution_count": 64,
   "id": "ffb5305f",
   "metadata": {},
   "outputs": [
    {
     "name": "stdout",
     "output_type": "stream",
     "text": [
      "\\begin{array}\n",
      "   10.00 &    1.00 &    6.67 &  -1.05 &    2.06 &  -0.54 &    8.83\n",
      "\\end{array}\n"
     ]
    }
   ],
   "source": [
    "a2l.to_ltx(y, frmt = '{:6.2f}', arraytype = 'array')"
   ]
  },
  {
   "cell_type": "code",
   "execution_count": 65,
   "id": "4c87e643",
   "metadata": {},
   "outputs": [
    {
     "name": "stdout",
     "output_type": "stream",
     "text": [
      "\\begin{array}\n",
      "    0.44 &    1.11 &  -0.67 &    0.49 &  -0.18 &    0.55 &  -0.73\n",
      "\\end{array}\n"
     ]
    }
   ],
   "source": [
    "a2l.to_ltx(x, frmt = '{:6.2f}', arraytype = 'array')"
   ]
  },
  {
   "cell_type": "code",
   "execution_count": 66,
   "id": "20ee157b",
   "metadata": {},
   "outputs": [
    {
     "data": {
      "text/plain": [
       "array([ 1.00000000e+01,  0.00000000e+00,  1.00000000e+01, -1.66533454e-16,  5.00000000e+00,\n",
       "        0.00000000e+00,  1.00000000e+01])"
      ]
     },
     "execution_count": 66,
     "metadata": {},
     "output_type": "execute_result"
    }
   ],
   "source": [
    "np.matmul(I_prime, x)"
   ]
  },
  {
   "cell_type": "markdown",
   "id": "ee846bec",
   "metadata": {},
   "source": [
    "## Solve matrix I' using Choleski method"
   ]
  },
  {
   "cell_type": "code",
   "execution_count": 2,
   "id": "a5673d04",
   "metadata": {},
   "outputs": [],
   "source": [
    "from lu.choleski import choleski\n",
    "from lu.solver import complex_lu_solver\n",
    "import numpy as np"
   ]
  },
  {
   "cell_type": "code",
   "execution_count": 3,
   "id": "a1250436",
   "metadata": {},
   "outputs": [],
   "source": [
    "I_prime = np.array([[10, 5, 0, 0, 0, 0, 0],\n",
    "                    [-1, 1, 1, 0, 0, 0, 0],\n",
    "                    [0, 5, -3, 5, 0, 0, 0],\n",
    "                    [0, 0, -1, -1, 1, 0, 0],\n",
    "                    [0, 0, 0, 5, 1, 5, 0],\n",
    "                    [0, 0, 0, 0, 1, -1, -1],\n",
    "                    [0, 0, 0, 0, 0, 5, -10]])"
   ]
  },
  {
   "cell_type": "code",
   "execution_count": 4,
   "id": "373e4130",
   "metadata": {},
   "outputs": [
    {
     "data": {
      "text/plain": [
       "array([[ 10,   5,   0,   0,   0,   0,   0],\n",
       "       [ -1,   1,   1,   0,   0,   0,   0],\n",
       "       [  0,   5,  -3,   5,   0,   0,   0],\n",
       "       [  0,   0,  -1,  -1,   1,   0,   0],\n",
       "       [  0,   0,   0,   5,   1,   5,   0],\n",
       "       [  0,   0,   0,   0,   1,  -1,  -1],\n",
       "       [  0,   0,   0,   0,   0,   5, -10]])"
      ]
     },
     "execution_count": 4,
     "metadata": {},
     "output_type": "execute_result"
    }
   ],
   "source": [
    "I_prime"
   ]
  },
  {
   "cell_type": "code",
   "execution_count": 5,
   "id": "532acd6b",
   "metadata": {},
   "outputs": [],
   "source": [
    "L = choleski(7, I_prime)"
   ]
  },
  {
   "cell_type": "code",
   "execution_count": 6,
   "id": "406f58e4",
   "metadata": {},
   "outputs": [],
   "source": [
    "U = np.transpose(L)"
   ]
  },
  {
   "cell_type": "code",
   "execution_count": 7,
   "id": "165a1924",
   "metadata": {},
   "outputs": [
    {
     "name": "stdout",
     "output_type": "stream",
     "text": [
      "L matrix:\n",
      "[[ 3.16227766+0.j          0.        +0.j          0.        +0.j          0.        +0.j          0.        +0.j          0.        +0.j          0.        +0.j        ]\n",
      " [-0.31622777+0.j          0.9486833 +0.j          0.        +0.j          0.        +0.j          0.        +0.j          0.        +0.j          0.        +0.j        ]\n",
      " [ 0.        +0.j          1.05409255+0.j          0.        +2.02758751j  0.        +0.j          0.        +0.j          0.        +0.j          0.        +0.j        ]\n",
      " [ 0.        +0.j          0.        +0.j          0.        -2.46598481j  2.25412535+0.j          0.        +0.j          0.        +0.j          0.        +0.j        ]\n",
      " [ 0.        +0.j          0.        +0.j          0.        +0.j          0.44363105+0.j          0.89620951+0.j          0.        +0.j          0.        +0.j        ]\n",
      " [ 0.        +0.j          0.        +0.j          0.        +0.j          0.        +0.j          5.57905259+0.j          0.        +5.66796505j  0.        +0.j        ]\n",
      " [ 0.        +0.j          0.        +0.j          0.        +0.j          0.        +0.j          0.        +0.j          0.        +0.17643016j  0.        +0.j        ]]\n",
      "U matrix:\n",
      "[[ 3.16227766+0.j         -0.31622777+0.j          0.        +0.j          0.        +0.j          0.        +0.j          0.        +0.j          0.        +0.j        ]\n",
      " [ 0.        +0.j          0.9486833 +0.j          1.05409255+0.j          0.        +0.j          0.        +0.j          0.        +0.j          0.        +0.j        ]\n",
      " [ 0.        +0.j          0.        +0.j          0.        +2.02758751j  0.        -2.46598481j  0.        +0.j          0.        +0.j          0.        +0.j        ]\n",
      " [ 0.        +0.j          0.        +0.j          0.        +0.j          2.25412535+0.j          0.44363105+0.j          0.        +0.j          0.        +0.j        ]\n",
      " [ 0.        +0.j          0.        +0.j          0.        +0.j          0.        +0.j          0.89620951+0.j          5.57905259+0.j          0.        +0.j        ]\n",
      " [ 0.        +0.j          0.        +0.j          0.        +0.j          0.        +0.j          0.        +0.j          0.        +5.66796505j  0.        +0.17643016j]\n",
      " [ 0.        +0.j          0.        +0.j          0.        +0.j          0.        +0.j          0.        +0.j          0.        +0.j          0.        +0.j        ]]\n"
     ]
    }
   ],
   "source": [
    "np.set_printoptions(linewidth=200)\n",
    "print('L matrix:')\n",
    "print(L)\n",
    "\n",
    "print('U matrix:')\n",
    "print(U)\n"
   ]
  },
  {
   "cell_type": "code",
   "execution_count": 8,
   "id": "054090af",
   "metadata": {},
   "outputs": [
    {
     "name": "stdout",
     "output_type": "stream",
     "text": [
      "0\n"
     ]
    }
   ],
   "source": [
    "for k in range(1):\n",
    "    print(k)"
   ]
  },
  {
   "cell_type": "code",
   "execution_count": 39,
   "id": "11836b92",
   "metadata": {},
   "outputs": [],
   "source": [
    "b = np.array([10, 0, 10, 0, 5, 0, 10])"
   ]
  },
  {
   "cell_type": "code",
   "execution_count": 40,
   "id": "89798333",
   "metadata": {},
   "outputs": [],
   "source": [
    "y, x = complex_lu_solver(L, U, b, 7)"
   ]
  },
  {
   "cell_type": "code",
   "execution_count": 41,
   "id": "27928652",
   "metadata": {},
   "outputs": [],
   "source": [
    "y = np.linalg.solve(L, b)"
   ]
  },
  {
   "cell_type": "code",
   "execution_count": 42,
   "id": "1006ef82",
   "metadata": {},
   "outputs": [
    {
     "data": {
      "text/plain": [
       "array([ 1.06133295+0.j,  0.61332947+0.j,  0.44800347+0.j,  2.14613619+0.j, -0.09388118+0.j,  0.589549  +0.j, -1.0589549 -0.j])"
      ]
     },
     "execution_count": 42,
     "metadata": {},
     "output_type": "execute_result"
    }
   ],
   "source": [
    "np.linalg.solve(U, y)"
   ]
  },
  {
   "cell_type": "code",
   "execution_count": 43,
   "id": "23e4115d",
   "metadata": {},
   "outputs": [
    {
     "data": {
      "text/plain": [
       "array([[ 10.+0.j,  -1.+0.j,   0.+0.j,   0.+0.j,   0.+0.j,   0.+0.j,   0.+0.j],\n",
       "       [ -1.+0.j,   1.+0.j,   1.+0.j,   0.+0.j,   0.+0.j,   0.+0.j,   0.+0.j],\n",
       "       [  0.+0.j,   1.+0.j,  -3.+0.j,   5.+0.j,   0.+0.j,   0.+0.j,   0.+0.j],\n",
       "       [  0.+0.j,   0.+0.j,   5.+0.j,  -1.+0.j,   1.+0.j,   0.+0.j,   0.+0.j],\n",
       "       [  0.+0.j,   0.+0.j,   0.+0.j,   1.+0.j,   1.+0.j,   5.+0.j,   0.+0.j],\n",
       "       [  0.+0.j,   0.+0.j,   0.+0.j,   0.+0.j,   5.+0.j,  -1.+0.j,  -1.+0.j],\n",
       "       [  0.+0.j,   0.+0.j,   0.+0.j,   0.+0.j,   0.+0.j,  -1.+0.j, -10.+0.j]])"
      ]
     },
     "execution_count": 43,
     "metadata": {},
     "output_type": "execute_result"
    }
   ],
   "source": [
    "np.matmul(L, U)"
   ]
  },
  {
   "cell_type": "code",
   "execution_count": 33,
   "id": "f7205657",
   "metadata": {},
   "outputs": [
    {
     "name": "stderr",
     "output_type": "stream",
     "text": [
      "/Applications/anaconda3/envs/compu/lib/python3.5/site-packages/ipykernel_launcher.py:1: ComplexWarning: Casting complex values to real discards the imaginary part\n",
      "  \"\"\"Entry point for launching an IPython kernel.\n"
     ]
    }
   ],
   "source": [
    "b_s = np.array(np.matmul(I_prime, x), dtype = np.float)"
   ]
  },
  {
   "cell_type": "code",
   "execution_count": 34,
   "id": "b8f22beb",
   "metadata": {},
   "outputs": [
    {
     "data": {
      "text/plain": [
       "array([ 1.36799768e+01, -1.11022302e-16,  1.24533179e+01, -2.68802084e+00,  1.35845448e+01,  3.75524721e-01,  1.35372940e+01])"
      ]
     },
     "execution_count": 34,
     "metadata": {},
     "output_type": "execute_result"
    }
   ],
   "source": []
  },
  {
   "cell_type": "markdown",
   "id": "f3dc954a",
   "metadata": {},
   "source": [
    "## Solve matrix I' modified using Choleski method"
   ]
  },
  {
   "cell_type": "code",
   "execution_count": 67,
   "id": "79c69a1f",
   "metadata": {},
   "outputs": [],
   "source": [
    "from lu.choleski import choleski_modified\n",
    "import numpy as np"
   ]
  },
  {
   "cell_type": "code",
   "execution_count": 68,
   "id": "61c1dc95",
   "metadata": {},
   "outputs": [],
   "source": [
    "I_prime_modified = np.array([[10, 5, 0, 0, 0, 0, 0],\n",
    "                             [-1, 1, 1, 0, 0, 0, 0],\n",
    "                             [0, -5, 3, -5, 0, 0, 0],\n",
    "                             [0, 0, 1, 1, -1, 0, 0],\n",
    "                             [0, 0, 0, 5, 1, 5, 0],\n",
    "                             [0, 0, 0, 0, -1, 1, 1],\n",
    "                             [0, 0, 0, 0, 0, -5, 10]])"
   ]
  },
  {
   "cell_type": "code",
   "execution_count": 69,
   "id": "b0679f60",
   "metadata": {},
   "outputs": [
    {
     "data": {
      "text/plain": [
       "array([[10,  5,  0,  0,  0,  0,  0],\n",
       "       [-1,  1,  1,  0,  0,  0,  0],\n",
       "       [ 0, -5,  3, -5,  0,  0,  0],\n",
       "       [ 0,  0,  1,  1, -1,  0,  0],\n",
       "       [ 0,  0,  0,  5,  1,  5,  0],\n",
       "       [ 0,  0,  0,  0, -1,  1,  1],\n",
       "       [ 0,  0,  0,  0,  0, -5, 10]])"
      ]
     },
     "execution_count": 69,
     "metadata": {},
     "output_type": "execute_result"
    }
   ],
   "source": [
    "I_prime_modified"
   ]
  },
  {
   "cell_type": "code",
   "execution_count": 70,
   "id": "9a7ac58a",
   "metadata": {},
   "outputs": [
    {
     "name": "stdout",
     "output_type": "stream",
     "text": [
      "\\begin{array}\n",
      "   10.00 &    5.00 &    0.00 &    0.00 &    0.00 &    0.00 &    0.00\\\\\n",
      "  -1.00 &    1.00 &    1.00 &    0.00 &    0.00 &    0.00 &    0.00\\\\\n",
      "    0.00 &  -5.00 &    3.00 &  -5.00 &    0.00 &    0.00 &    0.00\\\\\n",
      "    0.00 &    0.00 &    1.00 &    1.00 &  -1.00 &    0.00 &    0.00\\\\\n",
      "    0.00 &    0.00 &    0.00 &    5.00 &    1.00 &    5.00 &    0.00\\\\\n",
      "    0.00 &    0.00 &    0.00 &    0.00 &  -1.00 &    1.00 &    1.00\\\\\n",
      "    0.00 &    0.00 &    0.00 &    0.00 &    0.00 &  -5.00 &   10.00\n",
      "\\end{array}\n"
     ]
    }
   ],
   "source": [
    "a2l.to_ltx(I_prime_modified, frmt = '{:6.2f}', arraytype = 'array')"
   ]
  },
  {
   "cell_type": "code",
   "execution_count": 71,
   "id": "4fea54d8",
   "metadata": {},
   "outputs": [],
   "source": [
    "L, U = choleski_modified(7, I_prime_modified)"
   ]
  },
  {
   "cell_type": "code",
   "execution_count": 72,
   "id": "2c6d64b7",
   "metadata": {},
   "outputs": [
    {
     "name": "stdout",
     "output_type": "stream",
     "text": [
      "L matrix:\n",
      "[[ 3.16227766  0.          0.          0.          0.          0.          0.        ]\n",
      " [-0.31622777  1.22474487  0.          0.          0.          0.          0.        ]\n",
      " [ 0.         -4.0824829   2.51661148  0.          0.          0.          0.        ]\n",
      " [ 0.          0.          0.39735971  1.33771211  0.          0.          0.        ]\n",
      " [ 0.          0.          0.          3.73772501  1.94784949  0.          0.        ]\n",
      " [ 0.          0.          0.          0.         -0.51338669  1.52244194  0.        ]\n",
      " [ 0.          0.          0.          0.          0.         -3.28419749  3.48671631]]\n",
      "U matrix: \n",
      "[[ 3.16227766  1.58113883  0.          0.          0.          0.          0.        ]\n",
      " [ 0.          1.22474487  0.81649658  0.          0.          0.          0.        ]\n",
      " [ 0.          0.          2.51661148 -1.98679854  0.          0.          0.        ]\n",
      " [ 0.          0.          0.          1.33771211 -0.747545    0.          0.        ]\n",
      " [ 0.          0.          0.          0.          1.94784949  2.56693344  0.        ]\n",
      " [ 0.          0.          0.          0.          0.          1.52244194  0.6568395 ]\n",
      " [ 0.          0.          0.          0.          0.          0.          3.48671631]]\n"
     ]
    }
   ],
   "source": [
    "np.set_printoptions(linewidth=150)\n",
    "print('L matrix:')\n",
    "print(L)\n",
    "\n",
    "print('U matrix: ')\n",
    "print(U)"
   ]
  },
  {
   "cell_type": "code",
   "execution_count": 73,
   "id": "9b72ddf5",
   "metadata": {},
   "outputs": [
    {
     "name": "stdout",
     "output_type": "stream",
     "text": [
      "\\begin{array}\n",
      "    3.16 &    0.00 &    0.00 &    0.00 &    0.00 &    0.00 &    0.00\\\\\n",
      "  -0.32 &    1.22 &    0.00 &    0.00 &    0.00 &    0.00 &    0.00\\\\\n",
      "    0.00 &  -4.08 &    2.52 &    0.00 &    0.00 &    0.00 &    0.00\\\\\n",
      "    0.00 &    0.00 &    0.40 &    1.34 &    0.00 &    0.00 &    0.00\\\\\n",
      "    0.00 &    0.00 &    0.00 &    3.74 &    1.95 &    0.00 &    0.00\\\\\n",
      "    0.00 &    0.00 &    0.00 &    0.00 &  -0.51 &    1.52 &    0.00\\\\\n",
      "    0.00 &    0.00 &    0.00 &    0.00 &    0.00 &  -3.28 &    3.49\n",
      "\\end{array}\n"
     ]
    }
   ],
   "source": [
    "a2l.to_ltx(L, frmt = '{:6.2f}', arraytype = 'array')"
   ]
  },
  {
   "cell_type": "code",
   "execution_count": 74,
   "id": "1ef829cd",
   "metadata": {},
   "outputs": [
    {
     "name": "stdout",
     "output_type": "stream",
     "text": [
      "\\begin{array}\n",
      "    3.16 &    1.58 &    0.00 &    0.00 &    0.00 &    0.00 &    0.00\\\\\n",
      "    0.00 &    1.22 &    0.82 &    0.00 &    0.00 &    0.00 &    0.00\\\\\n",
      "    0.00 &    0.00 &    2.52 &  -1.99 &    0.00 &    0.00 &    0.00\\\\\n",
      "    0.00 &    0.00 &    0.00 &    1.34 &  -0.75 &    0.00 &    0.00\\\\\n",
      "    0.00 &    0.00 &    0.00 &    0.00 &    1.95 &    2.57 &    0.00\\\\\n",
      "    0.00 &    0.00 &    0.00 &    0.00 &    0.00 &    1.52 &    0.66\\\\\n",
      "    0.00 &    0.00 &    0.00 &    0.00 &    0.00 &    0.00 &    3.49\n",
      "\\end{array}\n"
     ]
    }
   ],
   "source": [
    "a2l.to_ltx(U, frmt = '{:6.2f}', arraytype = 'array')"
   ]
  },
  {
   "cell_type": "code",
   "execution_count": 75,
   "id": "287d3dae",
   "metadata": {},
   "outputs": [],
   "source": [
    "b = np.array([10, 0, -10, 0, 5, 0, -10])"
   ]
  },
  {
   "cell_type": "code",
   "execution_count": 76,
   "id": "cd14e334",
   "metadata": {},
   "outputs": [],
   "source": [
    "y, x = lu_solver(L, U, b, 7)"
   ]
  },
  {
   "cell_type": "code",
   "execution_count": 77,
   "id": "715260fc",
   "metadata": {},
   "outputs": [
    {
     "name": "stdout",
     "output_type": "stream",
     "text": [
      "\\begin{array}\n",
      "    3.16 &    0.82 &  -2.65 &    0.79 &    1.06 &    0.36 &  -2.53\n",
      "\\end{array}\n"
     ]
    }
   ],
   "source": [
    "a2l.to_ltx(y, frmt = '{:6.2f}', arraytype = 'array')"
   ]
  },
  {
   "cell_type": "code",
   "execution_count": 78,
   "id": "df9edc14",
   "metadata": {},
   "outputs": [
    {
     "name": "stdout",
     "output_type": "stream",
     "text": [
      "\\begin{array}\n",
      "    0.44 &    1.11 &  -0.67 &    0.49 &  -0.18 &    0.55 &  -0.73\n",
      "\\end{array}\n"
     ]
    }
   ],
   "source": [
    "a2l.to_ltx(x, frmt = '{:6.2f}', arraytype = 'array')"
   ]
  },
  {
   "cell_type": "code",
   "execution_count": 78,
   "id": "4c36e833",
   "metadata": {},
   "outputs": [
    {
     "data": {
      "text/plain": [
       "array([[10.,  5.,  0.,  0.,  0.,  0.,  0.],\n",
       "       [-1.,  1.,  1.,  0.,  0.,  0.,  0.],\n",
       "       [ 0., -5.,  3., -5.,  0.,  0.,  0.],\n",
       "       [ 0.,  0.,  1.,  1., -1.,  0.,  0.],\n",
       "       [ 0.,  0.,  0.,  5.,  1.,  5.,  0.],\n",
       "       [ 0.,  0.,  0.,  0., -1.,  1.,  1.],\n",
       "       [ 0.,  0.,  0.,  0.,  0., -5., 10.]])"
      ]
     },
     "execution_count": 78,
     "metadata": {},
     "output_type": "execute_result"
    }
   ],
   "source": [
    "np.matmul(L,U)"
   ]
  },
  {
   "cell_type": "code",
   "execution_count": 61,
   "id": "80f091ba",
   "metadata": {},
   "outputs": [
    {
     "name": "stdout",
     "output_type": "stream",
     "text": [
      "\\begin{array}\n",
      "    1.00 &  -1.00 &    0.00 &    0.00 &  -1.00 &    0.00 &    0.00\\\\\n",
      "    0.00 &  -1.00 &    1.00 &    0.00 &  -1.00 &    0.00 &    1.00\\\\\n",
      "    0.00 &    0.00 &    1.00 &  -1.00 &  -1.00 &    1.00 &    1.00\\\\\n",
      "    0.00 &    0.00 &    0.00 &    1.00 &    6.00 &  -1.00 &    5.00\\\\\n",
      "    0.00 &    0.00 &    0.00 &    0.00 &    1.00 &    0.00 &    0.00\\\\\n",
      "    0.00 &    0.00 &    0.00 &    0.00 &    0.00 &   15.00 & -50.00\\\\\n",
      "    0.00 &    0.00 &    0.00 &    0.00 &    0.00 &    0.00 &   65.00\n",
      "\\end{array}\n"
     ]
    }
   ],
   "source": [
    "a2l.to_ltx(I, frmt = '{:6.2f}', arraytype = 'array')"
   ]
  },
  {
   "cell_type": "code",
   "execution_count": 8,
   "id": "b036de47",
   "metadata": {},
   "outputs": [
    {
     "name": "stdout",
     "output_type": "stream",
     "text": [
      "1\n",
      "1\n",
      "1\n",
      "1\n",
      "1\n",
      "2\n",
      "2\n",
      "2\n",
      "2\n",
      "3\n",
      "3\n",
      "3\n",
      "4\n",
      "4\n",
      "5\n"
     ]
    }
   ],
   "source": [
    "suma1 = 0 \n",
    "suma2 = 0\n",
    "suma3 = 0\n",
    "n = 7\n",
    "for i in range(1, n-1):\n",
    "    suma1 += 1\n",
    "    timesj = 0\n",
    "    for j in range(i + 1, n):\n",
    "        suma2 += 1\n",
    "        timesj += 1\n",
    "        timesk = 0\n",
    "        for k in range(i):\n",
    "            timesk += 1\n",
    "            suma3 += 1\n",
    "        print(timesk)\n",
    "    #print(timesj)"
   ]
  },
  {
   "cell_type": "code",
   "execution_count": 9,
   "id": "94a14884",
   "metadata": {},
   "outputs": [
    {
     "data": {
      "text/plain": [
       "5"
      ]
     },
     "execution_count": 9,
     "metadata": {},
     "output_type": "execute_result"
    }
   ],
   "source": [
    "suma1"
   ]
  },
  {
   "cell_type": "code",
   "execution_count": 10,
   "id": "2fd13426",
   "metadata": {},
   "outputs": [
    {
     "data": {
      "text/plain": [
       "15"
      ]
     },
     "execution_count": 10,
     "metadata": {},
     "output_type": "execute_result"
    }
   ],
   "source": [
    "suma2"
   ]
  },
  {
   "cell_type": "code",
   "execution_count": 11,
   "id": "5a0742fe",
   "metadata": {},
   "outputs": [
    {
     "data": {
      "text/plain": [
       "35"
      ]
     },
     "execution_count": 11,
     "metadata": {},
     "output_type": "execute_result"
    }
   ],
   "source": [
    "suma3"
   ]
  },
  {
   "cell_type": "code",
   "execution_count": 246,
   "id": "65feb5b7",
   "metadata": {},
   "outputs": [
    {
     "data": {
      "text/plain": [
       "3"
      ]
     },
     "execution_count": 246,
     "metadata": {},
     "output_type": "execute_result"
    }
   ],
   "source": [
    "timesk"
   ]
  },
  {
   "cell_type": "code",
   "execution_count": 209,
   "id": "68fb0e1b",
   "metadata": {},
   "outputs": [
    {
     "data": {
      "text/plain": [
       "7"
      ]
     },
     "execution_count": 209,
     "metadata": {},
     "output_type": "execute_result"
    }
   ],
   "source": [
    "n = 8\n",
    "suma = 0\n",
    "for k in range(1, n):\n",
    "       suma += 1\n",
    "suma"
   ]
  },
  {
   "cell_type": "code",
   "execution_count": 234,
   "id": "9a3cff90",
   "metadata": {},
   "outputs": [
    {
     "name": "stdout",
     "output_type": "stream",
     "text": [
      "6\n",
      "5\n",
      "4\n",
      "3\n",
      "2\n",
      "1\n"
     ]
    }
   ],
   "source": [
    "suma = 0\n",
    "suma2 = 0\n",
    "n = 8\n",
    "for i in range(1, n-1):\n",
    "        #suma2 += 1 \n",
    "        # L diagonal\n",
    "        suma = 0\n",
    "        for j in range(i + 1, n):\n",
    "            suma += 1\n",
    "            suma2 +=1\n",
    "        print(suma)"
   ]
  },
  {
   "cell_type": "code",
   "execution_count": 235,
   "id": "da29f1f7",
   "metadata": {},
   "outputs": [
    {
     "data": {
      "text/plain": [
       "1"
      ]
     },
     "execution_count": 235,
     "metadata": {},
     "output_type": "execute_result"
    }
   ],
   "source": [
    "suma"
   ]
  },
  {
   "cell_type": "code",
   "execution_count": 236,
   "id": "d2966844",
   "metadata": {},
   "outputs": [
    {
     "data": {
      "text/plain": [
       "21"
      ]
     },
     "execution_count": 236,
     "metadata": {},
     "output_type": "execute_result"
    }
   ],
   "source": [
    "suma2"
   ]
  },
  {
   "cell_type": "code",
   "execution_count": 12,
   "id": "c98be649",
   "metadata": {},
   "outputs": [],
   "source": [
    "suma = 0\n",
    "n = 7\n",
    "for i in range(1, n-1):\n",
    "    suma += 1"
   ]
  },
  {
   "cell_type": "code",
   "execution_count": 13,
   "id": "a57978be",
   "metadata": {},
   "outputs": [
    {
     "data": {
      "text/plain": [
       "5"
      ]
     },
     "execution_count": 13,
     "metadata": {},
     "output_type": "execute_result"
    }
   ],
   "source": [
    "suma"
   ]
  },
  {
   "cell_type": "code",
   "execution_count": 46,
   "id": "9dadb8e9",
   "metadata": {},
   "outputs": [],
   "source": [
    "n = 5\n",
    "suma = 0\n",
    "for i in range(1, n-1):\n",
    "    suma += 1"
   ]
  },
  {
   "cell_type": "code",
   "execution_count": 47,
   "id": "61b0e37c",
   "metadata": {},
   "outputs": [
    {
     "data": {
      "text/plain": [
       "3"
      ]
     },
     "execution_count": 47,
     "metadata": {},
     "output_type": "execute_result"
    }
   ],
   "source": [
    "suma"
   ]
  },
  {
   "cell_type": "code",
   "execution_count": 81,
   "id": "fe4cb162",
   "metadata": {},
   "outputs": [],
   "source": [
    "suma = 0\n",
    "n = 80\n",
    "for j in range(1, n):\n",
    "    suma += 1"
   ]
  },
  {
   "cell_type": "code",
   "execution_count": 82,
   "id": "e8e5b26b",
   "metadata": {},
   "outputs": [
    {
     "data": {
      "text/plain": [
       "79"
      ]
     },
     "execution_count": 82,
     "metadata": {},
     "output_type": "execute_result"
    }
   ],
   "source": [
    "suma"
   ]
  },
  {
   "cell_type": "code",
   "execution_count": 89,
   "id": "47181073",
   "metadata": {},
   "outputs": [],
   "source": [
    "suma = 0\n",
    "n = 7\n",
    "\n",
    "for i in range(1, n-1):\n",
    "        z = 0\n",
    "        for j in range(i+1, n):\n",
    "            \n",
    "            suma += 1"
   ]
  },
  {
   "cell_type": "code",
   "execution_count": 90,
   "id": "4b529e38",
   "metadata": {},
   "outputs": [
    {
     "data": {
      "text/plain": [
       "15"
      ]
     },
     "execution_count": 90,
     "metadata": {},
     "output_type": "execute_result"
    }
   ],
   "source": [
    "suma"
   ]
  },
  {
   "cell_type": "code",
   "execution_count": 93,
   "id": "09705af8",
   "metadata": {},
   "outputs": [],
   "source": [
    "suma = 0\n",
    "n = 9\n",
    "\n",
    "for k in range(n):\n",
    "    suma += 1"
   ]
  },
  {
   "cell_type": "code",
   "execution_count": 94,
   "id": "c8d87c27",
   "metadata": {},
   "outputs": [
    {
     "data": {
      "text/plain": [
       "9"
      ]
     },
     "execution_count": 94,
     "metadata": {},
     "output_type": "execute_result"
    }
   ],
   "source": [
    "suma"
   ]
  },
  {
   "cell_type": "code",
   "execution_count": 95,
   "id": "247fcf01",
   "metadata": {},
   "outputs": [],
   "source": [
    "n = 7\n",
    "suma = 0\n",
    "for i in range(1, n-1):\n",
    "    suma += 1"
   ]
  },
  {
   "cell_type": "code",
   "execution_count": 96,
   "id": "ce6e2d50",
   "metadata": {},
   "outputs": [
    {
     "data": {
      "text/plain": [
       "5"
      ]
     },
     "execution_count": 96,
     "metadata": {},
     "output_type": "execute_result"
    }
   ],
   "source": [
    "suma"
   ]
  },
  {
   "cell_type": "code",
   "execution_count": null,
   "id": "d623f4cb",
   "metadata": {},
   "outputs": [],
   "source": []
  }
 ],
 "metadata": {
  "kernelspec": {
   "display_name": "Python 3",
   "language": "python",
   "name": "python3"
  },
  "language_info": {
   "codemirror_mode": {
    "name": "ipython",
    "version": 3
   },
   "file_extension": ".py",
   "mimetype": "text/x-python",
   "name": "python",
   "nbconvert_exporter": "python",
   "pygments_lexer": "ipython3",
   "version": "3.5.6"
  }
 },
 "nbformat": 4,
 "nbformat_minor": 5
}
